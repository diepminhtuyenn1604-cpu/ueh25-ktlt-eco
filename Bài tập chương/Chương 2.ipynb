{
 "cells": [
  {
   "cell_type": "code",
   "execution_count": 1,
   "id": "baf81ef0-cd6f-4a39-9965-d6d2ffc2a8d7",
   "metadata": {},
   "outputs": [
    {
     "name": "stdout",
     "output_type": "stream",
     "text": [
      "Hello World\n"
     ]
    }
   ],
   "source": [
    "x = \"Hello World\"\n",
    "print (x)"
   ]
  },
  {
   "cell_type": "code",
   "execution_count": 2,
   "id": "c0d20d7a-0bbe-440f-8678-962fd440213b",
   "metadata": {},
   "outputs": [
    {
     "name": "stdout",
     "output_type": "stream",
     "text": [
      "How are you?\n"
     ]
    }
   ],
   "source": [
    "y = 'How are you?' \n",
    "print(y)"
   ]
  },
  {
   "cell_type": "code",
   "execution_count": 4,
   "id": "c49f378c-7298-43f9-a8a0-f78d88fdc57c",
   "metadata": {},
   "outputs": [
    {
     "name": "stdout",
     "output_type": "stream",
     "text": [
      "I'm fine\n"
     ]
    }
   ],
   "source": [
    "z = 'I\\'m fine'   # gán chuỗi \"I'm fine\" vào biến z \n",
    "print(z)          # in giá trị của biến z ra màn hình\n",
    " "
   ]
  },
  {
   "cell_type": "code",
   "execution_count": 5,
   "id": "cbae5b63-c7ce-448e-9000-ca8a6675b6d9",
   "metadata": {},
   "outputs": [
    {
     "name": "stdout",
     "output_type": "stream",
     "text": [
      "Hello, \n",
      "World\n"
     ]
    }
   ],
   "source": [
    "x = \"Hello, \\nWorld\"   # gán chuỗi vào biến x\n",
    "print(x)               # in ra biến x\n"
   ]
  },
  {
   "cell_type": "code",
   "execution_count": 7,
   "id": "d1412a61-3153-44e9-b082-d3f2f3c31ef8",
   "metadata": {},
   "outputs": [
    {
     "name": "stdout",
     "output_type": "stream",
     "text": [
      "Hello,\n",
      "World\n"
     ]
    }
   ],
   "source": [
    "x = \"\"\"Hello,\n",
    "World\"\"\"   # gán chuỗi vào biến x (dùng 3 dấu nháy kép)\n",
    "print(x)                # in ra biến x\n"
   ]
  },
  {
   "cell_type": "code",
   "execution_count": 9,
   "id": "389eacdb-da23-4e3a-a41e-7c663f179822",
   "metadata": {},
   "outputs": [
    {
     "name": "stdout",
     "output_type": "stream",
     "text": [
      "13\n",
      "Hello World ! 13\n"
     ]
    }
   ],
   "source": [
    "x = \"Hello World !\"     # gán chuỗi \"Hello World !\" vào biến x\n",
    "print(len(x))           # in ra độ dài (số ký tự) của chuỗi x\n",
    "print(x, len(x))"
   ]
  },
  {
   "cell_type": "code",
   "execution_count": 10,
   "id": "bc42fd99-7fab-4986-9232-298a77b19648",
   "metadata": {},
   "outputs": [
    {
     "name": "stdout",
     "output_type": "stream",
     "text": [
      "Hello World\n"
     ]
    }
   ],
   "source": [
    "print(\"Hello\" + \" World\")"
   ]
  },
  {
   "cell_type": "code",
   "execution_count": 11,
   "id": "01fea6e4-a2f9-4e78-8834-513d183b692e",
   "metadata": {},
   "outputs": [
    {
     "name": "stdout",
     "output_type": "stream",
     "text": [
      "Go Habs Go! Go Habs Go! Go Habs Go! Woo Hoo!\n"
     ]
    }
   ],
   "source": [
    "print( 3 * \"Go Habs Go! \" + \"Woo Hoo!\" )\n"
   ]
  },
  {
   "cell_type": "code",
   "execution_count": 12,
   "id": "57048a47-8e40-4b40-a7fe-4e0fdd0e97a7",
   "metadata": {},
   "outputs": [
    {
     "name": "stdout",
     "output_type": "stream",
     "text": [
      "You shall not pass!\n"
     ]
    }
   ],
   "source": [
    "x = ('You shall ' 'not ' \"pass!\") \n",
    "print(x)"
   ]
  },
  {
   "cell_type": "code",
   "execution_count": null,
   "id": "af84424c-045a-4a3d-8c63-a81970b6d633",
   "metadata": {},
   "outputs": [],
   "source": []
  }
 ],
 "metadata": {
  "kernelspec": {
   "display_name": "Python 3 (ipykernel)",
   "language": "python",
   "name": "python3"
  },
  "language_info": {
   "codemirror_mode": {
    "name": "ipython",
    "version": 3
   },
   "file_extension": ".py",
   "mimetype": "text/x-python",
   "name": "python",
   "nbconvert_exporter": "python",
   "pygments_lexer": "ipython3",
   "version": "3.12.1"
  }
 },
 "nbformat": 4,
 "nbformat_minor": 5
}
