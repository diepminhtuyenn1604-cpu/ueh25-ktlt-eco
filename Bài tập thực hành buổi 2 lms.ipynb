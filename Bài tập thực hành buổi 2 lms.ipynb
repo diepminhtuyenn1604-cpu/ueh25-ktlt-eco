{
 "cells": [
  {
   "cell_type": "markdown",
   "id": "c203931e-29ed-4afe-a426-0ed96d3ed214",
   "metadata": {},
   "source": [
    "# BÀI TẬP THỰC HÀNH "
   ]
  },
  {
   "cell_type": "code",
   "execution_count": 1,
   "id": "e5feb69a-ddc7-4bca-be37-84b07a5ba01b",
   "metadata": {},
   "outputs": [
    {
     "name": "stdout",
     "output_type": "stream",
     "text": [
      "Whoever is happy will make others happy too\n",
      "--Anne Frank \n"
     ]
    }
   ],
   "source": [
    "print (\"Whoever is happy will make others happy too\")\n",
    "print (\"--Anne Frank \")"
   ]
  },
  {
   "cell_type": "markdown",
   "id": "abc66338-cf6a-4eb2-9fe2-997e13140074",
   "metadata": {},
   "source": [
    "# Biểu thức tính toán"
   ]
  },
  {
   "cell_type": "code",
   "execution_count": 3,
   "id": "61b8abd6-b6cc-40c6-b229-25efaa4e99d2",
   "metadata": {},
   "outputs": [
    {
     "name": "stdout",
     "output_type": "stream",
     "text": [
      "7\n",
      "-1\n",
      "12\n",
      "3\n",
      "0\n",
      "0.75\n"
     ]
    }
   ],
   "source": [
    "a=3\n",
    "b=4\n",
    "print(a+b)\n",
    "print (a-b)\n",
    "print(a*b)\n",
    "print(a%b)\n",
    "print (a//b)\n",
    "print (a/b)"
   ]
  },
  {
   "cell_type": "markdown",
   "id": "0fcfcbec-b0a0-427f-bed5-880cc32754c6",
   "metadata": {},
   "source": [
    "# Biểu thức so sánh\n"
   ]
  },
  {
   "cell_type": "code",
   "execution_count": 3,
   "id": "65b9d446-277c-4266-aab3-da3b186ecc7b",
   "metadata": {},
   "outputs": [
    {
     "name": "stdout",
     "output_type": "stream",
     "text": [
      "True\n",
      "False\n",
      "False\n",
      "True\n",
      "True\n",
      "True\n"
     ]
    }
   ],
   "source": [
    "print (2.5<6.8)\n",
    "print (2.5>6.8)\n",
    "print (2.5==6.8)\n",
    "print (2.5<=6.8)\n",
    "print (2.5<=6.8)\n",
    "print (2.5!=6.8)"
   ]
  },
  {
   "cell_type": "markdown",
   "id": "6ea10964-2a80-4599-9d7c-7c1cfe99328c",
   "metadata": {},
   "source": [
    "# Tính giá trị hàm số "
   ]
  },
  {
   "cell_type": "code",
   "execution_count": 5,
   "id": "ee08dae4-f3e3-433a-99ba-bc6e69e33ad1",
   "metadata": {},
   "outputs": [
    {
     "name": "stdin",
     "output_type": "stream",
     "text": [
      "Moi ban nhap vao gia tri cua bien so x:  4\n"
     ]
    },
    {
     "name": "stdout",
     "output_type": "stream",
     "text": [
      "Gia tri cua ham so f(4.00) = 12.78.\n"
     ]
    }
   ],
   "source": [
    "# Nạp thư viện\n",
    "import math   # Thư viện math cung cấp các hàm toán học (pow, sqrt, abs...)\n",
    "\n",
    "# Nhập dữ liệu\n",
    "x = float(input(\"Moi ban nhap vao gia tri cua bien so x: \"))  \n",
    "# Người dùng nhập số thực\n",
    "\n",
    "# Xử lý\n",
    "fx = (x\n",
    "      + math.pow(x, 5) / (1 * 2 * 3 * 4 * 5)   # Tính x^5 / 5!\n",
    "      + math.sqrt(abs(x)) / math.pow(x, 3.0 / 2))  # Tính căn(|x|) / x^(3/2)\n",
    "\n",
    "# Xuất dữ liệu\n",
    "print(\"Gia tri cua ham so f(%.2f) = %.2f.\" % (x, fx))\n",
    "# In kết quả ra màn hình với định dạng 2 chữ số thập phân\n",
    "\n"
   ]
  },
  {
   "cell_type": "markdown",
   "id": "7a270d5a-067f-4501-bbbe-84d330e7b387",
   "metadata": {},
   "source": [
    "# Bài tập thực hành "
   ]
  },
  {
   "cell_type": "markdown",
   "id": "b2696a77-2c62-498d-b7f9-34b5ae0031e2",
   "metadata": {},
   "source": [
    "# In nhãn"
   ]
  },
  {
   "cell_type": "code",
   "execution_count": 7,
   "id": "624e9cb8-6e4a-47c9-bf4d-6104edeffdd2",
   "metadata": {},
   "outputs": [
    {
     "name": "stdout",
     "output_type": "stream",
     "text": [
      "**************************\n",
      "* Truong: Dai Hoc UEH    *\n",
      "* Khoa: CNTT             *\n",
      "* Ho ten:                *\n",
      "**************************\n"
     ]
    }
   ],
   "source": [
    "# In ra nhãn nhiều dòng\n",
    "\n",
    "print(\"**************************\")\n",
    "print(\"* Truong: Dai Hoc UEH    *\")\n",
    "print(\"* Khoa: CNTT             *\")\n",
    "print(\"* Ho ten:                *\")\n",
    "print(\"**************************\")\n"
   ]
  },
  {
   "cell_type": "markdown",
   "id": "ab5d0792-8ab7-4119-b827-bbf44cf9161c",
   "metadata": {},
   "source": [
    "# Tính diện tích và chu hình tròn "
   ]
  },
  {
   "cell_type": "code",
   "execution_count": 9,
   "id": "a8151a4b-8d0a-4741-b23a-f60608050766",
   "metadata": {},
   "outputs": [
    {
     "name": "stdout",
     "output_type": "stream",
     "text": [
      "78.5\n",
      "31.400000000000002\n"
     ]
    }
   ],
   "source": [
    "R = 5\n",
    "S = 3.14*(R**2)\n",
    "P = 2*3.14*R\n",
    "print (S)\n",
    "print (P)\n"
   ]
  },
  {
   "cell_type": "markdown",
   "id": "fa826045-3359-4093-a049-30390313db39",
   "metadata": {},
   "source": [
    "#  Đổi sang giây"
   ]
  },
  {
   "cell_type": "code",
   "execution_count": 12,
   "id": "ffb36c9a-ca75-4d8a-b139-2190aa59a0ff",
   "metadata": {},
   "outputs": [
    {
     "name": "stdout",
     "output_type": "stream",
     "text": [
      "4810.0\n"
     ]
    }
   ],
   "source": [
    "from datetime import timedelta\n",
    "\n",
    "duree = timedelta(seconds=10, hours=1, minutes= 20)  \n",
    "print(duree.total_seconds())"
   ]
  },
  {
   "cell_type": "markdown",
   "id": "344019a8-28e0-4604-9924-5b39e274b403",
   "metadata": {},
   "source": [
    " # Đổi sang giờ phút giây  "
   ]
  },
  {
   "cell_type": "code",
   "execution_count": 13,
   "id": "03a11187-c8c1-493c-a707-4ba8fb70e972",
   "metadata": {},
   "outputs": [
    {
     "name": "stdin",
     "output_type": "stream",
     "text": [
      "4810:  4810\n"
     ]
    },
    {
     "name": "stdout",
     "output_type": "stream",
     "text": [
      "4810 giay co dang 1:20:10\n"
     ]
    }
   ],
   "source": [
    "# Đổi từ tổng số giây sang giờ:phút:giây\n",
    "\n",
    "tong_giay = int(input(\"4810: \"))\n",
    "\n",
    "gio = tong_giay // 3600               # Lấy số giờ\n",
    "phut = (tong_giay % 3600) // 60       # Lấy số phút còn lại\n",
    "giay = tong_giay % 60                 # Lấy số giây còn lại\n",
    "\n",
    "print(f\"{tong_giay} giay co dang {gio}:{phut}:{giay}\")\n"
   ]
  },
  {
   "cell_type": "markdown",
   "id": "8915f39e-ddbc-4c28-8895-ba009b3dd758",
   "metadata": {},
   "source": [
    "# Tính diện tích tam giác  "
   ]
  },
  {
   "cell_type": "code",
   "execution_count": 19,
   "id": "1b255a4a-3c63-442a-8f2b-57637e806b28",
   "metadata": {},
   "outputs": [
    {
     "name": "stdout",
     "output_type": "stream",
     "text": [
      "2.9\n"
     ]
    }
   ],
   "source": [
    "a = 2\n",
    "b = 4\n",
    "c = 3\n",
    "\n",
    "p = (a + b + c) / 2   # nửa chu vi\n",
    "\n",
    "S = ((p * (p - a) * (p - b) * (p - c)) ** 0.5)   # công thức Heron\n",
    "\n",
    "print(round(S, 2))   # làm tròn 2 chữ số thập phân\n"
   ]
  },
  {
   "cell_type": "markdown",
   "id": "0de80482-7b34-4e0f-8355-54fe9e9a9883",
   "metadata": {},
   "source": [
    "# Hàm Mũ"
   ]
  },
  {
   "cell_type": "code",
   "execution_count": 20,
   "id": "97a92f02-37c5-4eb1-adb6-e1266593fe6f",
   "metadata": {},
   "outputs": [
    {
     "name": "stdout",
     "output_type": "stream",
     "text": [
      "16\n"
     ]
    }
   ],
   "source": [
    "a = 2\n",
    "n = 4\n",
    "print(a**n)"
   ]
  },
  {
   "cell_type": "markdown",
   "id": "6a0a019a-72f7-4fcd-b262-a27e971801ed",
   "metadata": {},
   "source": [
    "# Đảo số "
   ]
  },
  {
   "cell_type": "code",
   "execution_count": null,
   "id": "ed4d95f5-a321-401b-829f-1fa81f435743",
   "metadata": {},
   "outputs": [],
   "source": []
  }
 ],
 "metadata": {
  "kernelspec": {
   "display_name": "Python 3 (ipykernel)",
   "language": "python",
   "name": "python3"
  },
  "language_info": {
   "codemirror_mode": {
    "name": "ipython",
    "version": 3
   },
   "file_extension": ".py",
   "mimetype": "text/x-python",
   "name": "python",
   "nbconvert_exporter": "python",
   "pygments_lexer": "ipython3",
   "version": "3.12.1"
  }
 },
 "nbformat": 4,
 "nbformat_minor": 5
}
