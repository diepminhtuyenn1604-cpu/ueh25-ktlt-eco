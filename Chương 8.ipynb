{
 "cells": [
  {
   "cell_type": "markdown",
   "id": "6ab51e36-6c68-45a3-866f-e61beb2017fa",
   "metadata": {},
   "source": [
    "# CHƯƠNG 8: Functions\n"
   ]
  },
  {
   "cell_type": "markdown",
   "id": "ee0445a0-1e82-4a0a-ba79-d8ece56c543b",
   "metadata": {},
   "source": [
    "# Definition"
   ]
  },
  {
   "cell_type": "code",
   "execution_count": 5,
   "id": "d9eaf189-3d3b-4390-a0b1-911630f4a93a",
   "metadata": {},
   "outputs": [
    {
     "name": "stdout",
     "output_type": "stream",
     "text": [
      "4\n",
      "9\n"
     ]
    }
   ],
   "source": [
    "def square(x):          # Định nghĩa một hàm tên là square, nhận vào tham số x\n",
    "    return x**2         # Trả về giá trị x bình phương (x mũ 2)\n",
    "print(square(2))\n",
    "\n",
    "print(square(-3))       # Gọi hàm với x = -3, kết quả là (-3) ** 2 = 9\n",
    "\n",
    "\n"
   ]
  },
  {
   "cell_type": "markdown",
   "id": "1381e9d5-6c91-4bd2-9edb-514b6092a5c8",
   "metadata": {},
   "source": [
    "# Adding a Description"
   ]
  },
  {
   "cell_type": "code",
   "execution_count": 13,
   "id": "aff641d4-1b44-4512-b403-9039a358e317",
   "metadata": {},
   "outputs": [
    {
     "name": "stdout",
     "output_type": "stream",
     "text": [
      "9\n"
     ]
    }
   ],
   "source": [
    "def square(x):\n",
    " return x**2\n",
    "print(square(3))\n"
   ]
  },
  {
   "cell_type": "markdown",
   "id": "91cfc34e-52c8-47b7-9a47-779acda32a98",
   "metadata": {},
   "source": [
    "# Definition"
   ]
  },
  {
   "cell_type": "code",
   "execution_count": 18,
   "id": "5e77aa5a-4653-47e7-9475-18ac8d29df67",
   "metadata": {},
   "outputs": [
    {
     "name": "stdout",
     "output_type": "stream",
     "text": [
      "12.311444133449164\n"
     ]
    }
   ],
   "source": [
    "def production(l, k, m):\n",
    " return l**0.3 * k**0.5 * m**(0.2)\n",
    "print(production(10, 20, 5))  \n",
    "\n"
   ]
  },
  {
   "cell_type": "markdown",
   "id": "4898646e-dffe-444a-9712-67475b079cc1",
   "metadata": {},
   "source": [
    "# Call Without Argument Names\n"
   ]
  },
  {
   "cell_type": "code",
   "execution_count": 20,
   "id": "3f55e556-44ca-4dd1-8d76-66a7891ec722",
   "metadata": {},
   "outputs": [
    {
     "name": "stdout",
     "output_type": "stream",
     "text": [
      "46.289449781254994\n"
     ]
    }
   ],
   "source": [
    "prod_val = production(60, 42, 40) #if we are given L = 60 and K = 42 and M = 40\n",
    "print(prod_val)\n"
   ]
  },
  {
   "cell_type": "markdown",
   "id": "3d21a6bf-3f3b-4698-a0f2-473c17063194",
   "metadata": {},
   "source": [
    "# Positional Arguments, Arguments by Keywords"
   ]
  },
  {
   "cell_type": "code",
   "execution_count": 26,
   "id": "2385eb1d-d00a-4d66-b289-bc21fd26d7df",
   "metadata": {},
   "outputs": [
    {
     "name": "stdout",
     "output_type": "stream",
     "text": [
      "[41.59215573604822, 41.59215573604822, 41.59215573604822, 41.59215573604822]\n",
      "[41.59215573604822, 41.59215573604822, 41.59215573604822, 41.59215573604822]\n"
     ]
    }
   ],
   "source": [
    "def production_2(l, m, k=42):\n",
    "    return l**0.3 * k**0.5 * m**0.2\n",
    "\n",
    "# Bây giờ mới gọi hàm để tính\n",
    "prod_val_1 = production_2(l=42, m=40)          # bỏ qua k, dùng mặc định 42\n",
    "prod_val_2 = production_2(l=42, m=40, k=42)    # truyền tất cả\n",
    "prod_val_3 = production_2(42, 40, k=42)        # chỉ truyền k theo tên\n",
    "prod_val_4 = production_2(42, 40, 42)          # không đặt tên tham số\n",
    "\n",
    "# Đưa kết quả vào danh sách\n",
    "res = [prod_val_1, prod_val_2, prod_val_3, prod_val_4]\n",
    "print(res)\n",
    "\n",
    "    # Gọi hàm production với 4 bộ giá trị khác nhau\n",
    "# By naming all argument, by ommitting k\n",
    "#prod_val_1 = production_2(l = 42, m = 40)\n",
    "# By naming all argument and specifying k\n",
    "#prod_val_2 = production_2(l = 42, m = 40, k = 42)\n",
    "# By naming only the argument k\n",
    "#prod_val_3 = production_2(42, 40, k = 42)\n",
    "# Without naming any argument\n",
    "#prod_val_4 = production_2(42, 40, 42)\n",
    "\n",
    "# Đưa các kết quả vào danh sách\n",
    "res = [prod_val_1, prod_val_2, prod_val_3, prod_val_4]\n",
    "print(res)   # In ra danh sách các giá trị sản lượng\n",
    "\n"
   ]
  },
  {
   "cell_type": "markdown",
   "id": "151c9dd0-136f-40b6-8f32-13c17f2f8f8a",
   "metadata": {},
   "source": [
    "# Function as an Argument to Another Function"
   ]
  },
  {
   "cell_type": "code",
   "execution_count": 27,
   "id": "d094d06e-3fae-4ef0-bff9-57d29b5eb08d",
   "metadata": {},
   "outputs": [
    {
     "name": "stdout",
     "output_type": "stream",
     "text": [
      "16\n"
     ]
    }
   ],
   "source": [
    "def square(x):\n",
    "    \"\"\"Returns the squared value of x\"\"\"\n",
    "    return x**2                  # Trả về bình phương của x\n",
    "\n",
    "def apply_fun_to_4(fun):\n",
    "    \"\"\"Applies the function `fun` to 4\"\"\"\n",
    "    return fun(4)                 # Gọi hàm fun với đối số là 4\n",
    "\n",
    "print(apply_fun_to_4(square))     # Truyền hàm square vào, tức là tính square(4)\n"
   ]
  },
  {
   "cell_type": "markdown",
   "id": "344912e5-24cb-44c9-9b94-4d650f4fefd4",
   "metadata": {},
   "source": [
    "# Scope of a Function"
   ]
  },
  {
   "cell_type": "code",
   "execution_count": 34,
   "id": "bd1dce2f-1d7c-4f7d-80ec-9ff91339f326",
   "metadata": {},
   "outputs": [
    {
     "name": "stdout",
     "output_type": "stream",
     "text": [
      "value equals:  2\n",
      "new_value equals:  3\n",
      "Kết quả trả về: 5\n"
     ]
    }
   ],
   "source": [
    "value = 1                     # Biến toàn cục (global)\n",
    "\n",
    "def f(x):                     \n",
    "    value = 2                 # Biến cục bộ (local)\n",
    "    new_value = 3             # Biến cục bộ khác\n",
    "    print(\"value equals: \", value)       # In ra 2 (biến cục bộ)\n",
    "    print(\"new_value equals: \", new_value) # In ra 3\n",
    "    return x + value          # Trả về x + 2\n",
    "\n",
    "res = f(3)\n",
    "print(\"Kết quả trả về:\", res)\n",
    "\n"
   ]
  },
  {
   "cell_type": "code",
   "execution_count": 35,
   "id": "d43b62b4-1fda-4444-8ff1-1243b3ae9991",
   "metadata": {},
   "outputs": [
    {
     "name": "stdout",
     "output_type": "stream",
     "text": [
      "3\n"
     ]
    }
   ],
   "source": [
    "value = 1                # Biến toàn cục (global)\n",
    "\n",
    "def f(x):                # Định nghĩa hàm f\n",
    "    return x + value     # Lấy x cộng với biến toàn cục value\n",
    "\n",
    "print(f(2))              # Gọi hàm với x = 2\n"
   ]
  },
  {
   "cell_type": "code",
   "execution_count": 36,
   "id": "789b2dd4-4979-4edd-a1d6-56627244b7d0",
   "metadata": {},
   "outputs": [
    {
     "name": "stdout",
     "output_type": "stream",
     "text": [
      "4\n"
     ]
    }
   ],
   "source": [
    "value = 1                 # biến toàn cục\n",
    "\n",
    "def f():                  \n",
    "    value = 2             # biến cục bộ của hàm f\n",
    "\n",
    "    def g(x):             # định nghĩa hàm g bên trong f\n",
    "        return x + value  # g() sẽ dùng biến value ở scope gần nhất (của f)\n",
    "\n",
    "    return g(2)           # gọi g(2) và trả về kết quả\n",
    "\n",
    "print(f())\n"
   ]
  },
  {
   "cell_type": "code",
   "execution_count": 37,
   "id": "9bc42569-e704-4720-aeef-3b9b0c0df0f7",
   "metadata": {},
   "outputs": [
    {
     "name": "stdout",
     "output_type": "stream",
     "text": [
      "3\n"
     ]
    }
   ],
   "source": [
    "value = 1                 # biến toàn cục (global)\n",
    "\n",
    "def f():                  \n",
    "    def g(x):             # định nghĩa hàm g bên trong f\n",
    "        return x + value  # g() sẽ cộng x với biến toàn cục value = 1\n",
    "    \n",
    "    return g(2)           # gọi g(2) và trả về kết quả\n",
    "\n",
    "print(f())\n"
   ]
  },
  {
   "cell_type": "code",
   "execution_count": 1,
   "id": "076ba748-d633-465e-999f-9e51fe6ea7f0",
   "metadata": {},
   "outputs": [
    {
     "name": "stdout",
     "output_type": "stream",
     "text": [
      "4\n"
     ]
    }
   ],
   "source": [
    "def f(x):      \n",
    "    global y          # Khai báo rằng y là biến toàn cục (global)\n",
    "    y = x + 1         # Gán giá trị cho biến toàn cục y\n",
    "\n",
    "f(3)                  # Gọi hàm với x = 3\n",
    "print(y)              # In ra giá trị của y\n"
   ]
  },
  {
   "cell_type": "markdown",
   "id": "d17aae4c-570a-46ef-afcd-c456104e2cb9",
   "metadata": {},
   "source": [
    "# Lambda Functions"
   ]
  },
  {
   "cell_type": "code",
   "execution_count": 2,
   "id": "9f41b494-9689-481d-a5fa-b401cbbd187d",
   "metadata": {},
   "outputs": [
    {
     "name": "stdout",
     "output_type": "stream",
     "text": [
      "16\n",
      "16\n"
     ]
    }
   ],
   "source": [
    "def square(x):          # Định nghĩa một hàm bình thường\n",
    "    return x**2         # Trả về x bình phương\n",
    "\n",
    "square_2 = lambda x: x**2   # Định nghĩa hàm bằng lambda (hàm ẩn danh)\n",
    "\n",
    "print(square_2(4))      # Gọi square_2(4) = 4**2 = 16\n",
    "print((lambda x: x**2)(4))   # dùng trực tiếp lambda mà không cần định nghĩa trước:\n",
    "\n",
    "\n",
    "\n"
   ]
  },
  {
   "cell_type": "code",
   "execution_count": 5,
   "id": "b2a6bc94-b517-429e-97e5-1518ff6a6d7e",
   "metadata": {},
   "outputs": [
    {
     "name": "stdout",
     "output_type": "stream",
     "text": [
      "40.987803063838406\n"
     ]
    }
   ],
   "source": [
    "def production(l, k, m):\n",
    " return l**0.3 * k**0.5 * m**(0.2)\n",
    "production_2 = lambda l,k,m : l**0.3 * k**0.5 * m**(0.2)\n",
    "print(production(42, 40, 42))"
   ]
  },
  {
   "cell_type": "code",
   "execution_count": 10,
   "id": "27353935-aa0d-4c7e-a559-7f6c34c0a4a8",
   "metadata": {},
   "outputs": [
    {
     "name": "stdout",
     "output_type": "stream",
     "text": [
      "324.7488447360318\n"
     ]
    }
   ],
   "source": [
    "def production(l,k,m):\n",
    "    return l**0.3 *k**0.5 * m**0.6\n",
    "production_2=lambda l,k,m : l**0.3 * k**0.5 * m**0.6\n",
    "print(production(40,60,80))"
   ]
  },
  {
   "cell_type": "markdown",
   "id": "6a6ef63a-f445-4043-8e25-4396e271442c",
   "metadata": {},
   "source": [
    "# Returning Several Values\n"
   ]
  },
  {
   "cell_type": "code",
   "execution_count": 11,
   "id": "55c80de7-f87f-4b02-a9ff-680d066ff3ff",
   "metadata": {},
   "outputs": [
    {
     "name": "stdout",
     "output_type": "stream",
     "text": [
      "{'mean': 3.9, 'std_dev': 2.8460498941515415}\n"
     ]
    }
   ],
   "source": [
    "import statistics\n",
    "\n",
    "def desc_stats(x):\n",
    "    \"\"\"Returns the mean and standard deviation of `x`\"\"\"\n",
    "    return {\n",
    "        \"mean\": statistics.mean(x),        # giá trị trung bình\n",
    "        \"std_dev\": statistics.stdev(x)     # độ lệch chuẩn\n",
    "    }\n",
    "\n",
    "x = [1, 3, 2, 6, 4, 1, 8, 9, 3, 2]   # danh sách dữ liệu\n",
    "res = desc_stats(x)                  # gọi hàm\n",
    "print(res)                           # in kết quả\n"
   ]
  },
  {
   "cell_type": "code",
   "execution_count": 14,
   "id": "2622ffb0-dbfa-4bc8-a740-1735709c5937",
   "metadata": {},
   "outputs": [
    {
     "name": "stdout",
     "output_type": "stream",
     "text": [
      "{'mean': 3.9, 'std_dev': 2.8460498941515415}\n"
     ]
    }
   ],
   "source": [
    "import statistics\n",
    "\n",
    "def desc_stats(x):\n",
    "    return {\n",
    "        \"mean\": statistics.mean(x),\n",
    "        \"std_dev\": statistics.stdev(x)\n",
    "    }\n",
    "x= [1,3,2,6,4,1,8,9,3,2]\n",
    "res = desc_stats(x)                  # gọi hàm\n",
    "print(res)\n"
   ]
  },
  {
   "cell_type": "markdown",
   "id": "fb46fbe7-636b-4279-816d-cce1d7082b0a",
   "metadata": {},
   "source": [
    "# Exercise\n"
   ]
  },
  {
   "cell_type": "code",
   "execution_count": 15,
   "id": "0e3620d9-0757-47cd-9e7a-6dccbf104946",
   "metadata": {},
   "outputs": [
    {
     "name": "stdout",
     "output_type": "stream",
     "text": [
      "Sum of first 5 integers = 15\n",
      "Sum of first 2 integers = 3\n",
      "Sum of first 3 integers = 6\n",
      "Sum of first 4 integers = 10\n",
      "Sum of first 5 integers = 15\n",
      "Sum of first 6 integers = 21\n",
      "Sum of first 7 integers = 28\n",
      "Sum of first 8 integers = 36\n",
      "Sum of first 9 integers = 45\n",
      "Sum of first 10 integers = 55\n",
      "Euclidean distance (function): 5.0\n",
      "Euclidean distance (lambda): 5.0\n"
     ]
    }
   ],
   "source": [
    "import math\n",
    "\n",
    "# 1. Hàm tính tổng n số nguyên đầu tiên\n",
    "def sum_n_integers(n):\n",
    "    return sum(range(1, n+1))\n",
    "\n",
    "# 2. In ra tổng của 2 số đầu tiên, 3 số đầu tiên, … đến 10\n",
    "def print_sums():\n",
    "    for i in range(2, 11):\n",
    "        print(f\"Sum of first {i} integers = {sum_n_integers(i)}\")\n",
    "\n",
    "# 3a. Hàm tính khoảng cách Euclidean (dùng function)\n",
    "def euclidean_distance(x1, y1, x2, y2):\n",
    "    return math.sqrt((x2 - x1)**2 + (y2 - y1)**2)\n",
    "\n",
    "# 3b. Hàm tính khoảng cách Euclidean (dùng lambda)\n",
    "distance = lambda x1, y1, x2, y2: ((x2 - x1)**2 + (y2 - y1)**2) ** 0.5\n",
    "\n",
    "# --- Chạy tất cả ---\n",
    "if __name__ == \"__main__\":\n",
    "    # Test phần 1\n",
    "    print(\"Sum of first 5 integers =\", sum_n_integers(5))\n",
    "    \n",
    "    # Test phần 2\n",
    "    print_sums()\n",
    "    \n",
    "    # Test phần 3\n",
    "    print(\"Euclidean distance (function):\", euclidean_distance(0, 0, 3, 4))\n",
    "    print(\"Euclidean distance (lambda):\", distance(0, 0, 3, 4))\n"
   ]
  },
  {
   "cell_type": "markdown",
   "id": "426ccdcb-c948-41a7-9d1e-0d2f87ab558f",
   "metadata": {},
   "source": [
    "# Kết thúc"
   ]
  },
  {
   "cell_type": "code",
   "execution_count": null,
   "id": "37590780-eb74-449d-a6c9-2f56c8861702",
   "metadata": {},
   "outputs": [],
   "source": []
  }
 ],
 "metadata": {
  "kernelspec": {
   "display_name": "Python 3 (ipykernel)",
   "language": "python",
   "name": "python3"
  },
  "language_info": {
   "codemirror_mode": {
    "name": "ipython",
    "version": 3
   },
   "file_extension": ".py",
   "mimetype": "text/x-python",
   "name": "python",
   "nbconvert_exporter": "python",
   "pygments_lexer": "ipython3",
   "version": "3.12.1"
  }
 },
 "nbformat": 4,
 "nbformat_minor": 5
}
