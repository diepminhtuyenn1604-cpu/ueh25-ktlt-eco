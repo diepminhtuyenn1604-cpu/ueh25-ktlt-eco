{
 "cells": [
  {
   "cell_type": "markdown",
   "id": "bb504d46-323f-403e-b376-0c50666baf2e",
   "metadata": {},
   "source": [
    "# CHƯƠNG 3: Structures\n"
   ]
  },
  {
   "cell_type": "markdown",
   "id": "f0ec1d90-6983-4261-b6b6-21206ab11e7b",
   "metadata": {},
   "source": [
    "# List "
   ]
  },
  {
   "cell_type": "code",
   "execution_count": 1,
   "id": "82141b7d-f090-4b65-900c-6b3323fc11e7",
   "metadata": {},
   "outputs": [
    {
     "name": "stdout",
     "output_type": "stream",
     "text": [
      "['Pascaline', 'Gauthier', 'Xuan', 'Jimmy']\n"
     ]
    }
   ],
   "source": [
    "# Tạo một list (danh sách) gồm 4 phần tử kiểu chuỗi (string)\n",
    "x = [\"Pascaline\", \"Gauthier\", \"Xuan\", \"Jimmy\"]\n",
    "\n",
    "# In toàn bộ list x ra màn hình\n",
    "print(x)   # Kết quả: ['Pascaline', 'Gauthier', 'Xuan', 'Jimmy']\n"
   ]
  },
  {
   "cell_type": "code",
   "execution_count": 2,
   "id": "bb805f25-d937-4024-a286-b50293439b3a",
   "metadata": {},
   "outputs": [
    {
     "name": "stdout",
     "output_type": "stream",
     "text": [
      "[1, 2, 3, 4, 5]\n"
     ]
    }
   ],
   "source": [
    "y = [1, 2, 3, 4, 5]\n",
    "print(y)\n"
   ]
  },
  {
   "cell_type": "code",
   "execution_count": 3,
   "id": "479214aa-d5bc-4a34-baac-3354594246c3",
   "metadata": {},
   "outputs": [
    {
     "name": "stdout",
     "output_type": "stream",
     "text": [
      "['Piketty', 'Thomas', 1971]\n"
     ]
    }
   ],
   "source": [
    "z = [\"Piketty\", \"Thomas\", 1971]\n",
    "print(z)"
   ]
  },
  {
   "cell_type": "code",
   "execution_count": 4,
   "id": "9a8ba94f-f2d3-4f16-a29f-4d62325ca94b",
   "metadata": {},
   "outputs": [
    {
     "name": "stdout",
     "output_type": "stream",
     "text": [
      "[['aaa', 'bbb'], ['Anne', 'Bob', 'Irma', 'John']]\n"
     ]
    }
   ],
   "source": [
    "tweets = [\"aaa\", \"bbb\"]\n",
    "followers = [\"Anne\", \"Bob\", \"Irma\", \"John\"]\n",
    "compte = [tweets, followers]\n",
    "print(compte)\n"
   ]
  },
  {
   "cell_type": "markdown",
   "id": "6e2a4fd0-9d80-4db7-9e9a-82f4d84b6d55",
   "metadata": {},
   "source": [
    "#  Extraction of the Elements"
   ]
  },
  {
   "cell_type": "code",
   "execution_count": 5,
   "id": "71c04588-ce92-4b3b-968a-76ebde86f6ed",
   "metadata": {},
   "outputs": [
    {
     "name": "stdout",
     "output_type": "stream",
     "text": [
      "Pascaline\n",
      "Gauthier\n",
      "Jimmy\n",
      "Xuan\n",
      "['Gauthier']\n",
      "['Xuan', 'Jimmy']\n",
      "['Pascaline', 'Gauthier']\n"
     ]
    }
   ],
   "source": [
    "x = [\"Pascaline\", \"Gauthier\", \"Xuan\", \"Jimmy\"]\n",
    "\n",
    "# In ra phần tử đầu tiên của list x\n",
    "print(x[0])   # The first element of x\n",
    "              # Kết quả: Pascaline\n",
    "print(x[1]) # The second element of x\n",
    "print(x[-1]) # The last element of x\n",
    "print(x[-2]) # The penultimate element of x\n",
    "print(x[1:2]) # The first and second elements of x\n",
    "print(x[2:]) # From the second element (not included) to the end of x\n",
    "print(x[:-2])\n"
   ]
  },
  {
   "cell_type": "code",
   "execution_count": 6,
   "id": "ddf5a2e1-0668-4286-9290-46dbd372c3a1",
   "metadata": {},
   "outputs": [
    {
     "name": "stdout",
     "output_type": "stream",
     "text": [
      "John\n",
      "2\n",
      "4\n"
     ]
    }
   ],
   "source": [
    "tweets = [\"aaa\", \"bbb\"]  \n",
    "# List 1: chứa 2 chuỗi \"aaa\" và \"bbb\"\n",
    "\n",
    "followers = [\"Anne\", \"Bob\", \"Irma\", \"John\"]  \n",
    "# List 2: chứa 4 chuỗi (tên người theo dõi)\n",
    "\n",
    "conuts = [tweets, followers]  \n",
    "# Tạo một list mới (conuts) gồm 2 phần tử:\n",
    "#   conuts[0] = tweets = [\"aaa\", \"bbb\"]\n",
    "#   conuts[1] = followers = [\"Anne\", \"Bob\", \"Irma\", \"John\"]\n",
    "\n",
    "res = conuts[1][3]  \n",
    "# conuts[1] nghĩa là lấy phần tử thứ 2 trong conuts → chính là list followers\n",
    "# followers = [\"Anne\", \"Bob\", \"Irma\", \"John\"]\n",
    "# conuts[1][3] nghĩa là lấy phần tử thứ 4 trong followers (index 3 = \"John\")\n",
    "\n",
    "print(res)  \n",
    "print(len(conuts))\n",
    "print(len(conuts[1]))\n",
    "#conuts[1] → truy cập phần tử thứ hai của list conuts, chính là list followers.\n",
    "\n",
    "\n"
   ]
  },
  {
   "cell_type": "markdown",
   "id": "e9f28712-f7ef-4d6b-8eb1-c9b0c77cf322",
   "metadata": {},
   "source": [
    "# Replacement"
   ]
  },
  {
   "cell_type": "code",
   "execution_count": 7,
   "id": "d0499ecf-4e57-49cd-8a67-cabbabe24af1",
   "metadata": {},
   "outputs": [
    {
     "name": "stdout",
     "output_type": "stream",
     "text": [
      "[1, 3, 5, 7, 9]\n"
     ]
    }
   ],
   "source": [
    "x = [1, 3, 5, 6, 9]\n",
    "x[3] = 7 # Replacing the 4th element\n",
    "print(x)"
   ]
  },
  {
   "cell_type": "code",
   "execution_count": 8,
   "id": "6ba42669-7194-4e08-ad6b-6a5063edc907",
   "metadata": {},
   "outputs": [
    {
     "name": "stdout",
     "output_type": "stream",
     "text": [
      "[1, 3, 5, 7, 9]\n"
     ]
    }
   ],
   "source": [
    "x = [1, 3, 5, 6, 9]\n",
    "x[3] = 7 # Replacing the 4th element\n",
    "print(x)"
   ]
  },
  {
   "cell_type": "code",
   "execution_count": 9,
   "id": "742d25ee-5a61-483b-92b0-d18f71542ae5",
   "metadata": {},
   "outputs": [
    {
     "name": "stdout",
     "output_type": "stream",
     "text": [
      "[1, 3, 5, 7, 9, 13, 15]\n"
     ]
    }
   ],
   "source": [
    "y = [13, 15]\n",
    "x.extend(y)\n",
    "print(x)\n"
   ]
  },
  {
   "cell_type": "markdown",
   "id": "ab602080-3d0c-4ad3-b9aa-2482b5d2f3d8",
   "metadata": {},
   "source": [
    "# Deleting Elements\n"
   ]
  },
  {
   "cell_type": "code",
   "execution_count": 10,
   "id": "69a19b6e-e58f-4d57-be42-aeaa1e33d47c",
   "metadata": {},
   "outputs": [
    {
     "name": "stdout",
     "output_type": "stream",
     "text": [
      "[1, 5, 6, 9]\n"
     ]
    }
   ],
   "source": [
    "x = [1, 3, 5, 6, 9]\n",
    "x.remove(3) # Remove the fourth element\n",
    "print(x)\n"
   ]
  },
  {
   "cell_type": "code",
   "execution_count": 11,
   "id": "7159f69e-fda6-4e8a-8aae-c022c46cd418",
   "metadata": {},
   "outputs": [
    {
     "name": "stdout",
     "output_type": "stream",
     "text": [
      "[1, 3, 5, 9]\n"
     ]
    }
   ],
   "source": [
    "x = [1, 3, 5, 6, 9]\n",
    "del x[3] # Remove the fourth element\n",
    "print(x)\n"
   ]
  },
  {
   "cell_type": "markdown",
   "id": "a9ea1ba3-b1ec-4dd5-a0e5-d5751d4452a9",
   "metadata": {},
   "source": [
    "# Multiple assignments"
   ]
  },
  {
   "cell_type": "code",
   "execution_count": 12,
   "id": "518b735b-961a-4bba-a421-85a3e348c9c4",
   "metadata": {},
   "outputs": [
    {
     "name": "stdout",
     "output_type": "stream",
     "text": [
      "[1, 3, 5, 7, 9]\n"
     ]
    }
   ],
   "source": [
    "x = [1, 3, 5, 6, 10]\n",
    "x[3:5] = [7, 9] # Replaces 4th and 5th values\n",
    "print(x)"
   ]
  },
  {
   "cell_type": "code",
   "execution_count": 13,
   "id": "1750ed71-ef00-409e-b716-96c1d713a75d",
   "metadata": {},
   "outputs": [
    {
     "name": "stdout",
     "output_type": "stream",
     "text": [
      "[1, 2, 'a', 'b', 'c', 'd', 4, 5]\n"
     ]
    }
   ],
   "source": [
    "x = [1, 2, 3, 4, 5]\n",
    "x[2:3] = ['a', 'b', 'c', 'd'] # Replaces the 3rd value\n",
    "print(x)"
   ]
  },
  {
   "cell_type": "code",
   "execution_count": 14,
   "id": "65b9ed77-5de4-4bbb-b749-fa9d7081c156",
   "metadata": {},
   "outputs": [
    {
     "name": "stdout",
     "output_type": "stream",
     "text": [
      "[1, 2, 3]\n"
     ]
    }
   ],
   "source": [
    "x = [1, 2, 3, 4, 5]\n",
    "x[3:5] = [] # Removes the 4th and 5th values\n",
    "print(x)"
   ]
  },
  {
   "cell_type": "markdown",
   "id": "cce33c53-d816-47a1-98de-9792583f40c1",
   "metadata": {},
   "source": [
    "# Verifying if a Value is Present"
   ]
  },
  {
   "cell_type": "code",
   "execution_count": 15,
   "id": "d2e682f0-62f5-45ae-842f-8d4459e8d2f2",
   "metadata": {},
   "outputs": [
    {
     "name": "stdout",
     "output_type": "stream",
     "text": [
      "True\n"
     ]
    }
   ],
   "source": [
    "x = [1, 2, 3, 4, 5]\n",
    "print(1 in x)\n"
   ]
  },
  {
   "cell_type": "code",
   "execution_count": 16,
   "id": "9bfd87f5-5235-4dd6-81dc-2427430276e1",
   "metadata": {},
   "outputs": [
    {
     "name": "stdout",
     "output_type": "stream",
     "text": [
      "True\n"
     ]
    }
   ],
   "source": [
    "x = [1, 2, 3, 4, 5]   # Tạo một list x gồm các số nguyên từ 1 đến 5\n",
    "\n",
    "print(1 in x)          # Kiểm tra xem giá trị 1 có nằm trong list x không\n",
    "                       # Nếu có → trả về True, nếu không → trả về False\n",
    "                       # Vì 1 có trong list x nên kết quả in ra sẽ là True\n"
   ]
  },
  {
   "cell_type": "markdown",
   "id": "bb16a814-f6e1-40b5-a09e-ec09fb66710e",
   "metadata": {},
   "source": [
    "# Copy of List"
   ]
  },
  {
   "cell_type": "code",
   "execution_count": 17,
   "id": "ef0b14d7-bdf0-4721-acea-1f21e44c9d19",
   "metadata": {},
   "outputs": [
    {
     "name": "stdout",
     "output_type": "stream",
     "text": [
      "[0, 2, 3]\n",
      "[0, 2, 3]\n"
     ]
    }
   ],
   "source": [
    "x = [1, 2, 3]   # Tạo một list x gồm các phần tử [1, 2, 3]\n",
    "\n",
    "y = x           # Gán y tham chiếu đến cùng một list với x\n",
    "                # Nghĩa là x và y cùng trỏ đến một vùng nhớ trong bộ nhớ\n",
    "y[0] = 0\n",
    "print(y)\n",
    "print(x)\n"
   ]
  },
  {
   "cell_type": "code",
   "execution_count": 18,
   "id": "212a3da0-a082-4baa-ab25-b2afb885c98f",
   "metadata": {},
   "outputs": [
    {
     "name": "stdout",
     "output_type": "stream",
     "text": [
      "x :  [1, 2, 3]\n",
      "y :  [0, 2, 3]\n"
     ]
    }
   ],
   "source": [
    "x = [1, 2, 3]\n",
    "y = list(x)\n",
    "y[0] = 0\n",
    "print(\"x : \", x)\n",
    "print(\"y : \", y)\n"
   ]
  },
  {
   "cell_type": "code",
   "execution_count": 19,
   "id": "87880502-2319-4e07-81ca-1e1e0861d5d9",
   "metadata": {},
   "outputs": [
    {
     "name": "stdout",
     "output_type": "stream",
     "text": [
      "x :  [1, 2, 3, 4]\n",
      "y :  [0, 2]\n"
     ]
    }
   ],
   "source": [
    "x = [1, 2, 3, 4]    # Tạo list x = [1, 2, 3, 4]\n",
    "\n",
    "y = x[:2]           # Cắt (slice) 2 phần tử đầu tiên của x\n",
    "                    # y = [1, 2]\n",
    "                    # Lưu ý: phép slice tạo ra một bản sao mới, KHÔNG phải tham chiếu cùng list với x\n",
    "\n",
    "y[0] = 0            # Thay đổi phần tử đầu tiên của y thành 0\n",
    "                    # y bây giờ = [0, 2]\n",
    "\n",
    "print(\"x : \", x)    # In list x ra màn hình\n",
    "print(\"y : \", y)\n",
    "\n"
   ]
  },
  {
   "cell_type": "markdown",
   "id": "b37db305-1d8a-4e64-b93b-b9a723ee06e2",
   "metadata": {},
   "source": [
    "# Sorting"
   ]
  },
  {
   "cell_type": "code",
   "execution_count": 20,
   "id": "d49f2b0b-d6de-48a9-8f59-99caed63aa98",
   "metadata": {},
   "outputs": [
    {
     "name": "stdout",
     "output_type": "stream",
     "text": [
      "[1, 2, 3, 4]\n"
     ]
    }
   ],
   "source": [
    "x = [2, 1, 4, 3]   # Tạo list x với 4 phần tử: [2, 1, 4, 3]\n",
    "\n",
    "x.sort()           # Hàm sort() sẽ sắp xếp list x tại chỗ (in-place)\n",
    "                   # Mặc định sắp xếp tăng dần (từ nhỏ đến lớn)\n",
    "\n",
    "print(x)           # In ra list sau khi đã được sắp xếp\n"
   ]
  },
  {
   "cell_type": "code",
   "execution_count": 21,
   "id": "69dee3c2-5022-4581-b064-3ca0c403dbb2",
   "metadata": {},
   "outputs": [
    {
     "name": "stdout",
     "output_type": "stream",
     "text": [
      "['a', 'a', 'b', 'c']\n"
     ]
    }
   ],
   "source": [
    "x = [\"c\", \"b\", \"a\", \"a\"]\n",
    "x.sort()\n",
    "print(x)\n"
   ]
  },
  {
   "cell_type": "code",
   "execution_count": 22,
   "id": "61a6bc43-8b0f-4f89-a382-dfdfbba277d4",
   "metadata": {},
   "outputs": [
    {
     "name": "stdout",
     "output_type": "stream",
     "text": [
      "['a', 'aa', 'aa', 'aaaaa']\n"
     ]
    }
   ],
   "source": [
    "x = [\"aa\", \"a\", \"aaaaa\", \"aa\"]   # Tạo list gồm 4 chuỗi\n",
    "\n",
    "x.sort(key=len)                  # Sắp xếp list theo độ dài chuỗi (len)\n",
    "                                 # key=len nghĩa là lấy \"độ dài chuỗi\" làm tiêu chí so sánh\n",
    "\n",
    "print(x)                         # In list sau khi đã được sắp xếp\n"
   ]
  },
  {
   "cell_type": "markdown",
   "id": "ee31c9ae-d204-4876-826b-8c49c7504184",
   "metadata": {},
   "source": [
    "# Tupees"
   ]
  },
  {
   "cell_type": "code",
   "execution_count": 23,
   "id": "95edddfe-8f3e-4470-aa4f-48d5fb398f60",
   "metadata": {},
   "outputs": [
    {
     "name": "stdout",
     "output_type": "stream",
     "text": [
      "(1, 4, 9, 16, 25)\n",
      "1\n",
      "((1, 4, 9, 16), (1, 8, 26, 64))\n"
     ]
    }
   ],
   "source": [
    "x = 1, 4, 9, 16, 25   # Đây KHÔNG phải là list vì không có dấu ngoặc vuông []\n",
    "                      # Đây là một tuple (bộ giá trị bất biến) trong Python\n",
    "                      # x = (1, 4, 9, 16, 25)\n",
    "\n",
    "print(x)              # In tuple ra màn hình\n",
    "print(x[0])\n",
    "x = ((1, 4, 9, 16), (1, 8, 26, 64))\n",
    "print(x)\n",
    "\n",
    "\n",
    "\n"
   ]
  },
  {
   "cell_type": "markdown",
   "id": "0ab7d81a-3446-4552-912d-127c95f75e9f",
   "metadata": {},
   "source": [
    "# Sets"
   ]
  },
  {
   "cell_type": "code",
   "execution_count": 24,
   "id": "57285f98-ce02-4827-8e47-8db130193221",
   "metadata": {},
   "outputs": [
    {
     "name": "stdout",
     "output_type": "stream",
     "text": [
      "{'Nice', 'Marseille', 'Aix-en-Provence', 'Rennes'}\n"
     ]
    }
   ],
   "source": [
    "new_set = set({\"Marseille\", \"Aix-en-Provence\",\n",
    "\"Nice\", \"Rennes\"})\n",
    "print(new_set)\n"
   ]
  },
  {
   "cell_type": "code",
   "execution_count": 25,
   "id": "5dae248b-d3f6-438b-9246-8ad54318cee9",
   "metadata": {},
   "outputs": [
    {
     "name": "stdout",
     "output_type": "stream",
     "text": [
      "{'Nice', 'Marseille', 'Aix-en-Provence', 'Rennes'}\n"
     ]
    }
   ],
   "source": [
    "new_set = {\"Marseille\", \"Aix-en-Provence\", \"Nice\", \"Rennes\"}\n",
    "print(new_set)\n"
   ]
  },
  {
   "cell_type": "code",
   "execution_count": 26,
   "id": "61aeb285-9245-4c42-8dae-0dfd17ad6fb8",
   "metadata": {},
   "outputs": [
    {
     "data": {
      "text/plain": [
       "dict"
      ]
     },
     "execution_count": 26,
     "metadata": {},
     "output_type": "execute_result"
    }
   ],
   "source": [
    "empty_set = {}       # Tạo một cặp ngoặc nhọn rỗng\n",
    "type(empty_set)      # Kiểm tra kiểu dữ liệu của empty_set\n"
   ]
  },
  {
   "cell_type": "code",
   "execution_count": 27,
   "id": "ec0d06a2-5151-411f-8843-c8317e1fa850",
   "metadata": {},
   "outputs": [
    {
     "name": "stdout",
     "output_type": "stream",
     "text": [
      "{'Nice', 'Marseille', 'Aix-en-Provence', 'Rennes'}\n",
      "4\n"
     ]
    }
   ],
   "source": [
    "new_set = set({\"Marseille\", \"Aix-en-Provence\", \"Nice\", \"Marseille\", \"Rennes\"})\n",
    "print(new_set)\n",
    "print(len(new_set))"
   ]
  },
  {
   "cell_type": "markdown",
   "id": "75c16e56-dbdb-4910-8569-891c902b8a54",
   "metadata": {},
   "source": [
    "# Adding Elenmets"
   ]
  },
  {
   "cell_type": "code",
   "execution_count": 28,
   "id": "c366815c-c1d6-4007-8f2a-fb396a4e73a8",
   "metadata": {},
   "outputs": [
    {
     "name": "stdout",
     "output_type": "stream",
     "text": [
      "{'Nice', 'Marseille', 'Rennes', 'Toulon', 'Aix-en-Provence'}\n"
     ]
    }
   ],
   "source": [
    "new_set.add(\"Toulon\")     # Thêm phần tử \"Toulon\" vào set new_set\n",
    "                          # Nếu \"Toulon\" đã có trong set thì sẽ KHÔNG thêm lần nữa\n",
    "                          # Vì set không chấp nhận phần tử trùng lặp\n",
    "\n",
    "print(new_set)            # In ra nội dung của new_set\n",
    "                          # Kết quả sẽ gồm các thành phố ban đầu + \"Toulon\"\n",
    "                          # Thứ tự hiển thị có thể thay đổi vì set không có thứ tự cố định\n"
   ]
  },
  {
   "cell_type": "markdown",
   "id": "7e04fbe2-2cfd-46d1-a4c2-db6697247d52",
   "metadata": {},
   "source": [
    "# Deletion"
   ]
  },
  {
   "cell_type": "code",
   "execution_count": 29,
   "id": "d70936e5-c419-487d-9e0b-1b78b62d3804",
   "metadata": {},
   "outputs": [
    {
     "name": "stdout",
     "output_type": "stream",
     "text": [
      "{'Nice', 'Marseille', 'Rennes', 'Aix-en-Provence'}\n"
     ]
    }
   ],
   "source": [
    "new_set.remove(\"Toulon\")\n",
    "print(new_set)\n"
   ]
  },
  {
   "cell_type": "markdown",
   "id": "fdb09bd1-520c-4e0d-b956-610b0e9c2a98",
   "metadata": {},
   "source": [
    "# Belonging test"
   ]
  },
  {
   "cell_type": "code",
   "execution_count": 30,
   "id": "27490281-09d5-4b66-b7e5-414b208b7b9c",
   "metadata": {},
   "outputs": [
    {
     "name": "stdout",
     "output_type": "stream",
     "text": [
      "True\n",
      "False\n"
     ]
    }
   ],
   "source": [
    "print(\"Marseille\" in new_set)\n",
    "print(\"Paris\" in new_set)\n"
   ]
  },
  {
   "cell_type": "markdown",
   "id": "cefe3c1e-8b33-415e-9021-7b684d6ec4cd",
   "metadata": {},
   "source": [
    "# Copying a Set"
   ]
  },
  {
   "cell_type": "code",
   "execution_count": 31,
   "id": "a6b85f82-ab5c-4be1-93bb-b9780727cd24",
   "metadata": {},
   "outputs": [
    {
     "name": "stdout",
     "output_type": "stream",
     "text": [
      "y :  {'Nice', 'Toulon', 'Marseille', 'Aix-en-Provence'}\n",
      "set :  {'Nice', 'Marseille', 'Aix-en-Provence'}\n"
     ]
    }
   ],
   "source": [
    "new_set = set({\"Marseille\", \"Aix-en-Provence\", \"Nice\"})  \n",
    "# Tạo một set gồm 3 thành phố: {\"Marseille\", \"Aix-en-Provence\", \"Nice\"}\n",
    "\n",
    "y = new_set.copy()  \n",
    "# Tạo một bản sao (copy) của new_set\n",
    "# y và new_set là 2 set khác nhau trong bộ nhớ, thay đổi y sẽ không ảnh hưởng đến new_set\n",
    "\n",
    "y.add(\"Toulon\")  \n",
    "# Thêm phần tử \"Toulon\" vào set y\n",
    "# Vì set không cho trùng lặp nên nếu \"Toulon\" đã có thì không thêm lần nữa\n",
    "# Ở đây \"Toulon\" chưa có nên sẽ được thêm vào\n",
    "\n",
    "print(\"y : \", y)  \n",
    "# In set y ra màn hình\n",
    "# Kết quả sẽ là tập hợp gồm {\"Marseille\", \"Aix-en-Provence\", \"Nice\", \"Toulon\"}\n",
    "# Thứ tự in ra có thể thay đổi vì set không có thứ tự cố định\n",
    "print(\"set : \", new_set)\n",
    "\n"
   ]
  },
  {
   "cell_type": "markdown",
   "id": "7cb11255-0961-4003-9e31-1d3a7883c5c4",
   "metadata": {},
   "source": [
    "# Conversion to a List"
   ]
  },
  {
   "cell_type": "code",
   "execution_count": 32,
   "id": "8d85e5c1-f378-4d1f-a2b2-5516b96d75dd",
   "metadata": {},
   "outputs": [
    {
     "name": "stdout",
     "output_type": "stream",
     "text": [
      "['Marseille', 'Aix-en-Provence', 'Marseille', 'Marseille']\n"
     ]
    }
   ],
   "source": [
    "my_list = [\"Marseille\", \"Aix-en-Provence\", \"Marseille\", \"Marseille\"]\n",
    "print(my_list)"
   ]
  },
  {
   "cell_type": "code",
   "execution_count": 33,
   "id": "8cc297a3-2d8a-4ac1-be32-6200aecfa1ff",
   "metadata": {},
   "outputs": [
    {
     "name": "stdout",
     "output_type": "stream",
     "text": [
      "{'Marseille', 'Aix-en-Provence'}\n",
      "[1, 2, 3, 4]\n"
     ]
    }
   ],
   "source": [
    "my_set = set(my_list)\n",
    "print(my_set)\n",
    "my_list = [1, 2, 3, 3, 4]   # List dùng ngoặc vuông []\n",
    "my_set = {1, 2, 3, 3, 4}    # Set dùng ngoặc nhọn {}\n",
    "my_new_list = list(my_set)\n",
    "print(my_new_list)\n",
    "\n"
   ]
  },
  {
   "cell_type": "markdown",
   "id": "fb72ef63-5012-470a-a3fc-9af026e208b2",
   "metadata": {},
   "source": [
    "# Dictionaries\n"
   ]
  },
  {
   "cell_type": "code",
   "execution_count": 34,
   "id": "8523e2b3-5777-4eae-b491-84e0f9ebc33e",
   "metadata": {},
   "outputs": [
    {
     "name": "stdout",
     "output_type": "stream",
     "text": [
      "<class 'dict'>\n"
     ]
    }
   ],
   "source": [
    "empty_dict = {}\n",
    "print(type(empty_dict))"
   ]
  },
  {
   "cell_type": "code",
   "execution_count": 35,
   "id": "a168f8b2-8569-4e7b-9b23-cdb8205a250d",
   "metadata": {},
   "outputs": [
    {
     "name": "stdout",
     "output_type": "stream",
     "text": [
      "{'nom': 'Kyrie', 'prenom': 'John', 'naissance': 1992, 'equipes': ['Cleveland', 'Boston']}\n"
     ]
    }
   ],
   "source": [
    "my_dict = { \n",
    "    \"nom\": \"Kyrie\",                 # key \"nom\" có value là chuỗi \"Kyrie\"\n",
    "    \"prenom\": \"John\",               # key \"prenom\" có value là chuỗi \"John\"\n",
    "    \"naissance\": 1992,              # key \"naissance\" có value là số nguyên 1992\n",
    "    \"equipes\": [\"Cleveland\", \"Boston\"]  # key \"equipes\" có value là một list\n",
    "}\n",
    "\n",
    "print(my_dict)   # In toàn bộ dictionary ra màn hình\n"
   ]
  },
  {
   "cell_type": "code",
   "execution_count": 36,
   "id": "eb0b236d-d509-4ad9-8e31-cc2c3f4d5c41",
   "metadata": {},
   "outputs": [
    {
     "name": "stdout",
     "output_type": "stream",
     "text": [
      "{'Julien-Yacine': 'Data-scientist', 'Sonia': 'Director'}\n"
     ]
    }
   ],
   "source": [
    "x = dict([(\"Julien-Yacine\", \"Data-scientist\"),\n",
    "(\"Sonia\", \"Director\")])\n",
    "print(x)\n"
   ]
  },
  {
   "cell_type": "markdown",
   "id": "13f4f787-f8d3-4741-a047-57f91288c419",
   "metadata": {},
   "source": [
    "# Extraction of the Elements"
   ]
  },
  {
   "cell_type": "code",
   "execution_count": 37,
   "id": "4f2498d0-a134-400d-b5f9-b3f542f36452",
   "metadata": {},
   "outputs": [
    {
     "name": "stdout",
     "output_type": "stream",
     "text": [
      "John\n",
      "['Cleveland', 'Boston']\n"
     ]
    }
   ],
   "source": [
    "print(my_dict[\"prenom\"])\n",
    "print(my_dict[\"equipes\"])\n",
    "\n"
   ]
  },
  {
   "cell_type": "markdown",
   "id": "52175b63-3d4f-43bf-a6a3-f27aa19513a7",
   "metadata": {},
   "source": [
    "#  Keys and values"
   ]
  },
  {
   "cell_type": "code",
   "execution_count": 38,
   "id": "34599a57-245b-4dea-a2ad-b947f9ada6b0",
   "metadata": {},
   "outputs": [
    {
     "name": "stdout",
     "output_type": "stream",
     "text": [
      "dict_keys(['nom', 'prenom', 'naissance', 'equipes'])\n",
      "<class 'dict_keys'>\n"
     ]
    }
   ],
   "source": [
    "the_keys = my_dict.keys()   # Lấy ra toàn bộ \"keys\" (các khóa) của dictionary my_dict\n",
    "print(the_keys)             # In ra tập hợp các key\n",
    "print(type(the_keys))\n"
   ]
  },
  {
   "cell_type": "code",
   "execution_count": 39,
   "id": "eaa54fc5-901d-4c0d-b174-73a1da4171a6",
   "metadata": {},
   "outputs": [
    {
     "name": "stdout",
     "output_type": "stream",
     "text": [
      "['nom', 'prenom', 'naissance', 'equipes']\n"
     ]
    }
   ],
   "source": [
    "the_keys_list = list(the_keys)   # Chuyển đối tượng dict_keys thành một list\n",
    "print(the_keys_list)             # In list ra màn hình\n"
   ]
  },
  {
   "cell_type": "code",
   "execution_count": 40,
   "id": "9b2af08d-ba0e-4044-abf1-eed826f11b9a",
   "metadata": {},
   "outputs": [
    {
     "name": "stdout",
     "output_type": "stream",
     "text": [
      "dict_values(['Kyrie', 'John', 1992, ['Cleveland', 'Boston']])\n",
      "<class 'dict_values'>\n"
     ]
    }
   ],
   "source": [
    "the_values = my_dict.values()\n",
    "print(the_values)\n",
    "print(type(the_values))\n"
   ]
  },
  {
   "cell_type": "code",
   "execution_count": 41,
   "id": "d01d820a-a573-41ae-9988-26cb3b27523e",
   "metadata": {},
   "outputs": [
    {
     "name": "stdout",
     "output_type": "stream",
     "text": [
      "dict_items([('nom', 'Kyrie'), ('prenom', 'John'), ('naissance', 1992), ('equipes', ['Cleveland', 'Boston'])])\n",
      "<class 'dict_items'>\n"
     ]
    }
   ],
   "source": [
    "the_items = my_dict.items()   # Lấy ra toàn bộ cặp (key, value) trong dictionary\n",
    "print(the_items)              # In ra các cặp đó\n",
    "print(type(the_items))\n",
    "\n"
   ]
  },
  {
   "cell_type": "markdown",
   "id": "077af2fb-8154-4850-9fbb-2200b5c2972c",
   "metadata": {},
   "source": [
    "# Search for Belonging"
   ]
  },
  {
   "cell_type": "code",
   "execution_count": 42,
   "id": "2ff41d9b-9ac1-4e4e-8824-df152b7c8a5e",
   "metadata": {},
   "outputs": [
    {
     "name": "stdout",
     "output_type": "stream",
     "text": [
      "False\n"
     ]
    }
   ],
   "source": [
    "print(\"age\" in the_keys)\n"
   ]
  },
  {
   "cell_type": "code",
   "execution_count": 43,
   "id": "fec4543c-19d0-4fd4-ae99-f1b69f8bdf39",
   "metadata": {},
   "outputs": [
    {
     "name": "stdout",
     "output_type": "stream",
     "text": [
      "True\n"
     ]
    }
   ],
   "source": [
    "print(['Cleveland', 'Boston'] in the_values)"
   ]
  },
  {
   "cell_type": "markdown",
   "id": "d8fd67c5-4dc3-4ef5-a1c0-02f3890756ef",
   "metadata": {},
   "source": [
    "# Replacement"
   ]
  },
  {
   "cell_type": "code",
   "execution_count": 44,
   "id": "219effc5-aca7-493c-bb6f-df100149d265",
   "metadata": {},
   "outputs": [
    {
     "name": "stdout",
     "output_type": "stream",
     "text": [
      "{'nom': 'Kyrie', 'prenom': 'John', 'naissance': 1992, 'equipes': ['Montclair Kimberley Academy', 'Cleveland Cavaliers', 'Boston Celtics']}\n"
     ]
    }
   ],
   "source": [
    "my_dict[\"equipes\"] = [\"Montclair Kimberley Academy\",\n",
    "\"Cleveland Cavaliers\", \"Boston Celtics\"]\n",
    "print(my_dict)"
   ]
  },
  {
   "cell_type": "markdown",
   "id": "79789856-66b9-4fec-a14c-095d42cebcc2",
   "metadata": {},
   "source": [
    "# Adding Elements\n"
   ]
  },
  {
   "cell_type": "code",
   "execution_count": 45,
   "id": "d53eb76a-c7a8-44bf-9247-2356c070648a",
   "metadata": {},
   "outputs": [
    {
     "name": "stdout",
     "output_type": "stream",
     "text": [
      "{'nom': 'Kyrie', 'prenom': 'John', 'naissance': 1992, 'equipes': ['Montclair Kimberley Academy', 'Cleveland Cavaliers', 'Boston Celtics'], 'taille_cm': 191}\n"
     ]
    }
   ],
   "source": [
    "my_dict[\"taille_cm\"] = 191   # Thêm một cặp key : value mới vào dictionary\n",
    "                             # key = \"taille_cm\", value = 191\n",
    "                             # Nếu \"taille_cm\" đã tồn tại thì giá trị sẽ bị ghi đè (update)\n",
    "\n",
    "print(my_dict)               # In toàn bộ dictionary sau khi thêm\n"
   ]
  },
  {
   "cell_type": "code",
   "execution_count": 46,
   "id": "4623d184-a2c7-4845-b4cd-d2ed0e9e77e8",
   "metadata": {},
   "outputs": [
    {
     "name": "stdout",
     "output_type": "stream",
     "text": [
      "{'masse_kg': 88, 'debut_nba': 2011}\n"
     ]
    }
   ],
   "source": [
    "second_dict = {\"masse_kg\" : 88, \"debut_nba\" : 2011}\n",
    "print(second_dict)"
   ]
  },
  {
   "cell_type": "code",
   "execution_count": 47,
   "id": "9814a4a4-1c0a-472b-b24f-c4f84d63ad6a",
   "metadata": {},
   "outputs": [
    {
     "name": "stdout",
     "output_type": "stream",
     "text": [
      "{'nom': 'Kyrie', 'prenom': 'John', 'naissance': 1992, 'equipes': ['Montclair Kimberley Academy', 'Cleveland Cavaliers', 'Boston Celtics'], 'taille_cm': 191, 'masse_kg': 88, 'debut_nba': 2011}\n"
     ]
    }
   ],
   "source": [
    "my_dict.update(second_dict)\n",
    "print(my_dict)\n"
   ]
  },
  {
   "cell_type": "code",
   "execution_count": 48,
   "id": "13139916-db50-44b4-8d30-ba843bafbc2f",
   "metadata": {},
   "outputs": [
    {
     "name": "stdout",
     "output_type": "stream",
     "text": [
      "{'masse_kg': 88, 'debut_nba': 2011, 'poste': 'PG'}\n",
      "{'nom': 'Kyrie', 'prenom': 'John', 'naissance': 1992, 'equipes': ['Montclair Kimberley Academy', 'Cleveland Cavaliers', 'Boston Celtics'], 'taille_cm': 191, 'masse_kg': 88, 'debut_nba': 2011}\n"
     ]
    }
   ],
   "source": [
    "second_dict[\"poste\"] = \"PG\"  \n",
    "# Thêm một cặp key : value mới vào dictionary second_dict\n",
    "# key = \"poste\", value = \"PG\"\n",
    "# Nếu key \"poste\" chưa tồn tại → thêm mới\n",
    "# Nếu \"poste\" đã tồn tại → giá trị cũ sẽ bị ghi đè (update)\n",
    "\n",
    "print(second_dict)  \n",
    "# In toàn bộ dictionary ra màn hình sau khi thêm\n",
    "print(my_dict)\n",
    "\n",
    "\n"
   ]
  },
  {
   "cell_type": "markdown",
   "id": "80fe29a8-39b2-453e-b871-da4e0f510502",
   "metadata": {},
   "source": [
    "# Deleting elements\n"
   ]
  },
  {
   "cell_type": "code",
   "execution_count": 49,
   "id": "58c07aad-9e73-4bad-8c55-b26745722d44",
   "metadata": {},
   "outputs": [
    {
     "name": "stdout",
     "output_type": "stream",
     "text": [
      "{'nom': 'Kyrie', 'prenom': 'John', 'naissance': 1992, 'equipes': ['Montclair Kimberley Academy', 'Cleveland Cavaliers', 'Boston Celtics'], 'taille_cm': 191, 'masse_kg': 88}\n"
     ]
    }
   ],
   "source": [
    "del my_dict[\"debut_nba\"]\n",
    "print(my_dict)\n"
   ]
  },
  {
   "cell_type": "markdown",
   "id": "7f6b085a-08de-4382-8af3-cf1956754e24",
   "metadata": {},
   "source": [
    "\n",
    "# Copy of a Dictionary\n",
    "\n"
   ]
  },
  {
   "cell_type": "code",
   "execution_count": 53,
   "id": "6e9ae099-73f9-4110-808f-c8c6785fe66d",
   "metadata": {},
   "outputs": [
    {
     "name": "stdout",
     "output_type": "stream",
     "text": [
      "d:  {'Marseille': 13, 'Rennes': 35}\n",
      "d2:  {'Marseille': 13, 'Rennes': 35, 'Paris': 75}\n"
     ]
    }
   ],
   "source": [
    "d = {\"Marseille\": 13, \"Rennes\": 35}\n",
    "# Tạo dictionary d với 2 cặp key:value\n",
    "# \"Marseille\" → 13\n",
    "# \"Rennes\"    → 35\n",
    "\n",
    "d2 = d.copy()\n",
    "# copy() tạo ra một bản sao (shallow copy) của dictionary d\n",
    "# tức là d2 có nội dung giống d, nhưng là đối tượng độc lập\n",
    "\n",
    "d2[\"Paris\"] = 75\n",
    "# Thêm một cặp key:value mới vào dictionary d2\n",
    "# \"Paris\" → 75\n",
    "\n",
    "print(\"d: \", d)\n",
    "# In ra dictionary d (ban đầu), sẽ KHÔNG thay đổi\n",
    "print(\"d2: \", d2)\n",
    "\n"
   ]
  },
  {
   "cell_type": "markdown",
   "id": "2992ae65-fbbc-42ef-8fa0-3a74a80dd2cc",
   "metadata": {},
   "source": [
    "# Exercise"
   ]
  },
  {
   "cell_type": "code",
   "execution_count": 54,
   "id": "b6764133-36b8-4a2e-af16-b8d1c97dcee3",
   "metadata": {},
   "outputs": [
    {
     "name": "stdout",
     "output_type": "stream",
     "text": [
      "description: A photo of the Old Port of Marseille\n",
      "Final photo dict: {'id': 1, 'description': 'A photo of the Old Port of Marseille', 'loc': [5.3692712, 43.2949627]}\n"
     ]
    }
   ],
   "source": [
    "# 1. Tạo dictionary photo\n",
    "photo = {\n",
    "    \"id\": 1,\n",
    "    \"description\": \"A photo of the Old Port of Marseille\",\n",
    "    \"loc\": [5.3772133, 43.302424]\n",
    "}\n",
    "\n",
    "# 2. Thêm key \"user\"\n",
    "photo[\"user\"] = \"bob\"\n",
    "\n",
    "# 3. In ra description nếu tồn tại\n",
    "if \"description\" in photo:\n",
    "    print(\"description:\", photo[\"description\"])\n",
    "\n",
    "# 4. Xóa key \"user\"\n",
    "del photo[\"user\"]\n",
    "\n",
    "# 5. Sửa giá trị của key \"loc\"\n",
    "photo[\"loc\"] = [5.3692712, 43.2949627]\n",
    "\n",
    "# In dictionary cuối cùng\n",
    "print(\"Final photo dict:\", photo)\n"
   ]
  },
  {
   "cell_type": "markdown",
   "id": "10b6eb54-e66c-46fe-992c-9dbaab03a8d7",
   "metadata": {},
   "source": [
    "# Kết thúc"
   ]
  },
  {
   "cell_type": "code",
   "execution_count": null,
   "id": "73599e08-b3fe-43fb-868e-5727ad15adfe",
   "metadata": {},
   "outputs": [],
   "source": []
  }
 ],
 "metadata": {
  "kernelspec": {
   "display_name": "Python 3 (ipykernel)",
   "language": "python",
   "name": "python3"
  },
  "language_info": {
   "codemirror_mode": {
    "name": "ipython",
    "version": 3
   },
   "file_extension": ".py",
   "mimetype": "text/x-python",
   "name": "python",
   "nbconvert_exporter": "python",
   "pygments_lexer": "ipython3",
   "version": "3.12.1"
  }
 },
 "nbformat": 4,
 "nbformat_minor": 5
}
