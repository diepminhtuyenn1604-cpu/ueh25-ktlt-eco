{
 "cells": [
  {
   "cell_type": "code",
   "execution_count": 1,
   "id": "8ee6cd59-30e4-470f-8bee-73568a6527a3",
   "metadata": {},
   "outputs": [],
   "source": [
    "import numpy as np\n",
    "import matplotlib.pyplot as plt\n",
    "from IPython.display import display # hiển thị rich output"
   ]
  },
  {
   "cell_type": "code",
   "execution_count": 2,
   "id": "0891a663-ba6d-44fa-baf1-c66eb34bf1d5",
   "metadata": {},
   "outputs": [
    {
     "name": "stdout",
     "output_type": "stream",
     "text": [
      "CPU times: user 3 μs, sys: 0 ns, total: 3 μs\n",
      "Wall time: 5.96 μs\n"
     ]
    }
   ],
   "source": [
    "%time\n",
    "# generate randomly the center (x,y) of circle, color, area\n",
    "N = 50\n",
    "x = np.random.rand(N)\n",
    "y = np.random.rand(N)\n",
    "colors = np.random.rand(N)\n",
    "area = np.pi * (15 * np.random.rand(N)) ** 2 # 0 to 15 point radii"
   ]
  },
  {
   "cell_type": "code",
   "execution_count": 3,
   "id": "0460a4af-862d-454c-a852-d94d6631d7ba",
   "metadata": {},
   "outputs": [
    {
     "ename": "SyntaxError",
     "evalue": "f-string: single '}' is not allowed (4247771805.py, line 3)",
     "output_type": "error",
     "traceback": [
      "  \u001b[36mCell\u001b[39m\u001b[36m \u001b[39m\u001b[32mIn[3]\u001b[39m\u001b[32m, line 3\u001b[39m\n\u001b[31m    \u001b[39m\u001b[31mprint(f'colors: len={len(colors):d},  [min(colors):.2f}, {max(colors):.2f}]: 10 samples\u001b[39m\n                                                          ^\n\u001b[31mSyntaxError\u001b[39m\u001b[31m:\u001b[39m f-string: single '}' is not allowed\n"
     ]
    }
   ],
   "source": [
    "print(f'x: len={len(x):d},  [min(x):.2f, {max(x):.2f}]: 10 samples [{x[0:10]}]')\n",
    "print(f'y: len={len(y):d},  [min(y):.2f, {max(y):.2f}]: 10 samples [{y[0:10]}]')\n",
    "print(f'colors: len={len(colors):d},  [min(colors):.2f}, {max(colors):.2f}]: 10 samples"
   ]
  },
  {
   "cell_type": "code",
   "execution_count": null,
   "id": "48484f34-a7c9-4c17-a235-6fe8874600c5",
   "metadata": {},
   "outputs": [],
   "source": []
  },
  {
   "cell_type": "code",
   "execution_count": null,
   "id": "d7fe23f0-9a39-46cc-9c72-2be4a63194ad",
   "metadata": {},
   "outputs": [],
   "source": []
  }
 ],
 "metadata": {
  "kernelspec": {
   "display_name": "Python 3 (ipykernel)",
   "language": "python",
   "name": "python3"
  },
  "language_info": {
   "codemirror_mode": {
    "name": "ipython",
    "version": 3
   },
   "file_extension": ".py",
   "mimetype": "text/x-python",
   "name": "python",
   "nbconvert_exporter": "python",
   "pygments_lexer": "ipython3",
   "version": "3.12.1"
  }
 },
 "nbformat": 4,
 "nbformat_minor": 5
}
