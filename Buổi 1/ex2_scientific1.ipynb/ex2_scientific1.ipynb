{
 "cells": [
  {
   "cell_type": "code",
   "execution_count": 1,
   "id": "8ee6cd59-30e4-470f-8bee-73568a6527a3",
   "metadata": {},
   "outputs": [],
   "source": [
    "import numpy as np\n",
    "import matplotlib.pyplot as plt\n",
    "from IPython.display import display # hiển thị rich output"
   ]
  },
  {
   "cell_type": "code",
   "execution_count": 2,
   "id": "0891a663-ba6d-44fa-baf1-c66eb34bf1d5",
   "metadata": {},
   "outputs": [
    {
     "name": "stdout",
     "output_type": "stream",
     "text": [
      "CPU times: user 3 μs, sys: 0 ns, total: 3 μs\n",
      "Wall time: 5.96 μs\n"
     ]
    }
   ],
   "source": [
    "%time\n",
    "# generate randomly the center (x,y) of circle, color, area\n",
    "N = 50\n",
    "x = np.random.rand(N)\n",
    "y = np.random.rand(N)\n",
    "colors = np.random.rand(N)\n",
    "area = np.pi * (15 * np.random.rand(N)) ** 2 # 0 to 15 point radii"
   ]
  },
  {
   "cell_type": "code",
   "execution_count": 3,
   "id": "0460a4af-862d-454c-a852-d94d6631d7ba",
   "metadata": {},
   "outputs": [
    {
     "ename": "SyntaxError",
     "evalue": "f-string: single '}' is not allowed (4247771805.py, line 3)",
     "output_type": "error",
     "traceback": [
      "  \u001b[36mCell\u001b[39m\u001b[36m \u001b[39m\u001b[32mIn[3]\u001b[39m\u001b[32m, line 3\u001b[39m\n\u001b[31m    \u001b[39m\u001b[31mprint(f'colors: len={len(colors):d},  [min(colors):.2f}, {max(colors):.2f}]: 10 samples\u001b[39m\n                                                          ^\n\u001b[31mSyntaxError\u001b[39m\u001b[31m:\u001b[39m f-string: single '}' is not allowed\n"
     ]
    }
   ],
   "source": [
    "print(f'x: len={len(x):d},  [min(x):.2f, {max(x):.2f}]: 10 samples [{x[0:10]}]')\n",
    "print(f'y: len={len(y):d},  [min(y):.2f, {max(y):.2f}]: 10 samples [{y[0:10]}]')\n",
    "print(f'colors: len={len(colors):d},  [min(colors):.2f}, {max(colors):.2f}]: 10 samples"
   ]
  },
  {
   "cell_type": "code",
   "execution_count": 1,
   "id": "48484f34-a7c9-4c17-a235-6fe8874600c5",
   "metadata": {},
   "outputs": [
    {
     "ename": "NameError",
     "evalue": "name 'X' is not defined",
     "output_type": "error",
     "traceback": [
      "\u001b[31m---------------------------------------------------------------------------\u001b[39m",
      "\u001b[31mNameError\u001b[39m                                 Traceback (most recent call last)",
      "\u001b[36mCell\u001b[39m\u001b[36m \u001b[39m\u001b[32mIn[1]\u001b[39m\u001b[32m, line 2\u001b[39m\n\u001b[32m      1\u001b[39m \u001b[38;5;66;03m# Mã đã sửa\u001b[39;00m\n\u001b[32m----> \u001b[39m\u001b[32m2\u001b[39m \u001b[38;5;28mprint\u001b[39m(\u001b[33mf\u001b[39m\u001b[33m\"\u001b[39m\u001b[33mf+X: |X|=\u001b[39m\u001b[38;5;132;01m{\u001b[39;00m\u001b[38;5;28mlen\u001b[39m(\u001b[43mX\u001b[49m)\u001b[38;5;132;01m}\u001b[39;00m\u001b[33m, X in [\u001b[39m\u001b[38;5;132;01m{\u001b[39;00mnp.min(X)\u001b[38;5;132;01m:\u001b[39;00m\u001b[33m.2f\u001b[39m\u001b[38;5;132;01m}\u001b[39;00m\u001b[33m, \u001b[39m\u001b[38;5;132;01m{\u001b[39;00mnp.max(X)\u001b[38;5;132;01m:\u001b[39;00m\u001b[33m.2f\u001b[39m\u001b[38;5;132;01m}\u001b[39;00m\u001b[33m], 10 samples: \u001b[39m\u001b[38;5;132;01m{\u001b[39;00mX[\u001b[32m0\u001b[39m:\u001b[32m10\u001b[39m]\u001b[38;5;132;01m}\u001b[39;00m\u001b[33m\"\u001b[39m)\n\u001b[32m      3\u001b[39m \u001b[38;5;66;03m# Tương tự cho các dòng còn lại\u001b[39;00m\n",
      "\u001b[31mNameError\u001b[39m: name 'X' is not defined"
     ]
    }
   ],
   "source": [
    "# Mã đã sửa\n",
    "print(f\"f+X: |X|={len(X)}, X in [{np.min(X):.2f}, {np.max(X):.2f}], 10 samples: {X[0:10]}\")\n",
    "# Tương tự cho các dòng còn lại"
   ]
  },
  {
   "cell_type": "code",
   "execution_count": null,
   "id": "d7fe23f0-9a39-46cc-9c72-2be4a63194ad",
   "metadata": {},
   "outputs": [],
   "source": []
  },
  {
   "cell_type": "code",
   "execution_count": 3,
   "id": "26861745-06d3-4666-b8c6-99db6b8b6b62",
   "metadata": {},
   "outputs": [
    {
     "ename": "SyntaxError",
     "evalue": "invalid syntax (385315540.py, line 2)",
     "output_type": "error",
     "traceback": [
      "  \u001b[36mCell\u001b[39m\u001b[36m \u001b[39m\u001b[32mIn[3]\u001b[39m\u001b[32m, line 2\u001b[39m\n\u001b[31m    \u001b[39m\u001b[31mgit add -n\u001b[39m\n        ^\n\u001b[31mSyntaxError\u001b[39m\u001b[31m:\u001b[39m invalid syntax\n"
     ]
    }
   ],
   "source": [
    "# 5. Thêm thay đổi vào git\n",
    "git add -n\n",
    "git add .\n",
    "\n",
    "# 6. Kiểm tra trạng thái\n",
    "git status\n",
    "\n",
    "# 7. Commit thay đổi\n",
    "git commit -m \"init\"\n",
    "\n",
    "# 8. Đẩy lên GitHub (cẩn thận --force sẽ ghi đè)\n",
    "git push --force\n",
    "\n",
    "# 9. Kiểm tra lại\n",
    "git status"
   ]
  },
  {
   "cell_type": "code",
   "execution_count": 4,
   "id": "37307a14-89db-4f5f-bc1d-aa7214559b71",
   "metadata": {},
   "outputs": [
    {
     "name": "stdout",
     "output_type": "stream",
     "text": [
      "[gh-pages 057d6b8] commit message\n",
      " 2 files changed, 214 insertions(+)\n",
      " create mode 100644 \"Bu\\341\\273\\225i 1/ex2_scientific1.ipynb/.ipynb_checkpoints/ex2_scientific1-checkpoint.ipynb\"\n",
      " create mode 100644 \"Bu\\341\\273\\225i 1/ex2_scientific1.ipynb/ex2_scientific1.ipynb\"\n"
     ]
    }
   ],
   "source": [
    "%%bash\n",
    "git add .\n",
    "git commit -m \"commit message\""
   ]
  },
  {
   "cell_type": "code",
   "execution_count": null,
   "id": "9155d6f3-ca52-4bab-a4de-6b717954f7e4",
   "metadata": {},
   "outputs": [],
   "source": [
    "%%bash\n",
    "git add .\n",
    "git commit -m \"commit message\""
   ]
  }
 ],
 "metadata": {
  "kernelspec": {
   "display_name": "Python 3 (ipykernel)",
   "language": "python",
   "name": "python3"
  },
  "language_info": {
   "codemirror_mode": {
    "name": "ipython",
    "version": 3
   },
   "file_extension": ".py",
   "mimetype": "text/x-python",
   "name": "python",
   "nbconvert_exporter": "python",
   "pygments_lexer": "ipython3",
   "version": "3.12.1"
  }
 },
 "nbformat": 4,
 "nbformat_minor": 5
}
