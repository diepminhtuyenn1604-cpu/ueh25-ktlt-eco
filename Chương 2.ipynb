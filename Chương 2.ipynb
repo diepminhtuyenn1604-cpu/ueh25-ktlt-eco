{
 "cells": [
  {
   "cell_type": "markdown",
   "id": "160e870c-13b6-4503-9bbf-33f16685fdfe",
   "metadata": {},
   "source": [
    "# Chương 2: Types of Data"
   ]
  },
  {
   "cell_type": "markdown",
   "id": "789d5489-28b8-4d31-ac0b-a89aee51058b",
   "metadata": {},
   "source": [
    "# Strings"
   ]
  },
  {
   "cell_type": "code",
   "execution_count": 2,
   "id": "20a85971-ae85-47a4-928c-05510d4ea956",
   "metadata": {},
   "outputs": [
    {
     "name": "stdout",
     "output_type": "stream",
     "text": [
      "How are you?\n"
     ]
    }
   ],
   "source": [
    "y = 'How are you?'\n",
    "print(y)\n",
    "## How are you?\n"
   ]
  },
  {
   "cell_type": "code",
   "execution_count": 4,
   "id": "cc5df2f5-13ec-4bab-adf8-4d09b110bd39",
   "metadata": {},
   "outputs": [
    {
     "name": "stdout",
     "output_type": "stream",
     "text": [
      "I'm fine\n"
     ]
    }
   ],
   "source": [
    "z = 'I\\'m fine' \n",
    "print(z)"
   ]
  },
  {
   "cell_type": "code",
   "execution_count": 5,
   "id": "a300480f-f53d-4926-8467-a5758f82d320",
   "metadata": {},
   "outputs": [
    {
     "name": "stdout",
     "output_type": "stream",
     "text": [
      "I'm \"fine\"\n"
     ]
    }
   ],
   "source": [
    "z = \"I'm \\\"fine\\\"\" \n",
    "print(z)"
   ]
  },
  {
   "cell_type": "code",
   "execution_count": 6,
   "id": "dfb1f35c-3eb8-4f45-a933-9296b275ec7d",
   "metadata": {},
   "outputs": [
    {
     "name": "stdout",
     "output_type": "stream",
     "text": [
      "Hello, \n",
      "World\n"
     ]
    }
   ],
   "source": [
    "x = \"Hello, \\nWorld\" \n",
    "print(x)"
   ]
  },
  {
   "cell_type": "code",
   "execution_count": 8,
   "id": "edbab05f-6351-4db4-94a0-634f294233e7",
   "metadata": {},
   "outputs": [
    {
     "name": "stdout",
     "output_type": "stream",
     "text": [
      "Hello, World\n"
     ]
    }
   ],
   "source": [
    "x = \"\"\"Hello, World\"\"\" \n",
    "print(x)"
   ]
  },
  {
   "cell_type": "code",
   "execution_count": 10,
   "id": "b79410af-6456-46e7-a9ee-09297faa121f",
   "metadata": {},
   "outputs": [
    {
     "name": "stdout",
     "output_type": "stream",
     "text": [
      "13\n",
      "Hello World ! 13\n"
     ]
    }
   ],
   "source": [
    "x = \"Hello World !\" \n",
    "print(len(x))\n",
    "print(x, len(x))"
   ]
  },
  {
   "cell_type": "markdown",
   "id": "3e3c2c1e-f4e8-42f7-9f7d-9de266c5694d",
   "metadata": {},
   "source": [
    "# Concatenation of Strings"
   ]
  },
  {
   "cell_type": "code",
   "execution_count": 11,
   "id": "40ec6c49-c39f-42d1-a447-f129346fd442",
   "metadata": {},
   "outputs": [
    {
     "name": "stdout",
     "output_type": "stream",
     "text": [
      "Hello World\n"
     ]
    }
   ],
   "source": [
    "print(\"Hello\" + \" World\")"
   ]
  },
  {
   "cell_type": "code",
   "execution_count": 12,
   "id": "2a33068f-cd4b-4605-8925-bc5dbeda63aa",
   "metadata": {},
   "outputs": [
    {
     "name": "stdout",
     "output_type": "stream",
     "text": [
      "Go Habs Go! Go Habs Go! Go Habs Go! Woo Hoo!\n"
     ]
    }
   ],
   "source": [
    "print( 3 * \"Go Habs Go! \" + \"Woo Hoo!\" )\n"
   ]
  },
  {
   "cell_type": "code",
   "execution_count": 1,
   "id": "4c439a8c-001a-4165-a29a-8bbe164ab8fb",
   "metadata": {},
   "outputs": [
    {
     "name": "stdout",
     "output_type": "stream",
     "text": [
      "I like to code in R\n"
     ]
    }
   ],
   "source": [
    "x = \"I like to code in {}\"       # Tạo một chuỗi với dấu {} làm chỗ trống (placeholder)\n",
    "\n",
    "langage_1 = \"R\"                  # Gán chuỗi \"R\" vào biến langage_1\n",
    "langage_2 = \"Python\"             # Gán chuỗi \"Python\" vào biến langage_2\n",
    "\n",
    "preference_1 = x.format(langage_1)   # Thay thế {} trong chuỗi x bằng giá trị của langage_1 (\"R\")\n",
    "\n",
    "print(preference_1)              # In ra chuỗi hoàn chỉnh: \"I like to code in R\"\n"
   ]
  },
  {
   "cell_type": "code",
   "execution_count": 2,
   "id": "8ef1d0e0-7c33-4287-9c46-a4c311f2f783",
   "metadata": {},
   "outputs": [
    {
     "name": "stdout",
     "output_type": "stream",
     "text": [
      "H\n"
     ]
    }
   ],
   "source": [
    "x = \"Hello\"        # Gán chuỗi \"Hello\" vào biến x\n",
    "\n",
    "print(x[0])        # Lấy ký tự ở vị trí chỉ số 0 trong chuỗi \"Hello\" (ký tự đầu tiên)\n"
   ]
  },
  {
   "cell_type": "code",
   "execution_count": 3,
   "id": "df7c639c-a257-49c8-8a0f-87cece1d1e8f",
   "metadata": {},
   "outputs": [
    {
     "name": "stdout",
     "output_type": "stream",
     "text": [
      "l\n"
     ]
    }
   ],
   "source": [
    "x = \"Hello\"\n",
    "print(x[-2])\n"
   ]
  },
  {
   "cell_type": "code",
   "execution_count": 7,
   "id": "67725c7a-bb53-470e-a19b-c59fdf2c0849",
   "metadata": {},
   "outputs": [
    {
     "name": "stdout",
     "output_type": "stream",
     "text": [
      "shall\n",
      "shall not pass!\n",
      "You shall not pass\n",
      "pass!\n"
     ]
    }
   ],
   "source": [
    "x = \"You shall not pass!\"  \n",
    "\n",
    "# From the fourth character (not included) to the ninth (included)\n",
    "print(x[4:9])\n",
    "x[4:]   \n",
    "x[:-1]  \n",
    "x[-5:]  \n",
    "x = \"You shall not pass!\"\n",
    "\n",
    "print(x[4:])    # Lấy từ ký tự thứ 5 (index 4, tức 's') đến hết chuỗi -> \"shall not pass!\"\n",
    "print(x[:-1])   # Lấy từ đầu chuỗi đến trước ký tự cuối cùng (bỏ '!') -> \"You shall not pass\"\n",
    "print(x[-5:])   # Lấy từ ký tự thứ 5 từ cuối (index -5, tức 'p') đến hết -> \"pass!\"\n",
    "\n",
    "\n"
   ]
  },
  {
   "cell_type": "code",
   "execution_count": 8,
   "id": "3012bd76-4270-42fd-8beb-f7326d52c3c1",
   "metadata": {},
   "outputs": [
    {
     "name": "stdout",
     "output_type": "stream",
     "text": [
      "sln s\n"
     ]
    }
   ],
   "source": [
    "x = \"You shall not pass!\"\n",
    "\n",
    "# From the 4th character (not included),\n",
    "# to the end of the string, in steps of 3\n",
    "print(x[4::3])\n"
   ]
  },
  {
   "cell_type": "code",
   "execution_count": 9,
   "id": "f2fe5e06-167f-43ff-88ab-a5d08b41f259",
   "metadata": {},
   "outputs": [
    {
     "name": "stdout",
     "output_type": "stream",
     "text": [
      "sln s\n"
     ]
    }
   ],
   "source": [
    "x = \"You shall not pass!\"\n",
    "\n",
    "print(x[4::3])  # Bắt đầu từ ký tự thứ 5 (index 4, 's'), \n",
    "                # lấy đến hết chuỗi, \n",
    "                # nhưng chỉ lấy cách 3 ký tự một lần -> \"slnts\"\n"
   ]
  },
  {
   "cell_type": "code",
   "execution_count": 11,
   "id": "9c7ecc43-82e0-4428-b828-6998146f3fc8",
   "metadata": {},
   "outputs": [
    {
     "name": "stdout",
     "output_type": "stream",
     "text": [
      "!ssap ton llahs uoY\n"
     ]
    }
   ],
   "source": [
    "x = \"You shall not pass!\"\n",
    "\n",
    "print(x[::-1])  # Đảo ngược chuỗi: step = -1 nghĩa là đọc từ phải sang trái -> \"!ssap ton llahs ouY\"\n",
    "\n"
   ]
  },
  {
   "cell_type": "code",
   "execution_count": 12,
   "id": "b545f12d-2719-4cc8-9535-352a6769bd84",
   "metadata": {},
   "outputs": [
    {
     "name": "stdout",
     "output_type": "stream",
     "text": [
      "3\n"
     ]
    }
   ],
   "source": [
    "x = \"le train de tes injures roule sur le rail de mon indifférence\"\n",
    "\n",
    "print(x.count(\"in\"))  # Đếm số lần chuỗi con \"in\" xuất hiện trong x -> 3\n"
   ]
  },
  {
   "cell_type": "code",
   "execution_count": 13,
   "id": "f3628c99-ce2b-4b7d-9a17-70fd040468a9",
   "metadata": {},
   "outputs": [
    {
     "name": "stdout",
     "output_type": "stream",
     "text": [
      "le train de tes injures roule sur le rail de mon indifférence\n",
      "LE TRAIN DE TES INJURES ROULE SUR LE RAIL DE MON INDIFFÉRENCE\n"
     ]
    }
   ],
   "source": [
    "x = \"le train de tes injures roule sur le rail de mon indifférence\"\n",
    "\n",
    "print(x.lower())  # .lower() -> chuyển toàn bộ chuỗi thành chữ thường\n",
    "print(x.upper())  # .upper() -> chuyển toàn bộ chuỗi thành chữ in hoa\n"
   ]
  },
  {
   "cell_type": "code",
   "execution_count": 14,
   "id": "2a50e37c-4c18-4c54-9166-8be4bdb3b055",
   "metadata": {},
   "outputs": [
    {
     "name": "stdout",
     "output_type": "stream",
     "text": [
      "6\n",
      "-1\n"
     ]
    }
   ],
   "source": [
    "x = \"le train de tes injures roule sur le rail de mon indifférence\"\n",
    "\n",
    "print(x.find(\"in\"))     # .find(\"in\") -> trả về vị trí (index) đầu tiên tìm thấy \"in\" trong chuỗi\n",
    "                        # Trong x, \"in\" xuất hiện đầu tiên ở \"train\" (tại index 6) \n",
    "\n",
    "print(x.find(\"hello\"))  # .find(\"hello\") -> nếu không tìm thấy chuỗi con trong x thì trả về -1\n"
   ]
  },
  {
   "cell_type": "code",
   "execution_count": 15,
   "id": "e939b91c-8c17-4bb7-bbaa-5debed9b99eb",
   "metadata": {},
   "outputs": [
    {
     "name": "stdout",
     "output_type": "stream",
     "text": [
      "16\n"
     ]
    }
   ],
   "source": [
    "x = \"le train de tes injures roule sur le rail de mon indifférence\"\n",
    "\n",
    "print(x.find(\"in\", 7, 20))   # Tìm chuỗi \"in\" trong phạm vi từ index 7 đến 19\n"
   ]
  },
  {
   "cell_type": "code",
   "execution_count": 16,
   "id": "de0dd1d7-36bc-4dc7-bcd1-40392b580358",
   "metadata": {},
   "outputs": [
    {
     "name": "stdout",
     "output_type": "stream",
     "text": [
      "-1\n"
     ]
    }
   ],
   "source": [
    "x = \"Mademoiselle Deray, il est interdit de manger de la choucroute ici.\"\n",
    "\n",
    "print(x.find(\"deray\"))   # .find(\"deray\") -> tìm chuỗi \"deray\" trong x (có phân biệt chữ hoa - chữ thường)\n"
   ]
  },
  {
   "cell_type": "code",
   "execution_count": 17,
   "id": "ecfc1dbf-8c53-4289-93da-cc99e183848f",
   "metadata": {},
   "outputs": [
    {
     "name": "stdout",
     "output_type": "stream",
     "text": [
      "13\n"
     ]
    }
   ],
   "source": [
    "print(x.lower().find(\"deray\"))  # -> 13\n"
   ]
  },
  {
   "cell_type": "code",
   "execution_count": 18,
   "id": "9a75dc36-77e0-43ff-a4a8-21bd2a5a68ae",
   "metadata": {},
   "outputs": [
    {
     "name": "stdout",
     "output_type": "stream",
     "text": [
      "-1\n"
     ]
    }
   ],
   "source": [
    "x = \"Mademoiselle Deray, il est interdit de manger de la choucroute ici.\"\n",
    "\n",
    "print(x.find(\"deray\"))   # .find(\"deray\") -> tìm chuỗi \"deray\" trong x\n",
    "                         # Python phân biệt chữ hoa/thường (case-sensitive)\n",
    "                         # Trong x có \"Deray\" (chữ D hoa), không có \"deray\" (chữ thường)\n",
    "                         # => Không tìm thấy, nên kết quả trả về -1\n"
   ]
  },
  {
   "cell_type": "code",
   "execution_count": 19,
   "id": "f237b832-65aa-4084-bff2-7a926796ce94",
   "metadata": {},
   "outputs": [
    {
     "name": "stdout",
     "output_type": "stream",
     "text": [
      "13\n"
     ]
    }
   ],
   "source": [
    "x = \"Mademoiselle Deray, il est interdit de manger de la choucroute ici.\"\n",
    "\n",
    "print(x.capitalize().find(\"deray\"))  \n",
    "# .capitalize() -> biến đổi chuỗi: chỉ chữ cái đầu tiên viết hoa, còn lại thành chữ thường\n",
    "# Kết quả sau capitalize():\n",
    "# \"Mademoiselle deray, il est interdit de manger de la choucroute ici.\"\n",
    "# Lúc này trong chuỗi có \"deray\" (chữ thường)\n",
    "# .find(\"deray\") -> tìm thấy \"deray\" bắt đầu từ vị trí index 13\n"
   ]
  },
  {
   "cell_type": "code",
   "execution_count": 21,
   "id": "034d4370-9602-492f-9cef-eea65d759c18",
   "metadata": {},
   "outputs": [
    {
     "name": "stdout",
     "output_type": "stream",
     "text": [
      "13\n"
     ]
    }
   ],
   "source": [
    "x = \"Mademoiselle Deray, il est interdit de manger de la choucroute ici.\"\n",
    "print(x.capitalize().find(\"deray\"))  \n",
    "# .capitalize() => viết hoa chữ cái đầu (\"Mademoiselle deray,...\") và biến tất cả chữ sau thành thường\n",
    "# => trong chuỗi mới, \"Deray\" bị đổi thành \"deray\"\n",
    "# .find(\"deray\") => tìm vị trí \"deray\" đầu tiên trong chuỗi\n",
    "# \"deray\" xuất hiện bắt đầu ở vị trí 13 (tính từ 0)\n"
   ]
  },
  {
   "cell_type": "code",
   "execution_count": 22,
   "id": "bdf0904a-4ca3-470e-a7d1-530808e9a82e",
   "metadata": {},
   "outputs": [
    {
     "name": "stdout",
     "output_type": "stream",
     "text": [
      "['Mademoiselle', 'Deray,', 'il', 'est', 'interdit', 'de', 'manger', 'de', 'la', 'choucroute', 'ici.']\n"
     ]
    }
   ],
   "source": [
    "x = \"Mademoiselle Deray, il est interdit de manger de la choucroute ici.\"\n",
    "print(x.split(\" \"))\n",
    "# .split(\" \") => tách chuỗi x thành 1 danh sách (list) dựa theo dấu cách \" \"\n",
    "# => Mỗi từ sẽ trở thành 1 phần tử trong list\n",
    "# Kết quả: ['Mademoiselle', 'Deray,', 'il', 'est', 'interdit', 'de', 'manger', 'de', 'la', 'choucroute', 'ici.']\n"
   ]
  },
  {
   "cell_type": "code",
   "execution_count": 23,
   "id": "fa462e91-0005-4dbd-a6ef-1fb28d98f7ea",
   "metadata": {},
   "outputs": [
    {
     "name": "stdout",
     "output_type": "stream",
     "text": [
      "['\"No, I am your Father!', \"- No... No. It's not true! That's impossible!\", '- Search your feelings. You know it to be true.', '- Noooooooo! Noooo!\"']\n"
     ]
    }
   ],
   "source": [
    "x = '''\"No, I am your Father!\n",
    "- No... No. It's not true! That's impossible!\n",
    "- Search your feelings. You know it to be true.\n",
    "- Noooooooo! Noooo!\"'''\n",
    "\n",
    "print(x.splitlines())\n",
    "# .splitlines() => tách chuỗi x thành danh sách (list) theo từng dòng (ngắt dòng \\n)\n",
    "# Mỗi khi gặp xuống dòng, Python sẽ coi đó là 1 phần tử mới trong list\n",
    "# Kết quả:\n",
    "# [\n",
    "#   '\"No, I am your Father!',\n",
    "#   '- No... No. It\\'s not true! That\\'s impossible!',\n",
    "#   '- Search your feelings. You know it to be true.',\n",
    "#   '- Noooooooo! Noooo!\"'\n",
    "# ]\n"
   ]
  },
  {
   "cell_type": "code",
   "execution_count": 24,
   "id": "f1f843d4-dbdc-4b5e-86bc-5a5f4ccb3500",
   "metadata": {},
   "outputs": [
    {
     "name": "stdout",
     "output_type": "stream",
     "text": [
      "Pardon, du sucre ?\n"
     ]
    }
   ],
   "source": [
    "x = \"\\n\\n Pardon, du sucre ? \\n \\n\"  \n",
    "print(x.strip())  \n",
    "# .strip() => loại bỏ toàn bộ khoảng trắng, tab, ký tự xuống dòng (\\n) ở **đầu** và **cuối** chuỗi  \n",
    "# Chuỗi gốc có 2 ký tự xuống dòng ở đầu và 2 ký tự xuống dòng ở cuối  \n",
    "# Sau khi .strip(), chỉ còn lại nội dung chính:  \n",
    "# \"Pardon, du sucre ?\"  \n"
   ]
  },
  {
   "cell_type": "code",
   "execution_count": 25,
   "id": "0891396a-f0d2-42d8-affd-8579ede36ea9",
   "metadata": {},
   "outputs": [
    {
     "name": "stdout",
     "output_type": "stream",
     "text": [
      "egallic\n"
     ]
    }
   ],
   "source": [
    "x = \"www.egallic.fr\"\n",
    "print(x.strip(\"wrf.\"))\n",
    "# .strip(\"wrf.\") sẽ xóa tất cả các ký tự \"w\", \"r\", \"f\", \".\" xuất hiện ở **đầu** và **cuối** chuỗi\n",
    "# Chuỗi gốc: \"www.egallic.fr\"\n",
    "# Bên trái có \"www.\" → bị xóa\n",
    "# Bên phải có \".fr\" → cũng bị xóa"
   ]
  },
  {
   "cell_type": "code",
   "execution_count": 26,
   "id": "713e6749-88d8-4cef-a122-d5da0a64f36f",
   "metadata": {},
   "outputs": [
    {
     "name": "stdout",
     "output_type": "stream",
     "text": [
      "egallic\n"
     ]
    }
   ],
   "source": [
    "x = \"www.egallic.fr\"\n",
    "print(x.strip(\"wrf.\"))\n",
    "# .strip(\"wrf.\") sẽ loại bỏ tất cả các ký tự thuộc tập { \"w\", \"r\", \"f\", \".\" } \n",
    "# ở cả ĐẦU và CUỐI chuỗi (chứ không phải xóa chuỗi con cụ thể).\n",
    "# \"www.egallic.fr\"\n",
    "# Bên trái: \"www.\" gồm toàn ký tự \"w\" và \".\" → bị loại bỏ hết\n",
    "# Bên phải: \".fr\" gồm \".\", \"f\", \"r\" → cũng bị loại bỏ"
   ]
  },
  {
   "cell_type": "code",
   "execution_count": 27,
   "id": "646b47f4-e0ec-46d7-a892-2ef212af46e0",
   "metadata": {},
   "outputs": [
    {
     "name": "stdout",
     "output_type": "stream",
     "text": [
      "  48.11\n"
     ]
    }
   ],
   "source": [
    "longitude = \"48.11\"\n",
    "print(longitude.rjust(7,\" \"))\n",
    "# .rjust(width, fillchar) sẽ căn CHUỖI sang bên phải trong khung có độ rộng = 7\n",
    "# \"48.11\" dài 5 ký tự, nên cần thêm 2 ký tự khoảng trắng bên trái để đủ 7"
   ]
  },
  {
   "cell_type": "code",
   "execution_count": 28,
   "id": "ebab4421-50c3-48d5-a183-8d68d8ca0b04",
   "metadata": {},
   "outputs": [
    {
     "name": "stdout",
     "output_type": "stream",
     "text": [
      "Ridge ! Vous, ici ? Dans votre propre salle de bain ? Quelle surprise !\n"
     ]
    }
   ],
   "source": [
    "x = \"Criquette ! Vous, ici ? Dans votre propre salle de bain ? Quelle surprise !\"\n",
    "print(x.replace(\"Criquette\", \"Ridge\"))\n",
    "# .replace(old, new) => thay thế tất cả xuất hiện của chuỗi \"old\" bằng chuỗi \"new\"\n",
    "# Ở đây, \"Criquette\" được thay bằng \"Ridge\""
   ]
  },
  {
   "cell_type": "code",
   "execution_count": 30,
   "id": "1cc6e9e1-0943-4e6b-9bbc-2e18ed50fa22",
   "metadata": {},
   "outputs": [
    {
     "name": "stdout",
     "output_type": "stream",
     "text": [
      "He has 0 followers.\n"
     ]
    }
   ],
   "source": [
    "nb_followers = 0\n",
    "message = \"He has \" + str(nb_followers) + \" followers.\"\n",
    "print(message)"
   ]
  },
  {
   "cell_type": "code",
   "execution_count": 31,
   "id": "cd2d3975-4b2e-4fd2-9a07-aabb711946af",
   "metadata": {},
   "outputs": [
    {
     "name": "stdout",
     "output_type": "stream",
     "text": [
      "He has 0 followers.\n"
     ]
    }
   ],
   "source": [
    "nb_followers = 0\n",
    "message = \"He has \" + str(nb_followers) + \" followers.\"  # Chuyển nb_followers từ int sang str để nối chuỗi\n",
    "print(message)\n",
    "\n"
   ]
  },
  {
   "cell_type": "markdown",
   "id": "7700ec15-461e-4fd3-8d05-140ae314d8df",
   "metadata": {},
   "source": [
    "# Exercise\n"
   ]
  },
  {
   "cell_type": "code",
   "execution_count": 32,
   "id": "5211338b-1ad0-4430-bbc2-3cf3e62a4953",
   "metadata": {},
   "outputs": [
    {
     "name": "stdout",
     "output_type": "stream",
     "text": [
      "7\n",
      "24\n",
      "23 to 0,C'est la piquette, Jack!\n",
      "23 to 0\n",
      "C'est la piquette, Jack!\n",
      "23 to 0\n",
      "C'est la piquette, jack!\n",
      "23 to 0\n",
      "c'est la piquette, jack!\n",
      " p\n",
      "Jack\n",
      "9\n",
      "-1\n",
      "7\n",
      "-1\n",
      "C'est lZ piquette, JZck!\n",
      "[\"C'est la piquette\", ' Jack!']\n",
      "Cest la piquette Jack\n"
     ]
    }
   ],
   "source": [
    "# 1. Create two variables a and b\n",
    "a = \"23 to 0\"\n",
    "b = \"C'est la piquette, Jack!\"\n",
    "\n",
    "# 2. Display the number of characters\n",
    "print(len(a))  # Kết quả: 6\n",
    "print(len(b))  # Kết quả: 23\n",
    "\n",
    "# 3. Concatenate a and b with a comma\n",
    "c = a + \",\" + b\n",
    "print(c)  # \"23 to 0,C'est la piquette, Jack!\"\n",
    "\n",
    "# 4. Same as 3 but with a newline as separator\n",
    "c_newline = a + \"\\n\" + b\n",
    "print(c_newline)\n",
    "\n",
    "# 5. Capitalize a and b\n",
    "print(a.capitalize())  # \"23 to 0\" (chữ số không đổi, chữ cái đầu tiên viết hoa)\n",
    "print(b.capitalize())  # \"C'est la piquette, jack!\"\n",
    "\n",
    "# 6. Lowercase a and b\n",
    "print(a.lower())  # \"23 to 0\"\n",
    "print(b.lower())  # \"c'est la piquette, jack!\"\n",
    "\n",
    "# 7. Extract the words \"la\" and \"Jack\" from b using indexes\n",
    "# \"la\" starts at index 8, \"Jack\" starts at index 19\n",
    "print(b[8:10])   # \"la\"\n",
    "print(b[19:23])  # \"Jack\"\n",
    "\n",
    "# 8. Look for sub-chain \"piqu\" and \"mauvais\" (mauvais not in b)\n",
    "print(b.find(\"piqu\"))    # 11\n",
    "print(b.find(\"mauvais\")) # -1\n",
    "\n",
    "# 9. Return position of first 'a' and 'w'\n",
    "print(b.find(\"a\"))  # 9\n",
    "print(b.find(\"w\"))  # -1\n",
    "\n",
    "# 10. Replace occurrences of pattern a by Z in b\n",
    "# Here \"a\" is the character 'a'\n",
    "print(b.replace(\"a\", \"Z\"))  \n",
    "# \"C'est lZ piquette, JZck!\"\n",
    "\n",
    "# 11. Separate string b using comma as separator\n",
    "b_split = b.split(\",\")\n",
    "print(b_split)  # [\"C'est la piquette\", \" Jack!\"]\n",
    "\n",
    "# 12. Bonus: remove punctuation and whitespace\n",
    "import re\n",
    "b_clean = re.sub(r'[^\\w\\s]', '', b)  # remove punctuation\n",
    "b_clean = b_clean.strip()            # remove whitespace at beginning/end\n",
    "print(b_clean)  # \"Cest la piquette Jack\"\n"
   ]
  },
  {
   "cell_type": "markdown",
   "id": "7f67061b-0205-4998-adbf-b079eb3f2f0e",
   "metadata": {},
   "source": [
    "# Intergers"
   ]
  },
  {
   "cell_type": "code",
   "execution_count": 34,
   "id": "b41a10bd-080c-4a49-8c83-815dfd9b0116",
   "metadata": {},
   "outputs": [
    {
     "name": "stdout",
     "output_type": "stream",
     "text": [
      "<class 'int'>\n"
     ]
    }
   ],
   "source": [
    "x = 2      # Gán giá trị 2 cho biến x (kiểu dữ liệu int - số nguyên)\n",
    "y = -2     # Gán giá trị -2 cho biến y (kiểu dữ liệu int - số nguyên)\n",
    "print(type(x))  # In ra kiểu dữ liệu của biến x -> <class 'int'>\n",
    "\n"
   ]
  },
  {
   "cell_type": "code",
   "execution_count": 35,
   "id": "a302fec5-849b-4a7f-bc6e-92a6b4cce230",
   "metadata": {},
   "outputs": [
    {
     "name": "stdout",
     "output_type": "stream",
     "text": [
      "<class 'float'>\n"
     ]
    }
   ],
   "source": [
    "x = 2.0          # Gán giá trị 2.0 cho biến x (kiểu dữ liệu float - số thực)\n",
    "y = 48.15162342  # Gán giá trị 48.15162342 cho biến y (cũng là kiểu float)\n",
    "print(type(x))   # In ra kiểu dữ liệu của biến x -> <class 'float'>\n"
   ]
  },
  {
   "cell_type": "code",
   "execution_count": 36,
   "id": "a3f81774-caf5-4736-8809-ea836b3d09d9",
   "metadata": {},
   "outputs": [
    {
     "name": "stdout",
     "output_type": "stream",
     "text": [
      "3200000000000.0\n"
     ]
    }
   ],
   "source": [
    "x = 3.2E12   # Gán cho x giá trị 3.2 × 10^12 (ký hiệu khoa học, viết hoa E cũng được)\n",
    "y = 3.2e12   # Tương tự, 3.2 × 10^12 (viết thường e cũng giống như E)\n",
    "print(x)     # In ra giá trị của x\n"
   ]
  },
  {
   "cell_type": "code",
   "execution_count": 37,
   "id": "d2f6355b-243f-4ea2-bf43-8fa3857b0b8b",
   "metadata": {},
   "outputs": [
    {
     "name": "stdout",
     "output_type": "stream",
     "text": [
      "0.35\n"
     ]
    }
   ],
   "source": [
    "print(0.35)\n"
   ]
  },
  {
   "cell_type": "markdown",
   "id": "2cdf0f82-c121-4e3c-8c55-375cc7cf8520",
   "metadata": {},
   "source": [
    "# Complex numbers"
   ]
  },
  {
   "cell_type": "code",
   "execution_count": 38,
   "id": "03640a15-1b45-4e6f-ad67-60dec6275ec8",
   "metadata": {},
   "outputs": [
    {
     "name": "stdout",
     "output_type": "stream",
     "text": [
      "(1+3j)\n"
     ]
    }
   ],
   "source": [
    "z = 1 + 3j    # Gán cho biến z một số phức (complex number) với phần thực = 1, phần ảo = 3\n",
    "print(z)      # In ra giá trị của z -> (1+3j)\n"
   ]
  },
  {
   "cell_type": "code",
   "execution_count": 39,
   "id": "91eec65a-b480-4564-ad10-0accbe6f6a5f",
   "metadata": {},
   "outputs": [
    {
     "name": "stdout",
     "output_type": "stream",
     "text": [
      "(1-3j)\n"
     ]
    }
   ],
   "source": [
    "z = 1 + 3j\n",
    "print(z.conjugate())\n"
   ]
  },
  {
   "cell_type": "code",
   "execution_count": 40,
   "id": "14e7b675-935b-4c45-b554-0fa56e4e24e4",
   "metadata": {},
   "outputs": [
    {
     "name": "stdout",
     "output_type": "stream",
     "text": [
      "1.0\n"
     ]
    }
   ],
   "source": [
    "z = complex(1, 3)   # Tạo số phức z = 1 + 3j (1 là phần thực, 3 là phần ảo)\n",
    "print(z.real)       # In ra phần thực (real part) của z\n"
   ]
  },
  {
   "cell_type": "markdown",
   "id": "9a670c2b-edc0-403d-bcaf-8388bab100e5",
   "metadata": {},
   "source": [
    "# Conversion to Integer"
   ]
  },
  {
   "cell_type": "code",
   "execution_count": 41,
   "id": "661b50a4-4fbb-4ba7-ad31-59c3caf7b369",
   "metadata": {},
   "outputs": [
    {
     "name": "stdout",
     "output_type": "stream",
     "text": [
      "<class 'int'>\n"
     ]
    }
   ],
   "source": [
    "x = \"3\"            # Gán giá trị \"3\" (chuỗi/string) cho biến x\n",
    "x_int = int(x)     # Chuyển chuỗi \"3\" thành số nguyên 3 bằng hàm int()\n",
    "print(type(x_int)) # In ra kiểu dữ liệu của x_int\n"
   ]
  },
  {
   "cell_type": "code",
   "execution_count": 42,
   "id": "378daa14-8e78-49d7-826e-18a054adcd05",
   "metadata": {},
   "outputs": [],
   "source": [
    "x = \"3\"   # Đây là chuỗi (str) vì 3 được đặt trong dấu \" \"\n",
    "y = 3     # Đây là số nguyên (int) vì 3 không có dấu ngoặc\n"
   ]
  },
  {
   "cell_type": "code",
   "execution_count": 45,
   "id": "88551cbf-bea0-4a2f-afb8-b9987ec74354",
   "metadata": {},
   "outputs": [
    {
     "name": "stdout",
     "output_type": "stream",
     "text": [
      "3\n"
     ]
    },
    {
     "data": {
      "text/plain": [
       "4"
      ]
     },
     "execution_count": 45,
     "metadata": {},
     "output_type": "execute_result"
    }
   ],
   "source": [
    "x = 3.6          # Gán giá trị 3.6 (kiểu float - số thực) cho biến x\n",
    "x_int = int(x)   # Ép kiểu float sang int -> sẽ bỏ phần thập phân\n",
    "print(x_int)     # In ra giá trị của x_int\n",
    "round(3.6) \n",
    "\n"
   ]
  },
  {
   "cell_type": "code",
   "execution_count": 46,
   "id": "ce8e5a94-9fe9-4033-be01-9fbb88102fe8",
   "metadata": {},
   "outputs": [
    {
     "name": "stdout",
     "output_type": "stream",
     "text": [
      "3.0\n"
     ]
    }
   ],
   "source": [
    "x = 3             # Gán giá trị 3 (kiểu int - số nguyên) cho biến x\n",
    "x_float = float(x) # Ép kiểu số nguyên 3 thành số thực (float)\n",
    "print(x_float)    # In ra giá trị của x_float\n"
   ]
  },
  {
   "cell_type": "markdown",
   "id": "ea5c9a28-803d-40f1-a088-fe60f18e9426",
   "metadata": {},
   "source": [
    "# Conversion to Complex"
   ]
  },
  {
   "cell_type": "code",
   "execution_count": 48,
   "id": "c15415ef-6c12-47fb-bb92-1fc20374588a",
   "metadata": {},
   "outputs": [
    {
     "name": "stdout",
     "output_type": "stream",
     "text": [
      "(2+0j)\n",
      "(2+5j)\n"
     ]
    }
   ],
   "source": [
    "x = \"2\"               # Gán giá trị \"2\" (chuỗi, str) cho biến x\n",
    "x_complex = complex(x) # Ép chuỗi \"2\" thành số phức (complex)\n",
    "print(x_complex)       # In ra giá trị của x_complex\n",
    "print(complex(2, 5))   # Kết quả: (2+5j)\n",
    "\n"
   ]
  },
  {
   "cell_type": "markdown",
   "id": "389dc197-2390-40f0-8490-cd7b7678f8d4",
   "metadata": {},
   "source": [
    "# Booleans\n"
   ]
  },
  {
   "cell_type": "code",
   "execution_count": 49,
   "id": "6a30eff5-0ac7-44f1-97b6-98486ae5cbde",
   "metadata": {},
   "outputs": [
    {
     "name": "stdout",
     "output_type": "stream",
     "text": [
      "3\n"
     ]
    }
   ],
   "source": [
    "res = True + True + False + True*True  \n",
    "# Trong Python: True = 1, False = 0\n",
    "# => res = 1 + 1 + 0 + 1*1\n",
    "# => res = 1 + 1 + 0 + 1 = 3\n",
    "\n",
    "print(res)  \n",
    "# In ra kết quả của res -> 3\n"
   ]
  },
  {
   "cell_type": "markdown",
   "id": "a4dea0a6-c383-4248-8efa-2b8384b8c6b3",
   "metadata": {},
   "source": [
    "# Empty Object"
   ]
  },
  {
   "cell_type": "code",
   "execution_count": 50,
   "id": "b6c6d7dc-506f-4014-9ff6-8e257850bb54",
   "metadata": {},
   "outputs": [
    {
     "name": "stdout",
     "output_type": "stream",
     "text": [
      "False\n"
     ]
    }
   ],
   "source": [
    "x = 1        # Gán giá trị 1 (kiểu int) cho biến x\n",
    "y = None     # Gán giá trị None (đại diện cho \"không có gì\") cho biến y\n",
    "\n",
    "print(x is None)  \n",
    "# Toán tử \"is\" dùng để so sánh xem 2 biến có cùng tham chiếu tới 1 đối tượng trong bộ nhớ hay không\n",
    "# Ở đây: x = 1 (int), còn None là một đối tượng đặc biệt\n",
    "# x chắc chắn KHÔNG phải là None\n",
    "# Kết quả: False\n"
   ]
  },
  {
   "cell_type": "markdown",
   "id": "1b7f595f-7c82-4ab5-a153-673f31f41760",
   "metadata": {},
   "source": [
    "# Dates and Times"
   ]
  },
  {
   "cell_type": "code",
   "execution_count": 51,
   "id": "947e9c0a-ade5-4096-a00e-f6cf581747d8",
   "metadata": {},
   "outputs": [
    {
     "name": "stdout",
     "output_type": "stream",
     "text": [
      "Tue Aug 19 05:47:32 2025\n"
     ]
    }
   ],
   "source": [
    "import datetime\n",
    "\n",
    "debut = datetime.datetime.now()  # Lấy thời gian hiện tại\n",
    "print(debut.ctime())             # In ra chuỗi thời gian\n"
   ]
  },
  {
   "cell_type": "code",
   "execution_count": 52,
   "id": "d4a61da2-d189-4136-8e22-c2c2d9434d50",
   "metadata": {},
   "outputs": [
    {
     "name": "stdout",
     "output_type": "stream",
     "text": [
      "1\n"
     ]
    }
   ],
   "source": [
    "print(debut.weekday())\n"
   ]
  },
  {
   "cell_type": "code",
   "execution_count": 53,
   "id": "81c196a5-be81-4787-9037-8f6c58cde09b",
   "metadata": {},
   "outputs": [
    {
     "name": "stdout",
     "output_type": "stream",
     "text": [
      "1\n"
     ]
    }
   ],
   "source": [
    "import datetime\n",
    "\n",
    "debut = datetime.datetime.now()\n",
    "print(debut.weekday())   # In ra số thứ trong tuần\n"
   ]
  },
  {
   "cell_type": "code",
   "execution_count": 54,
   "id": "95d95664-0fd6-4343-a0dc-03bc7025fa1d",
   "metadata": {},
   "outputs": [
    {
     "name": "stdout",
     "output_type": "stream",
     "text": [
      "2\n"
     ]
    }
   ],
   "source": [
    "import datetime\n",
    "\n",
    "debut = datetime.datetime.now()\n",
    "print(debut.isoweekday())  \n"
   ]
  },
  {
   "cell_type": "code",
   "execution_count": 55,
   "id": "982453b3-ef89-4b98-a2b8-e55cd7d03035",
   "metadata": {},
   "outputs": [
    {
     "name": "stdout",
     "output_type": "stream",
     "text": [
      "739482\n"
     ]
    }
   ],
   "source": [
    "print(debut.toordinal())\n"
   ]
  },
  {
   "cell_type": "markdown",
   "id": "72d54e4e-9020-4071-a385-147fae10cba9",
   "metadata": {},
   "source": [
    "# Date"
   ]
  },
  {
   "cell_type": "code",
   "execution_count": 56,
   "id": "ba957aec-730a-46c1-aeb1-35c64245a316",
   "metadata": {},
   "outputs": [
    {
     "name": "stdout",
     "output_type": "stream",
     "text": [
      "datetime.IsoCalendarDate(year=2013, week=17, weekday=2)\n"
     ]
    }
   ],
   "source": [
    "import datetime\n",
    "debut = datetime.date(2013, 4, 23)\n",
    "print(debut.isocalendar())"
   ]
  },
  {
   "cell_type": "code",
   "execution_count": 57,
   "id": "12d33dfa-6d6c-4be6-9951-b667f4e36db2",
   "metadata": {},
   "outputs": [
    {
     "name": "stdout",
     "output_type": "stream",
     "text": [
      "2014-04-23 2013-05-23 2013-04-24\n"
     ]
    }
   ],
   "source": [
    "x = debut.replace(year=2014)   # Tạo một bản sao của debut, chỉ thay đổi năm thành 2014\n",
    "y = debut.replace(month=5)     # Tạo một bản sao của debut, chỉ thay đổi tháng thành 5\n",
    "z = debut.replace(day=24)      # Tạo một bản sao của debut, chỉ thay đổi ngày thành 24\n",
    "print(x, y, z)                 # In ra cả 3 giá trị\n"
   ]
  },
  {
   "cell_type": "code",
   "execution_count": 58,
   "id": "47033854-6484-4491-92a1-3021c5fe9e7a",
   "metadata": {},
   "outputs": [
    {
     "name": "stdout",
     "output_type": "stream",
     "text": [
      "2014-04-23 2013-05-23 2013-04-24\n"
     ]
    }
   ],
   "source": [
    "import datetime\n",
    "\n",
    "debut = datetime.date(2013, 4, 23)  # Ngày ban đầu: 23/04/2013\n",
    "\n",
    "x = debut.replace(year=2014)  # -> 23/04/2014\n",
    "y = debut.replace(month=5)    # -> 23/05/2013\n",
    "z = debut.replace(day=24)     # -> 24/04/2013\n",
    "\n",
    "print(x, y, z)\n"
   ]
  },
  {
   "cell_type": "code",
   "execution_count": 59,
   "id": "2e436061-99de-49ec-823b-2483bd47aa72",
   "metadata": {},
   "outputs": [
    {
     "name": "stdout",
     "output_type": "stream",
     "text": [
      "23-04-2013\n"
     ]
    }
   ],
   "source": [
    "import datetime\n",
    "\n",
    "debut = datetime.date(2013, 4, 23)\n",
    "print(debut.strftime(\"%d-%m-%Y\"))\n"
   ]
  },
  {
   "cell_type": "code",
   "execution_count": 60,
   "id": "768db339-aefb-43c1-a6bd-68b0b8b3152f",
   "metadata": {},
   "outputs": [
    {
     "name": "stdout",
     "output_type": "stream",
     "text": [
      "2025-08-19\n"
     ]
    }
   ],
   "source": [
    "print(x.today())\n"
   ]
  },
  {
   "cell_type": "code",
   "execution_count": 61,
   "id": "776d2deb-4357-4789-8c97-ca513c6d1c6a",
   "metadata": {},
   "outputs": [
    {
     "name": "stdout",
     "output_type": "stream",
     "text": [
      "2025-08-19\n",
      "2025-08-19\n"
     ]
    }
   ],
   "source": [
    "import datetime\n",
    "\n",
    "x = datetime.date(2014, 4, 23)\n",
    "print(x.today())     # In ra ngày hôm nay, không phải 2014-04-23\n",
    "print(datetime.date.today())  # Cách dùng chuẩn\n"
   ]
  },
  {
   "cell_type": "markdown",
   "id": "1c4e8dce-1cd2-41e6-8ee5-474b4aa0e8fb",
   "metadata": {},
   "source": [
    "# Time"
   ]
  },
  {
   "cell_type": "code",
   "execution_count": 62,
   "id": "ecf52896-a71e-46d6-97f1-42d664443b05",
   "metadata": {},
   "outputs": [
    {
     "name": "stdout",
     "output_type": "stream",
     "text": [
      "158430.0\n"
     ]
    }
   ],
   "source": [
    "from datetime import timedelta\n",
    "\n",
    "duree = timedelta(days=1, seconds=30, hours=20)  \n",
    "# Tạo một khoảng thời gian (timedelta):\n",
    "# 1 ngày  = 86,400 giây\n",
    "# 20 giờ  = 72,000 giây\n",
    "# 30 giây =       30 giây\n",
    "# Tổng cộng = 158,430 giây\n",
    "\n",
    "print(duree.total_seconds())  \n",
    "\n"
   ]
  },
  {
   "cell_type": "code",
   "execution_count": 63,
   "id": "890412bf-8da0-489b-a856-af62c01e2192",
   "metadata": {},
   "outputs": [
    {
     "name": "stdout",
     "output_type": "stream",
     "text": [
      "<class 'datetime.timedelta'>\n"
     ]
    }
   ],
   "source": [
    "from datetime import date, timedelta  \n",
    "\n",
    "beginning = date(2018, 1, 1)     # Ngày bắt đầu: 1/1/2018\n",
    "end = date(2018, 1, 2)           # Ngày kết thúc: 2/1/2018\n",
    "\n",
    "nb_days = end - beginning        # Lấy hiệu của hai đối tượng date\n",
    "print(type(nb_days))             # In ra kiểu dữ liệu\n"
   ]
  },
  {
   "cell_type": "code",
   "execution_count": 64,
   "id": "66a16f17-8433-413b-8007-2d524af8c3fb",
   "metadata": {},
   "outputs": [
    {
     "name": "stdout",
     "output_type": "stream",
     "text": [
      "<class 'datetime.timedelta'>\n"
     ]
    }
   ],
   "source": [
    "from datetime import datetime  \n",
    "\n",
    "beginning = datetime(2018, 1, 1, 12, 26, 30, 230)  \n",
    "# Thời điểm bắt đầu: 01/01/2018 12:26:30.000230  \n",
    "\n",
    "end = datetime(2018, 1, 2, 11, 14, 31)  \n",
    "# Thời điểm kết thúc: 02/01/2018 11:14:31.000000  \n",
    "\n",
    "duration = end - beginning  \n",
    "# Lấy hiệu của 2 đối tượng datetime → kết quả là một khoảng thời gian (timedelta)  \n",
    "\n",
    "print(type(duration))  \n",
    "# In ra kiểu dữ liệu của duration\n"
   ]
  },
  {
   "cell_type": "code",
   "execution_count": 65,
   "id": "f74d953a-e4ab-4464-883f-03f6406e02af",
   "metadata": {},
   "outputs": [
    {
     "name": "stdout",
     "output_type": "stream",
     "text": [
      "1 day, 0:00:00\n"
     ]
    }
   ],
   "source": [
    "from datetime import date  \n",
    "\n",
    "beginning = date(2021, 2, 28)  \n",
    "# Ngày bắt đầu: 28/02/2021  \n",
    "\n",
    "end = date(2021, 3, 1)  \n",
    "# Ngày kết thúc: 01/03/2021  \n",
    "\n",
    "duration = end - beginning  \n",
    "# Hiệu giữa 2 đối tượng date → trả về đối tượng timedelta  \n",
    "\n",
    "print(duration)  \n"
   ]
  },
  {
   "cell_type": "code",
   "execution_count": 66,
   "id": "32df4e27-205e-4847-a1fd-9ac19d52e8b2",
   "metadata": {},
   "outputs": [
    {
     "name": "stdout",
     "output_type": "stream",
     "text": [
      "2 days, 0:00:00\n"
     ]
    }
   ],
   "source": [
    "from datetime import date  \n",
    "\n",
    "beginning_leap = date(2020, 2, 28)  \n",
    "# Ngày bắt đầu: 28/02/2020 (năm nhuận có 29 ngày)  \n",
    "\n",
    "end_leap = date(2020, 3, 1)  \n",
    "# Ngày kết thúc: 01/03/2020  \n",
    "\n",
    "beginning_leap = end_leap - beginning_leap  \n",
    "# Hiệu giữa 2 ngày → trả về timedelta  \n",
    "\n",
    "print(beginning_leap)  \n"
   ]
  },
  {
   "cell_type": "markdown",
   "id": "c6b031e4-5a22-46e1-afe6-7967e2374303",
   "metadata": {},
   "source": [
    "# Timedelta"
   ]
  },
  {
   "cell_type": "code",
   "execution_count": 67,
   "id": "4c99d94e-0e90-438f-840d-b3b5857796e7",
   "metadata": {},
   "outputs": [
    {
     "name": "stdout",
     "output_type": "stream",
     "text": [
      "2019-01-01 00:00:00\n"
     ]
    }
   ],
   "source": [
    "from datetime import datetime, timedelta  \n",
    "\n",
    "debut = datetime(2018, 12, 31, 23, 59, 59)  \n",
    "# thời điểm: 31/12/2018 23:59:59  \n",
    "\n",
    "print(debut + timedelta(seconds=1))  \n"
   ]
  },
  {
   "cell_type": "code",
   "execution_count": 70,
   "id": "b9657a20-066b-4c58-944b-e880083f6bc3",
   "metadata": {},
   "outputs": [
    {
     "name": "stdout",
     "output_type": "stream",
     "text": [
      "<class 'datetime.timedelta'>\n"
     ]
    }
   ],
   "source": [
    "from datetime import timedelta\n",
    "beginning = date(2018, 1, 1)\n",
    "end = date(2018, 1, 2)\n",
    "nb_days = end-beginning\n",
    "print(type(nb_days))\n"
   ]
  },
  {
   "cell_type": "code",
   "execution_count": 71,
   "id": "ed0bd651-a642-4132-8c5d-3cd754cfafc4",
   "metadata": {},
   "outputs": [
    {
     "name": "stdout",
     "output_type": "stream",
     "text": [
      "<class 'datetime.timedelta'>\n"
     ]
    }
   ],
   "source": [
    "beginning = datetime(2018, 1, 1, 12, 26, 30, 230)\n",
    "end = datetime(2018, 1, 2, 11, 14, 31)\n",
    "duration = end-beginning\n",
    "print(type(duration))"
   ]
  },
  {
   "cell_type": "code",
   "execution_count": 73,
   "id": "78333b3a-1542-4238-9f73-692bee561b5d",
   "metadata": {},
   "outputs": [
    {
     "data": {
      "text/plain": [
       "datetime.timedelta(days=2)"
      ]
     },
     "execution_count": 73,
     "metadata": {},
     "output_type": "execute_result"
    }
   ],
   "source": [
    "beginning_leap = date(2020, 2,28)\n",
    "end_leap = date(2020, 3, 1)\n",
    "beginning_leap = end_leap - beginning_leap\n",
    "beginning_leap\n"
   ]
  },
  {
   "cell_type": "code",
   "execution_count": 74,
   "id": "d3d2f880-85f3-4be7-a0a2-23b6519ae1e8",
   "metadata": {},
   "outputs": [
    {
     "name": "stdout",
     "output_type": "stream",
     "text": [
      "2019-01-01 00:00:00\n"
     ]
    }
   ],
   "source": [
    "debut = datetime(2018, 12, 31, 23, 59, 59)\n",
    "print(debut + timedelta(seconds = 1))\n"
   ]
  },
  {
   "cell_type": "code",
   "execution_count": 75,
   "id": "7621b48a-6a0f-4890-9002-54956eaadc7f",
   "metadata": {},
   "outputs": [
    {
     "data": {
      "text/plain": [
       "datetime.timedelta(days=1)"
      ]
     },
     "execution_count": 75,
     "metadata": {},
     "output_type": "execute_result"
    }
   ],
   "source": [
    "beginning = date(2021, 2,28)\n",
    "end = date(2021, 3, 1)\n",
    "duration = end - beginning\n",
    "duration"
   ]
  },
  {
   "cell_type": "markdown",
   "id": "39ec715b-7b3e-46a4-b880-b10d09f5edfe",
   "metadata": {},
   "source": [
    "# Exercise"
   ]
  },
  {
   "cell_type": "code",
   "execution_count": 68,
   "id": "fe25526d-af10-43c4-88d1-c05188831c23",
   "metadata": {},
   "outputs": [
    {
     "name": "stdout",
     "output_type": "stream",
     "text": [
      "2019-08-29\n",
      "<class 'datetime.date'>\n",
      "2025-08-19\n",
      "Year: 2019\n",
      "Minute: 30\n",
      "Second: 56\n",
      "d3: 2019-08-31 23:34:56\n",
      "Difference (seconds): 183840.0\n",
      "August 29, 2019\n"
     ]
    }
   ],
   "source": [
    "from datetime import date, datetime, timedelta\n",
    "\n",
    "# 1. Store the date of August 29, 2019 in d and display its type\n",
    "d = date(2019, 8, 29)\n",
    "print(d)                   # 2019-08-29\n",
    "print(type(d))             # <class 'datetime.date'>\n",
    "\n",
    "# 2. Display the current date\n",
    "print(date.today())        # ví dụ: 2025-08-19\n",
    "\n",
    "# 3. Store the next date in d2 and display year, minute, second\n",
    "d2 = datetime(2019, 8, 29, 20, 30, 56)\n",
    "print(\"Year:\", d2.year)    # 2019\n",
    "print(\"Minute:\", d2.minute) # 30\n",
    "print(\"Second:\", d2.second) # 56\n",
    "\n",
    "# 4. Add 2 days, 3 hours, and 4 minutes to d2 → store in d3\n",
    "d3 = d2 + timedelta(days=2, hours=3, minutes=4)\n",
    "print(\"d3:\", d3)\n",
    "\n",
    "# 5. Display difference in seconds between d3 and d2\n",
    "diff_seconds = (d3 - d2).total_seconds()\n",
    "# .total_seconds() chuyển chênh lệch đó sang đơn vị giây.\n",
    "print(\"Difference (seconds):\", diff_seconds)\n",
    "\n",
    "# 6. Display d2 in format: \"Month Day, Year\"\n",
    "print(d2.strftime(\"%B %d, %Y\"))  # August 29, 2019\n",
    "#Hàm strftime định dạng datetime thành chuỗi theo mẫu\n"
   ]
  },
  {
   "cell_type": "markdown",
   "id": "d54cf6d8-e566-472b-848a-2907282fd55c",
   "metadata": {},
   "source": [
    "# Kết thúc"
   ]
  },
  {
   "cell_type": "code",
   "execution_count": null,
   "id": "1494a356-e180-4288-91d3-de8635d6de71",
   "metadata": {},
   "outputs": [],
   "source": []
  }
 ],
 "metadata": {
  "kernelspec": {
   "display_name": "Python 3 (ipykernel)",
   "language": "python",
   "name": "python3"
  },
  "language_info": {
   "codemirror_mode": {
    "name": "ipython",
    "version": 3
   },
   "file_extension": ".py",
   "mimetype": "text/x-python",
   "name": "python",
   "nbconvert_exporter": "python",
   "pygments_lexer": "ipython3",
   "version": "3.12.1"
  }
 },
 "nbformat": 4,
 "nbformat_minor": 5
}
