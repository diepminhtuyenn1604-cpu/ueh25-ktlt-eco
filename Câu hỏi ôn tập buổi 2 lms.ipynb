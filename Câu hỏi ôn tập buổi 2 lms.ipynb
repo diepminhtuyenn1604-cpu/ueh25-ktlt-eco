{
 "cells": [
  {
   "cell_type": "markdown",
   "id": "afeefaf5-a074-40f3-acc8-e8b17b883f16",
   "metadata": {},
   "source": [
    "# Ôn Tập"
   ]
  },
  {
   "cell_type": "markdown",
   "id": "a70d2953-d96d-4335-b888-655461f30e4c",
   "metadata": {},
   "source": [
    "# Giới thiệu về Python"
   ]
  },
  {
   "cell_type": "code",
   "execution_count": null,
   "id": "2c67c8b6-cc37-4b5c-a147-2f8a15b83017",
   "metadata": {},
   "outputs": [],
   "source": [
    "Câu 1: Khẳng định nào sau đây là đúng về Python ?\n",
    "\n",
    "A. Python là một ngôn ngữ thông dịch cấp cao\n",
    "B. Python là ngôn ngữ lập trình hướng đối tượng\n",
    "C. Python là ngôn ngữ mã nguồn mở\n",
    "#Tất cả các đáp án đều đúng"
   ]
  },
  {
   "cell_type": "code",
   "execution_count": null,
   "id": "2915ecc7-5205-4f80-9f63-4c45b1cc88c0",
   "metadata": {},
   "outputs": [],
   "source": [
    "Câu 2: Khẳng định nào sau đây là không đúng về Python ?\n",
    "A. Python có thể sử dụng trên nhiều hệ điều hành khác nhau: Unix, Windows, Mac OS, Linux, …\n",
    "#. Python là một ngôn ngữ không phân biệt kiểu chữ HOA, chữ thường\n",
    "C. Python hoàn toàn tạo kiểu động và dùng cơ chế cấp phát bộ nhớ tự động\n",
    "D. Python có tốc độ thực hiện chậm hơn nhiều lần so với các ngôn ngữ biên dịch như C, Java, ..."
   ]
  },
  {
   "cell_type": "markdown",
   "id": "ee76c6ec-8739-47cc-88aa-3a36adf54e6f",
   "metadata": {},
   "source": [
    "# Biến, Định danh, kiểu dữ liệu, lệnh/khối lệnh"
   ]
  },
  {
   "cell_type": "code",
   "execution_count": null,
   "id": "2f617774-5d40-4992-8a53-fcb1ac419af8",
   "metadata": {},
   "outputs": [],
   "source": [
    "Câu 4: Các khối code (khối lệnh của hàm, vòng lặp,...) trong Python được xác định?\n",
    "\n",
    "A. Dấu ngoặc nhọn { }\n",
    "#. Canh lề\n",
    "C. Dấu ngoặc đơn ( )\n",
    "D. Dấu ngoặc vuông [ ]"
   ]
  },
  {
   "cell_type": "code",
   "execution_count": null,
   "id": "9371616a-fa28-4a3e-86b0-bf4f5e4b6825",
   "metadata": {},
   "outputs": [],
   "source": [
    "Câu 6: Khẳng định nào là đúng về chú thích trong Python?\n",
    "\n",
    "A. Python sử dụng kí tự // để bắt đầu một chú thích\n",
    "B. Python sử dụng kí tự % để bắt đầu một chú thích\n",
    "#. Python sử dụng kí tự # để bắt đầu một chú thích\n",
    "D. Python dùng ““ ”” (2 cặp nháy đôi) hoặc ‘‘ chú thích trên nhiều dòng ’’(2 cặp nháy đơn) để viết"
   ]
  },
  {
   "cell_type": "code",
   "execution_count": null,
   "id": "5b9fc231-fd48-411e-b06f-a750025b8dc9",
   "metadata": {},
   "outputs": [],
   "source": [
    "Câu 9: Câu lệnh nào sau đây in ra kiểu dữ liệu của biến x?\n",
    "\n",
    "A. print(type[x])\n",
    "B. print(typeof[x])\n",
    "C. print(typeof(x))\n",
    "#. print(type(x))"
   ]
  },
  {
   "cell_type": "code",
   "execution_count": null,
   "id": "03ac0d54-646f-4be8-b8aa-227fe4f4bc4a",
   "metadata": {},
   "outputs": [],
   "source": [
    "Câu 10: Câu lệnh nào sau đây được dùng đểgán giá trị cho x = 1, y = 2, z = 3 ?\n",
    "\n",
    "A. x,y,z = 1;2;3\n",
    "B. x;y;z = 1;2;3\n",
    "#. x,y,z = 1,2,3\n",
    "D. x;y;z = 1,2,3"
   ]
  },
  {
   "cell_type": "code",
   "execution_count": null,
   "id": "aec61c5b-a336-4663-9fda-c955fd7b9266",
   "metadata": {},
   "outputs": [],
   "source": [
    "Câu 12: Kết quả của câu lệnh sau là gì? print(type(hex(15)))\n",
    "\n",
    "A. <class 'int'>\n",
    "#. <class 'str'>\n",
    "C. 0xf\n",
    "D. '0xf'"
   ]
  },
  {
   "cell_type": "code",
   "execution_count": null,
   "id": "d3c7bd92-e80e-42cc-a18b-175198b1fe0f",
   "metadata": {},
   "outputs": [],
   "source": [
    "Câu 14: Kết quả của câu lệnh sau là gì? (Lưu ý: số lượng khoảng trắng trước số đó là 5) print(float(' -50\\n'))\n",
    "\n",
    "A. -50\n",
    "#. -50.0\n",
    "C. Có xuất hiện lỗi Error\n",
    "D. -50.0000000000000000 (16 chữ số sau dấu chấm động)"
   ]
  },
  {
   "cell_type": "code",
   "execution_count": null,
   "id": "aff118d0-7e8a-4014-9399-26be4f0350f4",
   "metadata": {},
   "outputs": [],
   "source": [
    "Câu 17: Chỉ ra trường hợp không hợp lệ khi đặt tên biến trong python ?\n",
    "\n",
    "#. bien-X = 5\n",
    "B. _bienX = 5\n",
    "C. bien_X = 5\n",
    "D. bienX = 5"
   ]
  },
  {
   "cell_type": "code",
   "execution_count": null,
   "id": "194035d5-5de5-42c6-b8a8-d8d6f380bdae",
   "metadata": {},
   "outputs": [],
   "source": [
    "Câu 22: Kết quả của lệnh sau là: print(100 >= 10**2)\n",
    "\n",
    "A. 100 >= 10**2\n",
    "#. True\n",
    "C. False\n",
    "D. None"
   ]
  },
  {
   "cell_type": "markdown",
   "id": "2e4453ba-4aab-4876-b8ea-3a395b48ccee",
   "metadata": {},
   "source": [
    "# If, Vòng lặp"
   ]
  },
  {
   "cell_type": "code",
   "execution_count": 1,
   "id": "1990fb62-32b9-4fb1-b94a-cfe1da54012c",
   "metadata": {},
   "outputs": [
    {
     "name": "stdout",
     "output_type": "stream",
     "text": [
      "4\n"
     ]
    }
   ],
   "source": [
    "myList = [1, 2, 3, 4, 5, 5, 1]   # Tạo danh sách số\n",
    "\n",
    "_max = myList[0]                  # Gán giá trị lớn nhất ban đầu là phần tử đầu tiên (1)\n",
    "index_max = 0                     # Gán chỉ số lớn nhất ban đầu là 0\n",
    "\n",
    "for i in range(1, len(myList)):   # Duyệt qua từng phần tử từ vị trí 1 đến hết\n",
    "    if myList[i] > _max:          # Nếu phần tử tại i lớn hơn giá trị lớn nhất hiện tại\n",
    "        _max = myList[i]          # Cập nhật giá trị lớn nhất\n",
    "        index_max = i             # Cập nhật chỉ số của giá trị lớn nhất\n",
    "\n",
    "print(index_max)                  # In ra chỉ số của phần tử lớn nhất\n"
   ]
  },
  {
   "cell_type": "code",
   "execution_count": 1,
   "id": "afe55a31-4b87-4a93-b31a-68cc89c79968",
   "metadata": {},
   "outputs": [
    {
     "name": "stdout",
     "output_type": "stream",
     "text": [
      "HeoWord"
     ]
    }
   ],
   "source": [
    "#Câu37:\n",
    "for item in \"HelloWorld\":\n",
    "    if item == \"l\":\n",
    "        continue\n",
    "    print(item, end=\"\")\n"
   ]
  },
  {
   "cell_type": "code",
   "execution_count": 2,
   "id": "f4e49382-3cd1-4ec0-bce8-08073bd59d60",
   "metadata": {},
   "outputs": [
    {
     "name": "stdout",
     "output_type": "stream",
     "text": [
      "(0, 'a')\n",
      "(1, 'b')\n"
     ]
    }
   ],
   "source": [
    "#Câu 35\n",
    "letter = [\"a\", \"b\"]\n",
    "for i in enumerate(letter):\n",
    "    print(i)\n"
   ]
  },
  {
   "cell_type": "code",
   "execution_count": 3,
   "id": "790e4c10-da34-43ba-b96e-d996d9c998b7",
   "metadata": {},
   "outputs": [
    {
     "name": "stdout",
     "output_type": "stream",
     "text": [
      "0123456789"
     ]
    }
   ],
   "source": [
    "#Câu 28\n",
    "for i in range(20):\n",
    "    if i == 10:\n",
    "        break\n",
    "    else:\n",
    "        print(i, end=\"\")\n",
    "else:\n",
    "    print(\"*\")\n"
   ]
  },
  {
   "cell_type": "markdown",
   "id": "c0af6c76-c421-4ff2-b110-510a38fc0f47",
   "metadata": {},
   "source": [
    "# String"
   ]
  },
  {
   "cell_type": "code",
   "execution_count": 4,
   "id": "3c20aac8-99d7-4f8b-baf0-74a015ed4601",
   "metadata": {},
   "outputs": [
    {
     "ename": "TypeError",
     "evalue": "'str' object does not support item assignment",
     "output_type": "error",
     "traceback": [
      "\u001b[31m---------------------------------------------------------------------------\u001b[39m",
      "\u001b[31mTypeError\u001b[39m                                 Traceback (most recent call last)",
      "\u001b[36mCell\u001b[39m\u001b[36m \u001b[39m\u001b[32mIn[4]\u001b[39m\u001b[32m, line 3\u001b[39m\n\u001b[32m      1\u001b[39m \u001b[38;5;66;03m# Câu 39\u001b[39;00m\n\u001b[32m      2\u001b[39m word = \u001b[33m'\u001b[39m\u001b[33mPython\u001b[39m\u001b[33m'\u001b[39m\n\u001b[32m----> \u001b[39m\u001b[32m3\u001b[39m \u001b[43mword\u001b[49m\u001b[43m[\u001b[49m\u001b[32;43m0\u001b[39;49m\u001b[43m]\u001b[49m = \u001b[33m'\u001b[39m\u001b[33mK\u001b[39m\u001b[33m'\u001b[39m\n\u001b[32m      4\u001b[39m \u001b[38;5;28mprint\u001b[39m(word[\u001b[32m0\u001b[39m])\n",
      "\u001b[31mTypeError\u001b[39m: 'str' object does not support item assignment"
     ]
    }
   ],
   "source": [
    "# Câu 39\n",
    "word = 'Python'\n",
    "word[0] = 'K'\n",
    "print(word[0])\n",
    "#Kiểu str trong Python là immutable (bất biến).Nghĩa là: bạn không thể thay đổi trực tiếp một ký tự trong chuỗi bằng cách gán như word[0] = 'K'.\n"
   ]
  },
  {
   "cell_type": "code",
   "execution_count": null,
   "id": "9d2322db-f936-48d9-bb46-c91f3c403a51",
   "metadata": {},
   "outputs": [],
   "source": [
    "Câu 41: Trong Python, hàm nào được dùng để chuyển đổi các ký tự in thường sang in hoa ?\n",
    "\n",
    "#. upper()\n",
    "B. uppercase()\n",
    "C. upperCase()\n",
    "D. toUpperCase()"
   ]
  },
  {
   "cell_type": "code",
   "execution_count": 1,
   "id": "0bd1293d-e12c-4c24-a221-8a1f35ad5fe4",
   "metadata": {},
   "outputs": [
    {
     "ename": "TypeError",
     "evalue": "can't multiply sequence by non-int of type 'str'",
     "output_type": "error",
     "traceback": [
      "\u001b[31m---------------------------------------------------------------------------\u001b[39m",
      "\u001b[31mTypeError\u001b[39m                                 Traceback (most recent call last)",
      "\u001b[36mCell\u001b[39m\u001b[36m \u001b[39m\u001b[32mIn[1]\u001b[39m\u001b[32m, line 2\u001b[39m\n\u001b[32m      1\u001b[39m \u001b[38;5;66;03m#Câu 42:\u001b[39;00m\n\u001b[32m----> \u001b[39m\u001b[32m2\u001b[39m num = \u001b[33;43m\"\u001b[39;49m\u001b[33;43m1\u001b[39;49m\u001b[33;43m\"\u001b[39;49m\u001b[43m  \u001b[49m\u001b[43m*\u001b[49m\u001b[43m  \u001b[49m\u001b[33;43m\"\u001b[39;49m\u001b[33;43m5\u001b[39;49m\u001b[33;43m\"\u001b[39;49m \n\u001b[32m      3\u001b[39m \u001b[38;5;28mprint\u001b[39m(num)\n",
      "\u001b[31mTypeError\u001b[39m: can't multiply sequence by non-int of type 'str'"
     ]
    }
   ],
   "source": [
    "#Câu 42:\n",
    "num = \"1\"  *  \"5\" \n",
    "print(num)"
   ]
  },
  {
   "cell_type": "code",
   "execution_count": 2,
   "id": "f8c82d2c-eed5-4f2d-a04d-833ab466e4cc",
   "metadata": {},
   "outputs": [
    {
     "ename": "SyntaxError",
     "evalue": "invalid syntax (995833304.py, line 2)",
     "output_type": "error",
     "traceback": [
      "  \u001b[36mCell\u001b[39m\u001b[36m \u001b[39m\u001b[32mIn[2]\u001b[39m\u001b[32m, line 2\u001b[39m\n\u001b[31m    \u001b[39m\u001b[31mnum = \"1\"  *\u001b[39m\n                  ^\n\u001b[31mSyntaxError\u001b[39m\u001b[31m:\u001b[39m invalid syntax\n"
     ]
    }
   ],
   "source": [
    "# Câu 44:\n",
    "num = \"1\"  *  \n",
    "5 print(num)"
   ]
  },
  {
   "cell_type": "code",
   "execution_count": 3,
   "id": "fe248285-5703-4d49-8cac-105debe895b5",
   "metadata": {},
   "outputs": [
    {
     "name": "stdout",
     "output_type": "stream",
     "text": [
      "dlroW olleH\n"
     ]
    }
   ],
   "source": [
    "# Câu 45:\n",
    "print(\"Hello World\"[::-1])"
   ]
  },
  {
   "cell_type": "code",
   "execution_count": 5,
   "id": "0aafb81e-8ca3-40f8-9cf3-fa2300fe675b",
   "metadata": {},
   "outputs": [
    {
     "name": "stdout",
     "output_type": "stream",
     "text": [
      "Hi, Hello va World\n"
     ]
    }
   ],
   "source": [
    "# Câu 50\n",
    "ss = \"{1}, {0} va {2}\".format('Hello','Hi','World') \n",
    "print(ss)"
   ]
  },
  {
   "cell_type": "markdown",
   "id": "23b8250b-ce6d-4cd3-979b-d7aaabf90b7a",
   "metadata": {},
   "source": [
    "# List, Set, Tuple, Dictonary\n"
   ]
  },
  {
   "cell_type": "code",
   "execution_count": null,
   "id": "5116cbd7-e741-4f0e-a699-48cdc520394b",
   "metadata": {},
   "outputs": [],
   "source": [
    "Câu 53: Kiểu dữ liệu nào sau đây là TUPLE?\n",
    "\n",
    "#. (\"apple\", \"banana\", \"cherry\")\n",
    "B. {\"apple\", \"banana\", \"cherry\"}\n",
    "C. {\"name\": \"apple\", \"color\": \"green\"}\n",
    "D. [\"apple\", \"banana\", \"cherry\"]"
   ]
  },
  {
   "cell_type": "code",
   "execution_count": null,
   "id": "2b2886f6-3436-4d90-9f6f-230bf1b49470",
   "metadata": {},
   "outputs": [],
   "source": [
    "Câu 56: Kiểu dữ liệu nào sau đây chứa các phần tử có thứ tự, có thể được thay đổi và cho phép trùng nhau\n",
    "\n",
    "#. LIST\n",
    "B. DICTIONARY\n",
    "C. TUPLE\n",
    "D. SET"
   ]
  },
  {
   "cell_type": "code",
   "execution_count": 6,
   "id": "24749399-4739-40cb-a516-16e2783860d6",
   "metadata": {},
   "outputs": [
    {
     "name": "stdout",
     "output_type": "stream",
     "text": [
      "[(0, 2), (1, 3)]\n"
     ]
    }
   ],
   "source": [
    "# Câu 59:\n",
    "print(list(enumerate([2, 3])))\n",
    "#enumerate([2, 3]) làm gì?\n",
    "\n",
    "#enumerate() nhận vào một iterable (list, tuple, string, …)\n",
    "\n",
    "#Nó trả về một iterator gồm các cặp (index, value)\n",
    "\n",
    "#Mặc định index bắt đầu từ 0"
   ]
  },
  {
   "cell_type": "code",
   "execution_count": 7,
   "id": "e7900761-3494-4397-9fe9-ebc2957643dd",
   "metadata": {},
   "outputs": [
    {
     "name": "stdout",
     "output_type": "stream",
     "text": [
      "{1, 2, 3, 4, 5}\n"
     ]
    }
   ],
   "source": [
    "# Câu 70: \n",
    "s = set([2,2,2,1,1,3,4,5,5]) \n",
    "print(s)\n",
    "#set() trong Python là gì?\n",
    "\n",
    "#set = tập hợp (giống toán học).\n",
    "\n",
    "#Đặc điểm quan trọng:\n",
    "\n",
    "#Không chứa phần tử trùng lặp\n",
    "\n",
    "#Không đảm bảo thứ tự (khi in ra có thể khác thứ tự ban đầu)"
   ]
  },
  {
   "cell_type": "code",
   "execution_count": 8,
   "id": "2314e3ff-3ffb-4115-92fc-f63194f73023",
   "metadata": {},
   "outputs": [
    {
     "ename": "TypeError",
     "evalue": "'tuple' object doesn't support item deletion",
     "output_type": "error",
     "traceback": [
      "\u001b[31m---------------------------------------------------------------------------\u001b[39m",
      "\u001b[31mTypeError\u001b[39m                                 Traceback (most recent call last)",
      "\u001b[36mCell\u001b[39m\u001b[36m \u001b[39m\u001b[32mIn[8]\u001b[39m\u001b[32m, line 2\u001b[39m\n\u001b[32m      1\u001b[39m T = (\u001b[32m1\u001b[39m,\u001b[32m2\u001b[39m,\u001b[32m3\u001b[39m,\u001b[32m4\u001b[39m,\u001b[32m5\u001b[39m) \n\u001b[32m----> \u001b[39m\u001b[32m2\u001b[39m \u001b[38;5;28;01mdel\u001b[39;00m \u001b[43mT\u001b[49m\u001b[43m[\u001b[49m\u001b[32;43m3\u001b[39;49m\u001b[43m]\u001b[49m \n\u001b[32m      3\u001b[39m \u001b[38;5;28mprint\u001b[39m(T)\n",
      "\u001b[31mTypeError\u001b[39m: 'tuple' object doesn't support item deletion"
     ]
    }
   ],
   "source": [
    "T = (1,2,3,4,5) \n",
    "del T[3] \n",
    "print(T)\n",
    "tuple là một kiểu dữ liệu bất biến (immutable).\n",
    "Nghĩa là: sau khi đã tạo ra, bạn không thể thay đổi, xóa, \n",
    "hay thêm phần tử trực tiếp bằng chỉ số. \n",
    "cố gắng xóa phần tử có chỉ số 3 (tức là số 4 trong tuple) nhưng\n",
    "do tuple là immutable, nên Python báo lỗi.\n"
   ]
  },
  {
   "cell_type": "code",
   "execution_count": 9,
   "id": "78d0e229-43d3-44dd-b56b-51890ad12bb2",
   "metadata": {},
   "outputs": [
    {
     "name": "stdout",
     "output_type": "stream",
     "text": [
      "None 42\n"
     ]
    }
   ],
   "source": [
    "# Câu 75:\n",
    "d = { 1:\"a\", 2:\"b\" } \n",
    "print(d.get(0), d.get(0, 42))\n",
    "\n",
    "d.get(0)\n",
    "Nếu key tồn tại trong dictionary → trả về giá trị tương ứng.\n",
    "\n",
    "Nếu key không tồn tại → trả về default (nếu có), còn nếu không có default thì trả về None.\n",
    "Key 0 không có trong dict\n",
    "\n",
    "Không có giá trị mặc định → kết quả = None\n",
    "\n",
    "d.get(0, 42)\n",
    "\n",
    "Key 0 cũng không có\n",
    "\n",
    "Nhưng lần này có giá trị mặc định = 42\n"
   ]
  },
  {
   "cell_type": "markdown",
   "id": "1e03aa0e-2bf6-4260-9f2c-b42b1c305692",
   "metadata": {},
   "source": [
    "# Function/Module/Package"
   ]
  },
  {
   "cell_type": "code",
   "execution_count": 12,
   "id": "063d7708-7382-4d99-a8b0-5c54512ec041",
   "metadata": {},
   "outputs": [
    {
     "name": "stdout",
     "output_type": "stream",
     "text": [
      "Hello\n",
      "WorldWorldWorldWorldWorld\n"
     ]
    }
   ],
   "source": [
    "#Câu 77:\n",
    "def say(message, times = 1): \n",
    "    print(message * times)\n",
    "say('Hello') \n",
    "say('World', 5)\n",
    "#Hàm say có 2 tham số:\n",
    "\n",
    "#message: chuỗi cần in ra.\n",
    "\n",
    "#times: số lần lặp lại chuỗi.\n"
   ]
  },
  {
   "cell_type": "code",
   "execution_count": 13,
   "id": "45eb5c5c-f30e-4b79-8659-812480448019",
   "metadata": {},
   "outputs": [
    {
     "ename": "SyntaxError",
     "evalue": "parameter without a default follows parameter with a default (543922690.py, line 2)",
     "output_type": "error",
     "traceback": [
      "  \u001b[36mCell\u001b[39m\u001b[36m \u001b[39m\u001b[32mIn[13]\u001b[39m\u001b[32m, line 2\u001b[39m\n\u001b[31m    \u001b[39m\u001b[31mdef say(s1 = 'Hello World!', s2):\u001b[39m\n                                 ^\n\u001b[31mSyntaxError\u001b[39m\u001b[31m:\u001b[39m parameter without a default follows parameter with a default\n"
     ]
    }
   ],
   "source": [
    "# Câu 82:\n",
    "def say(s1 = 'Hello World!', s2):\n",
    "    print(s1, s2)\n",
    "\n",
    "say(s2 = 'Hi', s1 = 'Hi World')\n",
    "say(s2 =\"Hello Python\")\n",
    "#Trong Python, tham số có giá trị mặc định (default argument) phải được\n",
    "#đặt sau tất cả các tham số không mặc định.\n"
   ]
  },
  {
   "cell_type": "code",
   "execution_count": null,
   "id": "48ce77fd-eb07-4af7-b767-721dd5490c06",
   "metadata": {},
   "outputs": [],
   "source": [
    "# Câu 85: \n",
    "Câu 85: Hàm nào sau đây là hàm tích hợp sẵn trong Python?\n",
    "\n",
    "A. cos()\n",
    "B. sqrt()\n",
    "C. factorial()\n",
    "#. print()"
   ]
  },
  {
   "cell_type": "markdown",
   "id": "7ec3c28e-7076-433e-9455-80191a0d617c",
   "metadata": {},
   "source": [
    "# FILE(I/O)"
   ]
  },
  {
   "cell_type": "code",
   "execution_count": null,
   "id": "603f0dc5-45c3-46a0-8443-8a59ffde569f",
   "metadata": {},
   "outputs": [],
   "source": [
    "Câu 89: Đoạn code dưới đây có ý nghĩa gì? f = open(\"test.txt\")\n",
    "\n",
    "A. Mở file test.txt được phép đọc và ghi vào file.\n",
    "#. Mở file test.txt và chỉ được phép đọc file.\n",
    "C. Mở file test.txt và được phép ghi đè vào file\n",
    "D. Mở file test.txt và được phép ghi tiếp vào file."
   ]
  },
  {
   "cell_type": "code",
   "execution_count": null,
   "id": "b2ed193f-6de8-4a1e-86ec-f38915362b07",
   "metadata": {},
   "outputs": [],
   "source": [
    "Câu 90: Mở file với chế độ mode 'wb' có ý nghĩa gì?\n",
    "\n",
    "A. Mở file để ghi.\n",
    "#. Mở file để đọc và ghi.\n",
    "C. Mở file để ghi cho dạng nhị phân.\n",
    "D. Mở file để đọc và ghi cho dạng nhị phân."
   ]
  },
  {
   "cell_type": "markdown",
   "id": "112cbd57-cc4d-40d4-893f-ff7f60ab4a2c",
   "metadata": {},
   "source": [
    "# Kết thúc"
   ]
  },
  {
   "cell_type": "code",
   "execution_count": null,
   "id": "325c2257-8c5b-4f12-89ca-8c5753c5050d",
   "metadata": {},
   "outputs": [],
   "source": []
  }
 ],
 "metadata": {
  "kernelspec": {
   "display_name": "Python 3 (ipykernel)",
   "language": "python",
   "name": "python3"
  },
  "language_info": {
   "codemirror_mode": {
    "name": "ipython",
    "version": 3
   },
   "file_extension": ".py",
   "mimetype": "text/x-python",
   "name": "python",
   "nbconvert_exporter": "python",
   "pygments_lexer": "ipython3",
   "version": "3.12.1"
  }
 },
 "nbformat": 4,
 "nbformat_minor": 5
}
