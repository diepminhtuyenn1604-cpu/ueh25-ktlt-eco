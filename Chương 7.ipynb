{
 "cells": [
  {
   "cell_type": "markdown",
   "id": "dd40808b-ec9d-4474-a51f-b7ab562aa6dd",
   "metadata": {},
   "source": [
    "# Chapter 7: Loops"
   ]
  },
  {
   "cell_type": "markdown",
   "id": "2fb58fed-50b9-440c-bcde-5ca0e13b5d6a",
   "metadata": {},
   "source": [
    "# Loops with while"
   ]
  },
  {
   "cell_type": "code",
   "execution_count": 2,
   "id": "3e58f471-bf46-4aaa-bc94-ff9a2fe29bed",
   "metadata": {},
   "outputs": [
    {
     "name": "stdout",
     "output_type": "stream",
     "text": [
      "1\n",
      "2\n",
      "3\n",
      "4\n",
      "5\n",
      "1\n",
      "2\n",
      "3\n",
      "4\n",
      "5\n"
     ]
    }
   ],
   "source": [
    "#1. Vòng lặp for: Khi dùng: Biết trước số lần lặp hoặc muốn lặp qua một dãy (list, string, range, …).\n",
    "for i in range(1, 6):  # range(1,6) = [1,2,3,4,5]\n",
    "    print(i)\n",
    "# Vòng lặp while\n",
    "\n",
    "# Khi dùng: Không biết trước số lần lặp, chỉ biết điều kiện còn đúng thì lặp tiếp.\n",
    "i = 1\n",
    "while i <= 5:   # lặp khi điều kiện còn đúng\n",
    "    print(i)\n",
    "    i += 1      # phải tự tăng i\n",
    "\n"
   ]
  },
  {
   "cell_type": "code",
   "execution_count": 3,
   "id": "42db5fbd-3fa1-486d-b5d7-c7c906d0d25e",
   "metadata": {},
   "outputs": [
    {
     "name": "stdout",
     "output_type": "stream",
     "text": [
      "33.333333333333336\n",
      "True\n",
      "11.111111111111112\n",
      "11.111111111111112\n",
      "True\n",
      "3.703703703703704\n",
      "3.703703703703704\n",
      "True\n",
      "1.234567901234568\n",
      "1.234567901234568\n",
      "False\n",
      "0.41152263374485604\n"
     ]
    }
   ],
   "source": [
    "x = 100                  # Gán giá trị ban đầu cho biến x bằng 100\n",
    "\n",
    "while x / 3 > 1:         # Lặp chừng nào x/3 vẫn còn lớn hơn 1\n",
    "    print(x / 3)         # In ra giá trị x/3 ở mỗi vòng lặp\n",
    "    x = x / 3            # Cập nhật lại giá trị của x bằng x/3\n",
    "    print(x/3>1)\n",
    "    print(x/3)\n",
    "\n"
   ]
  },
  {
   "cell_type": "markdown",
   "id": "31b0ef9e-39d9-4083-b5b1-f131a975257e",
   "metadata": {},
   "source": [
    "# LOOPS WITH FOR"
   ]
  },
  {
   "cell_type": "code",
   "execution_count": 4,
   "id": "40e3d121-2247-409c-9c24-f4427bc79dd0",
   "metadata": {},
   "outputs": [
    {
     "name": "stdout",
     "output_type": "stream",
     "text": [
      "The squared value of 0 is 0\n",
      "The squared value of 1 is 1\n",
      "The squared value of 2 is 4\n",
      "The squared value of 3 is 9\n",
      "The squared value of 4 is 16\n",
      "The squared value of 5 is 25\n",
      "The squared value of 6 is 36\n",
      "The squared value of 7 is 49\n",
      "The squared value of 8 is 64\n",
      "The squared value of 9 is 81\n",
      "The squared value of 10 is 100\n"
     ]
    }
   ],
   "source": [
    "message = \"The squared value of {} is {}\"  \n",
    "# Tạo 1 chuỗi có 2 chỗ trống {} để chèn giá trị sau này (format string)\n",
    "\n",
    "n = 10  \n",
    "# Gán n = 10 → sẽ tính bình phương cho các số từ 0 đến 10\n",
    "\n",
    "for i in range(0, n+1):  \n",
    "    # Vòng lặp for: i chạy từ 0 đến n (bao gồm cả 10 vì n+1)\n",
    "    \n",
    "    print(message.format(i, i**2))  \n",
    "    # Thay {} đầu tiên bằng i\n",
    "    # Thay {} thứ hai bằng i**2 (bình phương của i)\n",
    "    # Rồi in kết quả ra\n"
   ]
  },
  {
   "cell_type": "code",
   "execution_count": 6,
   "id": "8d8c98a7-2cc1-4260-9ff0-382f6500d09b",
   "metadata": {},
   "outputs": [
    {
     "name": "stdout",
     "output_type": "stream",
     "text": [
      "[0, 1, 4, 9, 16, 25, 36, 49, 64, 81, 100]\n"
     ]
    }
   ],
   "source": [
    "n = 10  \n",
    "# Gán giá trị n = 10 → nghĩa là sẽ tính bình phương các số từ 0 đến 10\n",
    "\n",
    "n_squares = []  \n",
    "# Tạo một list rỗng để lưu các giá trị bình phương\n",
    "\n",
    "for i in range(0, n+1):  \n",
    "    # Vòng lặp for: i chạy từ 0 → 10 (bao gồm cả 10 vì n+1)\n",
    "    \n",
    "    n_squares.append(i**2) \n",
    "    # Tính i**2 (bình phương của i) và thêm vào list n_squares\n",
    "\n",
    "print(n_squares)  \n",
    "# In ra toàn bộ list các bình phương đã lưu\n"
   ]
  },
  {
   "cell_type": "code",
   "execution_count": 1,
   "id": "7f6a382d-34b7-41db-acfc-998c9397a180",
   "metadata": {},
   "outputs": [
    {
     "name": "stdout",
     "output_type": "stream",
     "text": [
      "[0, 1, 4, 9, 16, 25, 36, 49, 64, 81, 100]\n"
     ]
    }
   ],
   "source": [
    "n = 10\n",
    "n_squares = []\n",
    "for i in range (0, n+1):\n",
    "    n_squares.append (i**2)\n",
    "print (n_squares)"
   ]
  },
  {
   "cell_type": "code",
   "execution_count": 2,
   "id": "c9818bbe-b7c5-4c35-9877-cc9e065864fa",
   "metadata": {},
   "outputs": [
    {
     "name": "stdout",
     "output_type": "stream",
     "text": [
      "The squared value of 0 is 0\n",
      "The squared value of 1 is 1\n",
      "The squared value of 2 is 4\n",
      "The squared value of 8 is 64\n",
      "The squared value of 9 is 81\n",
      "The squared value of 10 is 100\n"
     ]
    }
   ],
   "source": [
    "message = \"The squared value of {} is {}\"  \n",
    "# Tạo một chuỗi (string) mẫu, có 2 cặp {} để chèn giá trị vào sau này\n",
    "\n",
    "for i in [0, 1, 2, 8, 9, 10]:  \n",
    "    # Vòng lặp for duyệt qua danh sách [0, 1, 2, 8, 9, 10]\n",
    "    # Nghĩa là i sẽ lần lượt nhận các giá trị 0, 1, 2, 8, 9, 10\n",
    "    \n",
    "    print(message.format(i, i**2))  \n",
    "    # Sử dụng .format() để thay {} trong message:\n",
    "    # - {} thứ nhất thay bằng i\n",
    "    # - {} thứ hai thay bằng i**2 (bình phương của i)\n"
   ]
  },
  {
   "cell_type": "code",
   "execution_count": 4,
   "id": "d86e1fca-870d-4ef9-967a-68f54cf071b3",
   "metadata": {},
   "outputs": [
    {
     "name": "stdout",
     "output_type": "stream",
     "text": [
      "The squared value of 0 if 0\n",
      "The squared value of 1 if 1\n",
      "The squared value of 2 if 4\n",
      "The squared value of 8 if 64\n",
      "The squared value of 9 if 81\n",
      "The squared value of 10 if 100\n"
     ]
    }
   ],
   "source": []
  },
  {
   "cell_type": "code",
   "execution_count": 6,
   "id": "20adea04-5b81-4a40-818b-e5ec31857d86",
   "metadata": {},
   "outputs": [
    {
     "name": "stdout",
     "output_type": "stream",
     "text": [
      "There is(are) 9 letter(s) in the name: Pascaline\n",
      "There is(are) 8 letter(s) in the name: Gauthier\n",
      "There is(are) 4 letter(s) in the name: Xuan\n",
      "There is(are) 5 letter(s) in the name: Jimmy\n"
     ]
    }
   ],
   "source": [
    "message = \"There is(are) {} letter(s) in the name: {}\"\n",
    "for first_name in [\"Pascaline\", \"Gauthier\", \"Xuan\", \"Jimmy\"]:\n",
    "    print(message.format(len(first_name), first_name))"
   ]
  },
  {
   "cell_type": "code",
   "execution_count": 7,
   "id": "caf4d027-5400-4450-8d82-92028e79ea92",
   "metadata": {},
   "outputs": [
    {
     "name": "stdout",
     "output_type": "stream",
     "text": [
      "i equals 0 and j equals 0\n",
      "i equals 0 and j equals 1\n",
      "i equals 0 and j equals 2\n",
      "i equals 1 and j equals 0\n",
      "i equals 1 and j equals 1\n",
      "i equals 1 and j equals 2\n",
      "i equals 2 and j equals 0\n",
      "i equals 2 and j equals 1\n",
      "i equals 2 and j equals 2\n"
     ]
    }
   ],
   "source": [
    "message = \"i equals {} and j equals {}\"\n",
    "# Tạo chuỗi mẫu với 2 dấu {} để chèn giá trị của i và j vào sau này\n",
    "\n",
    "for i in range(0,3):\n",
    "    # Vòng lặp ngoài: i sẽ chạy từ 0 đến 2 (0, 1, 2)\n",
    "    \n",
    "    for j in range(0,3):\n",
    "        # Vòng lặp trong: với mỗi giá trị i, j sẽ chạy từ 0 đến 2 (0, 1, 2)\n",
    "        \n",
    "        print(message.format(i, j))\n",
    "        # In ra chuỗi message với i và j thay vào {}\n"
   ]
  },
  {
   "cell_type": "code",
   "execution_count": 8,
   "id": "82fc7cb4-7ae6-4522-a487-fdd725f7ced2",
   "metadata": {},
   "outputs": [
    {
     "name": "stdout",
     "output_type": "stream",
     "text": [
      "i equals 0 and j equals 0\n",
      "i equals 0 and j equals 1\n",
      "i equals 0 and j equals 2\n",
      "i equals 1 and j equals 0\n",
      "i equals 1 and j equals 1\n",
      "i equals 1 and j equals 2\n",
      "i equals 2 and j equals 0\n",
      "i equals 2 and j equals 1\n",
      "i equals 2 and j equals 2\n"
     ]
    }
   ],
   "source": [
    "message = \"i equals {} and j equals {}\"\n",
    "for i in range(0,3):\n",
    "    for j in range(0,3):\n",
    "        print(message.format(i,j))"
   ]
  },
  {
   "cell_type": "code",
   "execution_count": 10,
   "id": "25358bac-c6d6-4b92-b056-1dfdd80527f5",
   "metadata": {},
   "outputs": [
    {
     "name": "stdout",
     "output_type": "stream",
     "text": [
      "New value for j: 15\n",
      "New value for j: 20\n",
      "New value for j: 25\n",
      "New value for j: 30\n",
      "30\n"
     ]
    }
   ],
   "source": [
    "message = \"New value for j: {}\"\n",
    "# Tạo chuỗi mẫu có một {} để chèn giá trị j\n",
    "\n",
    "j = 10\n",
    "# Ban đầu gán j = 10\n",
    "\n",
    "for i in range(0, 4):\n",
    "    # Vòng lặp chạy i từ 0 đến 3 (tổng cộng 4 lần), i đại diện cho số vòng lập\n",
    "    \n",
    "    j += 5\n",
    "    # Mỗi lần lặp, cộng thêm 5 vào j\n",
    "    \n",
    "    print(message.format(j))\n",
    "    # In ra chuỗi message với giá trị mới của j\n",
    "print(j)\n"
   ]
  },
  {
   "cell_type": "markdown",
   "id": "539ac732-0ccd-42fa-a2ab-3aca68cb4ffd",
   "metadata": {},
   "source": [
    "# Exercise"
   ]
  },
  {
   "cell_type": "code",
   "execution_count": 12,
   "id": "c60a9bdc-1caa-474d-b972-7e4d408e8dd5",
   "metadata": {},
   "outputs": [
    {
     "name": "stdout",
     "output_type": "stream",
     "text": [
      "17 là số nguyên tố.\n"
     ]
    }
   ],
   "source": [
    "# 1. Định nghĩa một biến 'number'\n",
    "number = 17\n",
    "\n",
    "# Mặc định, giả sử số là số nguyên tố\n",
    "is_prime = True\n",
    "\n",
    "# Xử lý các trường hợp đặc biệt\n",
    "if number < 2:\n",
    "    is_prime = False\n",
    "elif number == 2:\n",
    "    is_prime = True\n",
    "else:\n",
    "    # 2. Dùng vòng lặp, kiểm tra các số từ 2 đến căn bậc hai của 'number'\n",
    "    # Nếu tìm thấy ước số, dừng lại\n",
    "    for i in range(2, int(number**0.5) + 1):\n",
    "        if number % i == 0:\n",
    "            is_prime = False\n",
    "            break # Dừng vòng lặp nếu tìm thấy ước số\n",
    "\n",
    "# 3. In kết quả\n",
    "if is_prime:\n",
    "    print(f\"{number} là số nguyên tố.\")\n",
    "else:\n",
    "    print(f\"{number} không phải là số nguyên tố.\")"
   ]
  },
  {
   "cell_type": "code",
   "execution_count": 13,
   "id": "f089beff-8a01-4691-924a-0b7ee192b638",
   "metadata": {},
   "outputs": [
    {
     "name": "stdout",
     "output_type": "stream",
     "text": [
      "\n",
      "Số bí ẩn 81 đã được tìm thấy!\n",
      "Mất 74 lần đoán để tìm ra số đó.\n"
     ]
    }
   ],
   "source": [
    "import random\n",
    "\n",
    "# 2. Chọn một số 'mystery_number' ngẫu nhiên từ 1 đến 100\n",
    "mystery_number = random.randint(1, 100)\n",
    "# (Thực tế, bạn sẽ không in dòng này ra để giữ bí mật)\n",
    "# print(f\"Số bí ẩn là: {mystery_number}\") \n",
    "\n",
    "nb_drawings = 0\n",
    "drawn_number = 0\n",
    "\n",
    "# Vòng lặp 'while' cho đến khi 'drawn_number' bằng 'mystery_number'\n",
    "while drawn_number != mystery_number:\n",
    "    drawn_number = random.randint(1, 100)\n",
    "    nb_drawings += 1\n",
    "    # print(f\"Lần đoán thứ {nb_drawings}: {drawn_number}\") # Có thể bỏ dòng này\n",
    "\n",
    "print(f\"\\nSố bí ẩn {mystery_number} đã được tìm thấy!\")\n",
    "print(f\"Mất {nb_drawings} lần đoán để tìm ra số đó.\")"
   ]
  },
  {
   "cell_type": "code",
   "execution_count": 14,
   "id": "b21fb67f-02e7-4b96-bd71-8fca6eeb17da",
   "metadata": {},
   "outputs": [
    {
     "name": "stdout",
     "output_type": "stream",
     "text": [
      "Các số chẵn từ 1 đến 20:\n",
      "2\n",
      "4\n",
      "6\n",
      "8\n",
      "10\n",
      "12\n",
      "14\n",
      "16\n",
      "18\n",
      "20\n"
     ]
    }
   ],
   "source": [
    "# 3. Sử dụng vòng lặp 'for' để quét các số từ 1 đến 20\n",
    "print(\"Các số chẵn từ 1 đến 20:\")\n",
    "for i in range(1, 21):\n",
    "    # Kiểm tra nếu số đó là số chẵn\n",
    "    if i % 2 == 0:\n",
    "        print(i)"
   ]
  },
  {
   "cell_type": "code",
   "execution_count": 15,
   "id": "ab4d1d6d-a0c0-4643-bb64-7acb51efe136",
   "metadata": {},
   "outputs": [
    {
     "name": "stdout",
     "output_type": "stream",
     "text": [
      "Dãy Fibonacci đến số hạng thứ 10:\n",
      "F_0: 0\n",
      "F_1: 1\n",
      "F_2: 1\n",
      "F_3: 2\n",
      "F_4: 3\n",
      "F_5: 5\n",
      "F_6: 8\n",
      "F_7: 13\n",
      "F_8: 21\n",
      "F_9: 34\n"
     ]
    }
   ],
   "source": [
    "# 4. Sử dụng vòng lặp 'for' để tính toán và hiển thị 10 số hạng đầu tiên của dãy Fibonacci\n",
    "# Các giá trị ban đầu\n",
    "f0 = 0\n",
    "f1 = 1\n",
    "\n",
    "print(\"Dãy Fibonacci đến số hạng thứ 10:\")\n",
    "\n",
    "# In 2 số hạng đầu tiên\n",
    "print(f\"F_0: {f0}\")\n",
    "print(f\"F_1: {f1}\")\n",
    "\n",
    "# Vòng lặp để tính các số hạng tiếp theo từ F_2 đến F_9 (tổng cộng 10 số hạng)\n",
    "for i in range(2, 10):\n",
    "    fn = f0 + f1\n",
    "    print(f\"F_{i}: {fn}\")\n",
    "    # Cập nhật giá trị cho lần lặp tiếp theo\n",
    "    f0 = f1\n",
    "    f1 = fn"
   ]
  },
  {
   "cell_type": "markdown",
   "id": "c59bad88-3064-4645-b6df-f715b2df04b4",
   "metadata": {},
   "source": [
    "# Kết thúc"
   ]
  },
  {
   "cell_type": "code",
   "execution_count": null,
   "id": "b67e4341-3124-4dd8-acf2-d4044d9d612e",
   "metadata": {},
   "outputs": [],
   "source": []
  }
 ],
 "metadata": {
  "kernelspec": {
   "display_name": "Python 3 (ipykernel)",
   "language": "python",
   "name": "python3"
  },
  "language_info": {
   "codemirror_mode": {
    "name": "ipython",
    "version": 3
   },
   "file_extension": ".py",
   "mimetype": "text/x-python",
   "name": "python",
   "nbconvert_exporter": "python",
   "pygments_lexer": "ipython3",
   "version": "3.12.1"
  }
 },
 "nbformat": 4,
 "nbformat_minor": 5
}
