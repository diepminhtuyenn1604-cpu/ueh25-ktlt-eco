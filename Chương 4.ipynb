{
 "cells": [
  {
   "cell_type": "markdown",
   "id": "38bd0d24-bc44-4fcd-9758-bae66f62303e",
   "metadata": {},
   "source": [
    "# CHƯƠNG 4: Operators"
   ]
  },
  {
   "cell_type": "markdown",
   "id": "b6f7e761-1a2a-40d3-b5b4-8b6551b946aa",
   "metadata": {},
   "source": [
    "#  Arithmetic Operators"
   ]
  },
  {
   "cell_type": "markdown",
   "id": "8e715f7d-0ac6-4a50-8653-999d6f349c8a",
   "metadata": {},
   "source": [
    "# Addition\n"
   ]
  },
  {
   "cell_type": "code",
   "execution_count": 2,
   "id": "eaf8f3b3-cac0-4637-ab0e-df78b270b0f1",
   "metadata": {},
   "outputs": [
    {
     "name": "stdout",
     "output_type": "stream",
     "text": [
      "2\n"
     ]
    }
   ],
   "source": [
    "print(1+1) # Addition\n"
   ]
  },
  {
   "cell_type": "markdown",
   "id": "affb8989-0840-4d8d-812d-88326bd8f839",
   "metadata": {},
   "source": [
    "# Subtraction"
   ]
  },
  {
   "cell_type": "code",
   "execution_count": 4,
   "id": "f5e7f56e-f74d-4056-aab7-9bece162d97d",
   "metadata": {},
   "outputs": [
    {
     "name": "stdout",
     "output_type": "stream",
     "text": [
      "0\n"
     ]
    }
   ],
   "source": [
    "print(1-1) # Subtractio (PHÉP TRÙ)"
   ]
  },
  {
   "cell_type": "markdown",
   "id": "fdb27e34-79dd-4b95-ae12-458b35b4f443",
   "metadata": {},
   "source": [
    "# Multiplication\n"
   ]
  },
  {
   "cell_type": "code",
   "execution_count": 5,
   "id": "e8bbaa23-1e8e-4d57-9418-8c3b01ea5e7f",
   "metadata": {},
   "outputs": [
    {
     "name": "stdout",
     "output_type": "stream",
     "text": [
      "4\n"
     ]
    }
   ],
   "source": [
    "print(2*2) # Multiplication"
   ]
  },
  {
   "cell_type": "markdown",
   "id": "6f0591f6-0a24-4bfc-a41f-7ed35a2a99ba",
   "metadata": {},
   "source": [
    "# Division"
   ]
  },
  {
   "cell_type": "code",
   "execution_count": 6,
   "id": "73beba9d-7cf7-4806-af26-c727cc6074a0",
   "metadata": {},
   "outputs": [
    {
     "name": "stdout",
     "output_type": "stream",
     "text": [
      "1.5\n"
     ]
    }
   ],
   "source": [
    "print(3/2) # Division (phép chia)"
   ]
  },
  {
   "cell_type": "markdown",
   "id": "44c83f27-7186-4046-a9ad-6e4671a3f65c",
   "metadata": {},
   "source": [
    "# Modulo"
   ]
  },
  {
   "cell_type": "code",
   "execution_count": 7,
   "id": "c7de6c78-91e7-4e50-85db-f7388f34da20",
   "metadata": {},
   "outputs": [
    {
     "name": "stdout",
     "output_type": "stream",
     "text": [
      "2\n"
     ]
    }
   ],
   "source": [
    "print(12 % 10)  #Dấu % trong Python là toán tử Modulo → trả về phần dư của phép chia.\n",
    "\n"
   ]
  },
  {
   "cell_type": "markdown",
   "id": "cb81d64b-ff58-41c2-a7ae-aee2918e8636",
   "metadata": {},
   "source": [
    "# Power"
   ]
  },
  {
   "cell_type": "code",
   "execution_count": 8,
   "id": "119861b1-f7d2-4ca5-9b93-8fd35403fa52",
   "metadata": {},
   "outputs": [
    {
     "name": "stdout",
     "output_type": "stream",
     "text": [
      "8\n"
     ]
    }
   ],
   "source": [
    "print(2 ** 3)   # Dấu ** là phép lũy thừa (power)\n",
    "                # 2 ** 3 = 2^3\n",
    "                # = 2 * 2 * 2\n",
    "                # = 8\n"
   ]
  },
  {
   "cell_type": "markdown",
   "id": "bb146ede-b4fe-4628-bb80-59243d7a3492",
   "metadata": {},
   "source": [
    "# Oder"
   ]
  },
  {
   "cell_type": "code",
   "execution_count": 9,
   "id": "a02dbf7a-bc1f-49d9-89fa-2bcdc32937f3",
   "metadata": {},
   "outputs": [
    {
     "name": "stdout",
     "output_type": "stream",
     "text": [
      "14\n",
      "20\n",
      "16\n",
      "7.0\n"
     ]
    }
   ],
   "source": [
    "#P → Parentheses (ngoặc đơn, thực hiện trước tiên)\n",
    "\n",
    "#E → Exponents (lũy thừa, căn bậc, …)\n",
    "\n",
    "#MD → Multiplication and Division (nhân và chia, từ trái sang phải)\n",
    "\n",
    "#AS → Addition and Subtraction (cộng và trừ, từ trái sang phải)\n",
    "print(2 + 3 * 4)      # Nhân trước, rồi cộng → 2 + (3*4) = 14\n",
    "print((2 + 3) * 4)    # Ngoặc trước → (2+3)*4 = 20\n",
    "print(2 ** 3 * 2)     # Lũy thừa trước → (2**3) * 2 = 16\n",
    "print(10 - 6 / 2)     # Chia trước → 10 - (6/2) = 7.0\n"
   ]
  },
  {
   "cell_type": "markdown",
   "id": "fdc39aed-d84e-4d66-8644-07577c66650b",
   "metadata": {},
   "source": [
    "# Mathematical Operators on Strings"
   ]
  },
  {
   "cell_type": "code",
   "execution_count": 11,
   "id": "03f127c1-da41-4b29-a775-b98bf48568da",
   "metadata": {},
   "outputs": [
    {
     "name": "stdout",
     "output_type": "stream",
     "text": [
      "eurodollar\n"
     ]
    },
    {
     "data": {
      "text/plain": [
       "'euroeuro'"
      ]
     },
     "execution_count": 11,
     "metadata": {},
     "output_type": "execute_result"
    }
   ],
   "source": [
    "a = \"euro\"\n",
    "b = \"dollar\"\n",
    "print(a+b)\n",
    "2*a\n"
   ]
  },
  {
   "cell_type": "markdown",
   "id": "e4a11ded-d8c2-4dde-be85-be8872b38be1",
   "metadata": {},
   "source": [
    "#  Mathematical Operators on Lists or tuples "
   ]
  },
  {
   "cell_type": "code",
   "execution_count": 12,
   "id": "bd8eb104-5d52-43d7-bd5a-e4774de530f5",
   "metadata": {},
   "outputs": [
    {
     "name": "stdout",
     "output_type": "stream",
     "text": [
      "[1, 'apple', 5, 7, 9, 11]\n"
     ]
    }
   ],
   "source": [
    "l_1 = [1, \"apple\", 5, 7]\n",
    "l_2 = [9, 11]\n",
    "print(l_1 + l_2)\n"
   ]
  },
  {
   "cell_type": "code",
   "execution_count": 13,
   "id": "a7d087cb-efd6-46f7-b691-a7c3203e7927",
   "metadata": {},
   "outputs": [
    {
     "name": "stdout",
     "output_type": "stream",
     "text": [
      "(1, 'apple', 5, 7, 9, 11)\n"
     ]
    }
   ],
   "source": [
    "t_1 = (1, \"apple\", 5, 7)\n",
    "t_2 = (9, 11)\n",
    "print(t_1 + t_2)"
   ]
  },
  {
   "cell_type": "markdown",
   "id": "06c9546e-ac7b-49dc-acd2-12ae02e203e2",
   "metadata": {},
   "source": [
    "# Equality, Inequality"
   ]
  },
  {
   "cell_type": "code",
   "execution_count": 16,
   "id": "37c2d00c-797b-4df3-8288-b53919a7e7b4",
   "metadata": {},
   "outputs": [
    {
     "name": "stdout",
     "output_type": "stream",
     "text": [
      "False\n",
      "True\n"
     ]
    }
   ],
   "source": [
    "a = \"Hello\"    # Biến a chứa chuỗi \"Hello\"\n",
    "b = \"World\"    # Biến b chứa chuỗi \"World\"\n",
    "c = \"World\"    # Biến c cũng chứa chuỗi \"World\"\n",
    "\n",
    "print(a == c)  # So sánh xem a có bằng c không\n",
    "print (c==b)\n"
   ]
  },
  {
   "cell_type": "code",
   "execution_count": 18,
   "id": "f31a87b2-3a52-41d8-bad8-756699071789",
   "metadata": {},
   "outputs": [
    {
     "name": "stdout",
     "output_type": "stream",
     "text": [
      "False\n",
      "True\n"
     ]
    }
   ],
   "source": [
    "x = [1,2,3]\n",
    "y = [1,2,3]\n",
    "z = [1,3,4]\n",
    "print(x != y)\n",
    "print ( x!=z)"
   ]
  },
  {
   "cell_type": "markdown",
   "id": "13d0dbe6-1143-4a6b-ba31-d904eb80e43d",
   "metadata": {},
   "source": [
    "# Inferiority and Superiority, Strict or Broad"
   ]
  },
  {
   "cell_type": "code",
   "execution_count": 19,
   "id": "c4cda6c8-1cfd-40c4-8056-1846b32f721b",
   "metadata": {},
   "outputs": [
    {
     "name": "stdout",
     "output_type": "stream",
     "text": [
      "False\n"
     ]
    }
   ],
   "source": [
    "x = 1\n",
    "y = 1\n",
    "z = 2\n",
    "print(x < y)"
   ]
  },
  {
   "cell_type": "code",
   "execution_count": 20,
   "id": "a5761fb8-d23e-44ee-b928-3733b272a4b0",
   "metadata": {},
   "outputs": [
    {
     "name": "stdout",
     "output_type": "stream",
     "text": [
      "True\n"
     ]
    }
   ],
   "source": [
    "print(x <= y)\n"
   ]
  },
  {
   "cell_type": "code",
   "execution_count": 22,
   "id": "31a00f8a-b87c-4237-8f69-84291e418131",
   "metadata": {},
   "outputs": [
    {
     "name": "stdout",
     "output_type": "stream",
     "text": [
      "True\n"
     ]
    }
   ],
   "source": [
    "\n",
    "m_1 = \"eat\"        # m_1 là chuỗi \"eat\"\n",
    "m_2 = \"eating\"    # m_2 là chuỗi \"eating\"\n",
    "m_3 = \"drinking\"  # m_3 là chuỗi \"drinking\"\n",
    "\n",
    "print(m_1 < m_2)  # So sánh thứ tự từ điển (lexicographical order)\n",
    "# before = đứng trước (nhỏ hơn theo thứ tự từ điển).\n",
    "# after = đứng sau (lớn hơn theo thứ tự từ điển).\n"
   ]
  },
  {
   "cell_type": "code",
   "execution_count": 1,
   "id": "8d22440b-ffc4-4eb4-8a5b-f8c1650e7471",
   "metadata": {},
   "outputs": [
    {
     "name": "stdout",
     "output_type": "stream",
     "text": [
      "True\n"
     ]
    }
   ],
   "source": [
    "x = [1, 3, 5, 7]\n",
    "y = [9, 11]\n",
    "\n",
    "print(x < y)\n"
   ]
  },
  {
   "cell_type": "code",
   "execution_count": 2,
   "id": "9b7be26e-c397-4102-9025-1b78aefff4fa",
   "metadata": {},
   "outputs": [
    {
     "name": "stdout",
     "output_type": "stream",
     "text": [
      "False\n"
     ]
    }
   ],
   "source": [
    "x = [10, 3, 5, 7]\n",
    "y = [9, 11]\n",
    "print(x < y)\n"
   ]
  },
  {
   "cell_type": "code",
   "execution_count": 3,
   "id": "5196b08e-e474-4262-8752-e1ff1217b528",
   "metadata": {},
   "outputs": [
    {
     "name": "stdout",
     "output_type": "stream",
     "text": [
      "True\n"
     ]
    }
   ],
   "source": [
    "x = [10, 3, 5, 7]\n",
    "y = [10, 11]\n",
    "print(x < y)\n"
   ]
  },
  {
   "cell_type": "markdown",
   "id": "e775d496-9504-41cb-bc39-a7d650331083",
   "metadata": {},
   "source": [
    "\n",
    "# Inclusion and exclusion"
   ]
  },
  {
   "cell_type": "code",
   "execution_count": 5,
   "id": "84037e62-0897-40aa-8b1c-168103d4c2b9",
   "metadata": {},
   "outputs": [
    {
     "name": "stdout",
     "output_type": "stream",
     "text": [
      "True\n"
     ]
    }
   ],
   "source": [
    "print(3 in [1,2, 3])"
   ]
  },
  {
   "cell_type": "code",
   "execution_count": 6,
   "id": "b36e4c05-5519-4bbb-bd3d-f9534e078444",
   "metadata": {},
   "outputs": [
    {
     "name": "stdout",
     "output_type": "stream",
     "text": [
      "True\n"
     ]
    }
   ],
   "source": [
    "print(4 not in [1,2, 3])\n"
   ]
  },
  {
   "cell_type": "code",
   "execution_count": 7,
   "id": "0ec89379-6eda-43c1-8545-d58abe2afd2a",
   "metadata": {},
   "outputs": [
    {
     "data": {
      "text/plain": [
       "True"
      ]
     },
     "execution_count": 7,
     "metadata": {},
     "output_type": "execute_result"
    }
   ],
   "source": [
    "dictionnaire = {\"nom\": \"Rockwell\", \"prenom\": \"Criquette\"}\n",
    "\"age\" not in dictionnaire.keys()\n"
   ]
  },
  {
   "cell_type": "markdown",
   "id": "51e3e9ff-64a5-493b-a25a-09f2db65968b",
   "metadata": {},
   "source": [
    "# Logical operators"
   ]
  },
  {
   "cell_type": "markdown",
   "id": "32ce1f91-85da-40d9-b2ef-924555113e4b",
   "metadata": {},
   "source": [
    "# And logical\n"
   ]
  },
  {
   "cell_type": "code",
   "execution_count": 8,
   "id": "39922ff9-7fb3-4b11-b70e-13b178711b38",
   "metadata": {},
   "outputs": [
    {
     "name": "stdout",
     "output_type": "stream",
     "text": [
      "True\n"
     ]
    }
   ],
   "source": [
    "x = True\n",
    "y = True\n",
    "print(x and y)"
   ]
  },
  {
   "cell_type": "code",
   "execution_count": 9,
   "id": "f633fefa-b1df-4ec5-bb0f-393bfb9c1fd4",
   "metadata": {},
   "outputs": [
    {
     "name": "stdout",
     "output_type": "stream",
     "text": [
      "None\n"
     ]
    }
   ],
   "source": [
    "x = True\n",
    "y = False\n",
    "z = None\n",
    "print(x and z) #Với and, Python sẽ trả về giá trị đầu tiên là Falsey, hoặc nếu tất cả đều True thì trả về giá trị cuối cùng."
   ]
  },
  {
   "cell_type": "markdown",
   "id": "20ca22f6-8f96-4585-8541-cb6cdca5d445",
   "metadata": {},
   "source": [
    "# Logical OR"
   ]
  },
  {
   "cell_type": "code",
   "execution_count": 11,
   "id": "10564ebf-40c2-46e4-8367-66e1b29df2a3",
   "metadata": {},
   "outputs": [
    {
     "name": "stdout",
     "output_type": "stream",
     "text": [
      "True\n",
      "False\n"
     ]
    }
   ],
   "source": [
    "x = True   # Gán biến x với giá trị Boolean True\n",
    "y = False  # Gán biến y với giá trị Boolean False\n",
    "\n",
    "print(x or y)  # Toán tử \"or\" sẽ trả về True nếu ít nhất một trong hai là True\n",
    "               # Ở đây x = True nên kết quả sẽ là True\n",
    "x = False\n",
    "y = False\n",
    "print(x or y) # TRẢ VỀ FALSE NẾU KHÔNG CÓ TRUE\n"
   ]
  },
  {
   "cell_type": "code",
   "execution_count": 12,
   "id": "4bae838b-7403-4014-9a07-eeb373fca6c7",
   "metadata": {},
   "outputs": [
    {
     "name": "stdout",
     "output_type": "stream",
     "text": [
      "True\n"
     ]
    }
   ],
   "source": [
    "x = True\n",
    "y = False\n",
    "z = None\n",
    "print(x or z)"
   ]
  },
  {
   "cell_type": "markdown",
   "id": "e41f2056-e4db-4f6c-ab7c-d1f8855fdcb1",
   "metadata": {},
   "source": [
    "# Logical Not"
   ]
  },
  {
   "cell_type": "code",
   "execution_count": 15,
   "id": "08228785-8f09-4d2f-8cb9-5db74a7b9884",
   "metadata": {},
   "outputs": [
    {
     "name": "stdout",
     "output_type": "stream",
     "text": [
      "False\n",
      "True\n"
     ]
    },
    {
     "data": {
      "text/plain": [
       "True"
      ]
     },
     "execution_count": 15,
     "metadata": {},
     "output_type": "execute_result"
    }
   ],
   "source": [
    "x = True    # gán biến x bằng True\n",
    "y = False   # gán biến y bằng False\n",
    "\n",
    "print(not x)  # toán tử \"not\" đảo ngược giá trị của x\n",
    "              # x = True  → not x = False\n",
    "              # nên in ra: False\n",
    "print(not y)\n",
    "x = None\n",
    "not x\n",
    "# using the operator not on an empty value (None), Python returns True:"
   ]
  },
  {
   "cell_type": "markdown",
   "id": "a4db0f5a-f632-4cc3-b216-ff48111e5a5b",
   "metadata": {},
   "source": [
    "# Exercise"
   ]
  },
  {
   "cell_type": "code",
   "execution_count": 16,
   "id": "e27ee2be-7308-47f5-bb66-39905ccefd07",
   "metadata": {},
   "outputs": [
    {
     "name": "stdout",
     "output_type": "stream",
     "text": [
      "1. 1\n",
      "2. 887\n",
      "3. a < b : False\n",
      "3. a >= b: True\n",
      "3. a != b: True\n",
      "4. 1 in x               : True\n",
      "4. 0 in x               : False\n",
      "4. 1 in x and 0 in x    : False\n",
      "4. 1 in x or 0 in x     : True\n",
      "4. not(1 in x or 0 in x): False\n"
     ]
    }
   ],
   "source": [
    "import math\n",
    "\n",
    "# 1. Remainder of Euclidean division of 10 by 3\n",
    "print(\"1.\", 10 % 3)  # 1\n",
    "\n",
    "# 2. Largest common divisor between 6209 and 4435\n",
    "print(\"2.\", math.gcd(6209, 4435))  # 7\n",
    "\n",
    "# 3. Compare a = 18 and b = -4\n",
    "a = 18\n",
    "b = -4\n",
    "print(\"3. a < b :\", a < b)    # False\n",
    "print(\"3. a >= b:\", a >= b)   # True\n",
    "print(\"3. a != b:\", a != b)   # True\n",
    "\n",
    "# 4. Membership test with list x\n",
    "x = [1, 1, 1, 2, 3, 5, 8]\n",
    "print(\"4. 1 in x               :\", 1 in x)                  # True\n",
    "print(\"4. 0 in x               :\", 0 in x)                  # False\n",
    "print(\"4. 1 in x and 0 in x    :\", 1 in x and 0 in x)       # False\n",
    "print(\"4. 1 in x or 0 in x     :\", 1 in x or 0 in x)        # True\n",
    "print(\"4. not(1 in x or 0 in x):\", not (1 in x or 0 in x))  # False\n"
   ]
  },
  {
   "cell_type": "markdown",
   "id": "35bf490c-f91c-4d3a-8af4-2c00fca56fcf",
   "metadata": {},
   "source": [
    "# Kết thúc"
   ]
  }
 ],
 "metadata": {
  "kernelspec": {
   "display_name": "Python 3 (ipykernel)",
   "language": "python",
   "name": "python3"
  },
  "language_info": {
   "codemirror_mode": {
    "name": "ipython",
    "version": 3
   },
   "file_extension": ".py",
   "mimetype": "text/x-python",
   "name": "python",
   "nbconvert_exporter": "python",
   "pygments_lexer": "ipython3",
   "version": "3.12.1"
  }
 },
 "nbformat": 4,
 "nbformat_minor": 5
}
