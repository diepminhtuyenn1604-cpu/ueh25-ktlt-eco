{
 "cells": [
  {
   "cell_type": "markdown",
   "id": "1786f920-a0e7-4202-92ac-bbf424319054",
   "metadata": {},
   "source": [
    "# CHƯƠNG 6: Conditions\n"
   ]
  },
  {
   "cell_type": "markdown",
   "id": "83b2fc49-ab27-4b97-8660-c1022c8a1729",
   "metadata": {},
   "source": [
    "# Conditional if Instructions\n"
   ]
  },
  {
   "cell_type": "code",
   "execution_count": 5,
   "id": "a50a191f-f7a2-4bdb-8062-d3c473f5b88f",
   "metadata": {},
   "outputs": [
    {
     "name": "stdout",
     "output_type": "stream",
     "text": [
      "Hello\n"
     ]
    }
   ],
   "source": [
    "\n",
    "x = 2\n",
    "if x == 2:\n",
    " print(\"Hello\")\n"
   ]
  },
  {
   "cell_type": "code",
   "execution_count": 23,
   "id": "2f305154-a5aa-4b16-99d7-7a9c2548cbdc",
   "metadata": {},
   "outputs": [
    {
     "name": "stdout",
     "output_type": "stream",
     "text": [
      "Hello, x vaut : 2\n"
     ]
    }
   ],
   "source": [
    "x = 2                       # Gán giá trị 2 cho biến x\n",
    "\n",
    "if x == 2:                  # Kiểm tra điều kiện: nếu x bằng 2 thì thực hiện khối lệnh bên trong\n",
    "    y = \"Hello\"             # Vì x == 2 nên gán chuỗi \"Hello\" cho biến y\n",
    "\n",
    "print(y + \", x vaut : \" + str(x))  \n",
    "# In ra màn hình nội dung:\n",
    "#   - y (là \"Hello\")\n",
    "#   - cộng thêm chuỗi \", x vaut : \"\n",
    "#   - cộng thêm giá trị của x nhưng phải chuyển thành chuỗi bằng str(x)\n",
    "# Kết quả: \"Hello, x vaut : 2\""
   ]
  },
  {
   "cell_type": "markdown",
   "id": "2a24e755-29cd-4daa-819b-f6457cd46092",
   "metadata": {},
   "source": [
    "# if-else Conditional Instructions\n"
   ]
  },
  {
   "cell_type": "code",
   "execution_count": 24,
   "id": "5db39ff6-700f-4f03-a05d-9b03fbac7ef5",
   "metadata": {},
   "outputs": [
    {
     "name": "stdout",
     "output_type": "stream",
     "text": [
      "It is cold out there\n"
     ]
    }
   ],
   "source": [
    "temperature = 26\n",
    "heat = \"\"\n",
    "\n",
    "if temperature > 28:\n",
    "    heat = \"hot\"       # thụt vào 4 dấu cách\n",
    "else:\n",
    "    heat = \"cold\"      # cũng thụt vào\n",
    "\n",
    "print(\"It is \" + heat + \" out there\")\n"
   ]
  },
  {
   "cell_type": "code",
   "execution_count": 32,
   "id": "af70e4b4-cced-4fe9-84fe-ffa4b1c62a6c",
   "metadata": {},
   "outputs": [
    {
     "name": "stdout",
     "output_type": "stream",
     "text": [
      "It is hot out there\n"
     ]
    }
   ],
   "source": [
    "temperature = 32\n",
    "heat = \"\"\n",
    "\n",
    "if temperature> 28:\n",
    "    heat = \"hot\"\n",
    "else:\n",
    "    heat = \"cold\"\n",
    "print(\"It is \" + heat + \" out there\")"
   ]
  },
  {
   "cell_type": "markdown",
   "id": "a7db1a52-767a-4691-b7e6-570dfded852e",
   "metadata": {},
   "source": [
    "# if-elif Conditional Instructions"
   ]
  },
  {
   "cell_type": "code",
   "execution_count": 1,
   "id": "d6494c82-ecc2-434e-98da-5e3fe185ca18",
   "metadata": {},
   "outputs": [
    {
     "name": "stdout",
     "output_type": "stream",
     "text": [
      "It is very cold out there\n"
     ]
    }
   ],
   "source": [
    "temperature = -4          # Gán nhiệt độ bằng -4\n",
    "heat = \"\"                 # Khởi tạo biến heat rỗng\n",
    "\n",
    "if temperature > 28:      # Nếu nhiệt độ lớn hơn 28\n",
    "    heat = \"hot\"          # gán \"hot\" cho heat\n",
    "elif temperature <= 28 and temperature > 15:   # Nếu không, mà nhiệt độ ≤ 28 và > 15\n",
    "    heat = \"not too hot\"  # gán \"not too hot\"\n",
    "elif temperature <= 15 and temperature > 0:    # Nếu không, mà nhiệt độ ≤ 15 và > 0\n",
    "    heat = \"cold\"         # gán \"cold\"\n",
    "else:                     # Nếu không thỏa 3 điều kiện trên (tức là ≤ 0)\n",
    "    heat = \"very cold\"    # gán \"very cold\"\n",
    "\n",
    "print(\"It is \" + heat + \" out there\")\n",
    "# Kết quả in ra: \"It is very cold out there\"\n"
   ]
  },
  {
   "cell_type": "markdown",
   "id": "3a6d42aa-7593-41d6-8b87-6e6eaef24a0f",
   "metadata": {},
   "source": [
    "# Exercise"
   ]
  },
  {
   "cell_type": "code",
   "execution_count": 2,
   "id": "44421039-78ac-4ba3-b9c4-85be41bac26a",
   "metadata": {},
   "outputs": [
    {
     "name": "stdout",
     "output_type": "stream",
     "text": [
      "Country: Spain\n",
      "Continent: Europe\n"
     ]
    }
   ],
   "source": [
    "# Danh sách các nước\n",
    "europe = [\"Germany\", \"France\", \"Spain\"]\n",
    "asia = [\"Vietnam\", \"China\", \"India\"]\n",
    "\n",
    "# B1: Khởi tạo biến country và continent\n",
    "country = \"Spain\"\n",
    "continent = \"\"\n",
    "\n",
    "# B2: Dùng if - elif - else để kiểm tra\n",
    "if country in europe:\n",
    "    continent = \"Europe\"\n",
    "elif country in asia:\n",
    "    continent = \"Asia\"\n",
    "else:\n",
    "    continent = \"Other\"\n",
    "\n",
    "# B3: In kết quả\n",
    "print(\"Country:\", country)\n",
    "print(\"Continent:\", continent)\n"
   ]
  },
  {
   "cell_type": "markdown",
   "id": "3376385a-3b45-4236-8bde-375e1cd58876",
   "metadata": {},
   "source": [
    "# Kết thúc"
   ]
  },
  {
   "cell_type": "code",
   "execution_count": null,
   "id": "99e0121a-93a3-4653-807d-c5c81f902525",
   "metadata": {},
   "outputs": [],
   "source": []
  }
 ],
 "metadata": {
  "kernelspec": {
   "display_name": "Python 3 (ipykernel)",
   "language": "python",
   "name": "python3"
  },
  "language_info": {
   "codemirror_mode": {
    "name": "ipython",
    "version": 3
   },
   "file_extension": ".py",
   "mimetype": "text/x-python",
   "name": "python",
   "nbconvert_exporter": "python",
   "pygments_lexer": "ipython3",
   "version": "3.12.1"
  }
 },
 "nbformat": 4,
 "nbformat_minor": 5
}
